{
 "cells": [
  {
   "cell_type": "markdown",
   "metadata": {
    "id": "D3RN44yNRi6Y"
   },
   "source": [
    "# Exercise and Solution - RDFLib\n",
    "\n",
    "Ruijie Wang, Pascal Severin Andermatt | 28-09-2021 Based on [rdflib 6.2.0 documentation](https://rdflib.readthedocs.io/en/stable/#)."
   ]
  },
  {
   "cell_type": "markdown",
   "metadata": {
    "id": "EQdTipsg44WO"
   },
   "source": [
    "## 1. Installation"
   ]
  },
  {
   "cell_type": "code",
   "execution_count": 1,
   "metadata": {},
   "outputs": [
    {
     "name": "stdout",
     "output_type": "stream",
     "text": [
      "Requirement already satisfied: rdflib in /Users/wangruijie/opt/anaconda3/lib/python3.8/site-packages (6.2.0)\n",
      "Requirement already satisfied: pyparsing in /Users/wangruijie/opt/anaconda3/lib/python3.8/site-packages (from rdflib) (2.4.7)\n",
      "Requirement already satisfied: setuptools in /Users/wangruijie/opt/anaconda3/lib/python3.8/site-packages (from rdflib) (50.3.1.post20201107)\n",
      "Requirement already satisfied: isodate in /Users/wangruijie/opt/anaconda3/lib/python3.8/site-packages (from rdflib) (0.6.1)\n",
      "Requirement already satisfied: six in /Users/wangruijie/opt/anaconda3/lib/python3.8/site-packages (from isodate->rdflib) (1.15.0)\n"
     ]
    }
   ],
   "source": [
    "!pip install rdflib"
   ]
  },
  {
   "cell_type": "markdown",
   "metadata": {
    "id": "oYdPz-Q66nav"
   },
   "source": [
    "## 2. Load, check, and save a knowledge graph"
   ]
  },
  {
   "cell_type": "code",
   "execution_count": 2,
   "metadata": {
    "id": "b8Rdhgs2_5Ls"
   },
   "outputs": [
    {
     "name": "stdout",
     "output_type": "stream",
     "text": [
      "@prefix ns1: <http://www.wikidata.org/prop/direct/> .\n",
      "@prefix ns2: <http://example.org/property/> .\n",
      "\n",
      "<http://example.org/movies/Star_Wars_Episode_VII_The_Force_Awakens>\n",
      "    ns2:title \"Star Wars Episode VII: The Force Awakens\" ;\n",
      "    ns2:rating 8.1 ;\n",
      "    ns2:tag \"good_versus_evil\"@en,\n",
      "        \"humor\"@en,\n",
      "        \"murder\"@en,\n",
      "        \"revenge\"@en,\n",
      "        \"violence\"@en ;\n",
      "    ns2:description \"2015 American epic space opera film directed by J. J. Abrams\"@en ;\n",
      "    ns1:P31 <http://www.wikidata.org/entity/Q229390>,\n",
      "        <http://www.wikidata.org/entity/Q24869> .\n",
      "        \n",
      "<http://example.org/movies/Pirates_of_the_Caribbean_On_Stranger_Tides> \n",
      "    ns2:title \"Pirates of the Caribbean: On Stranger Tides\";\n",
      "    ns2:tag \"action\"@en,\n",
      "        \"boring\"@en,\n",
      "        \"entertaining\"@en,\n",
      "        \"fantasy\"@en,\n",
      "        \"murder\"@en,\n",
      "        \"revenge\"@en ;\n",
      "    ns2:description \"2011 film by Rob Marshall\"@en ;\n",
      "    ns1:P31 <http://www.wikidata.org/entity/Q229390>,\n",
      "        <http://www.wikidata.org/entity/Q24869> .\n",
      "\n",
      "<http://www.wikidata.org/entity/Alice_in_Wonderland>\n",
      "    ns2:title \"Alice in Wonderland\";\n",
      "    ns2:tag \"alternate_reality\"@en,\n",
      "        \"fantasy\"@en,\n",
      "        \"flashback\"@en,\n",
      "        \"insanity\"@en,\n",
      "        \"inspiring\"@en,\n",
      "        \"psychedelic\"@en ;\n",
      "    ns2:description \"2010 film by Tim Burton, produced by Walt Disney\"@en ;\n",
      "    ns1:P31 <http://www.wikidata.org/entity/Q229390>,\n",
      "        <http://www.wikidata.org/entity/Q24869> .\n"
     ]
    }
   ],
   "source": [
    "# check the raw data in the file \"small_graph.ttl\"\n",
    "!cat small_graph.ttl"
   ]
  },
  {
   "cell_type": "code",
   "execution_count": 3,
   "metadata": {
    "colab": {
     "base_uri": "https://localhost:8080/"
    },
    "executionInfo": {
     "elapsed": 412,
     "status": "ok",
     "timestamp": 1632172353944,
     "user": {
      "displayName": "Go Friday",
      "photoUrl": "https://lh3.googleusercontent.com/a/default-user=s64",
      "userId": "04257507274310331112"
     },
     "user_tz": -120
    },
    "id": "tKbxiz25B5tx",
    "outputId": "8750d680-0961-4ef9-da46-098b65de528c"
   },
   "outputs": [
    {
     "data": {
      "text/plain": [
       "<Graph identifier=N24ad8cdc1ad54b90bd8819f60f1ea997 (<class 'rdflib.graph.Graph'>)>"
      ]
     },
     "execution_count": 3,
     "metadata": {},
     "output_type": "execute_result"
    }
   ],
   "source": [
    "from rdflib import Graph\n",
    "\n",
    "# Create a Graph\n",
    "g = Graph()\n",
    "\n",
    "# Parse an RDF file.\n",
    "g.parse(source='small_graph.ttl', format='turtle')"
   ]
  },
  {
   "cell_type": "code",
   "execution_count": 3,
   "metadata": {
    "collapsed": true,
    "jupyter": {
     "outputs_hidden": true,
     "source_hidden": true
    }
   },
   "outputs": [
    {
     "data": {
      "text/plain": [
       "<Graph identifier=N3ada16f053324aeabe3f50c034133138 (<class 'rdflib.graph.Graph'>)>"
      ]
     },
     "execution_count": 3,
     "metadata": {},
     "output_type": "execute_result"
    }
   ],
   "source": [
    "from rdflib import Graph\n",
    "\n",
    "# Create a Graph\n",
    "g = Graph()\n",
    "\n",
    "# Parse an RDF file.\n",
    "g.parse(source='small_graph.ttl', format='turtle')"
   ]
  },
  {
   "cell_type": "code",
   "execution_count": 4,
   "metadata": {},
   "outputs": [
    {
     "name": "stdout",
     "output_type": "stream",
     "text": [
      "the number of triples in the graph: 30\n"
     ]
    }
   ],
   "source": [
    "# check the number of triples in the graph\n",
    "print('the number of triples in the graph: {}'.format(len(g)))"
   ]
  },
  {
   "cell_type": "code",
   "execution_count": 4,
   "metadata": {
    "collapsed": true,
    "jupyter": {
     "outputs_hidden": true,
     "source_hidden": true
    }
   },
   "outputs": [
    {
     "name": "stdout",
     "output_type": "stream",
     "text": [
      "the number of triples in the graph: 30\n"
     ]
    }
   ],
   "source": [
    "# check the number of triples in the graph\n",
    "print('the number of triples in the graph: {}'.format(len(g)))"
   ]
  },
  {
   "cell_type": "code",
   "execution_count": 5,
   "metadata": {},
   "outputs": [
    {
     "name": "stdout",
     "output_type": "stream",
     "text": [
      "<http://example.org/movies/Star_Wars_Episode_VII_The_Force_Awakens> <http://example.org/property/tag> \"humor\"@en .\n",
      "<http://example.org/movies/Pirates_of_the_Caribbean_On_Stranger_Tides> <http://www.wikidata.org/prop/direct/P31> <http://www.wikidata.org/entity/Q24869> .\n",
      "<http://example.org/movies/Pirates_of_the_Caribbean_On_Stranger_Tides> <http://www.wikidata.org/prop/direct/P31> <http://www.wikidata.org/entity/Q229390> .\n",
      "<http://www.wikidata.org/entity/Alice_in_Wonderland> <http://example.org/property/tag> \"psychedelic\"@en .\n",
      "<http://www.wikidata.org/entity/Alice_in_Wonderland> <http://example.org/property/tag> \"insanity\"@en .\n",
      "<http://example.org/movies/Star_Wars_Episode_VII_The_Force_Awakens> <http://example.org/property/tag> \"murder\"@en .\n",
      "<http://example.org/movies/Pirates_of_the_Caribbean_On_Stranger_Tides> <http://example.org/property/title> \"Pirates of the Caribbean: On Stranger Tides\" .\n",
      "<http://example.org/movies/Pirates_of_the_Caribbean_On_Stranger_Tides> <http://example.org/property/tag> \"revenge\"@en .\n",
      "<http://example.org/movies/Star_Wars_Episode_VII_The_Force_Awakens> <http://example.org/property/title> \"Star Wars Episode VII: The Force Awakens\" .\n",
      "<http://example.org/movies/Star_Wars_Episode_VII_The_Force_Awakens> <http://example.org/property/tag> \"violence\"@en .\n",
      "<http://www.wikidata.org/entity/Alice_in_Wonderland> <http://example.org/property/title> \"Alice in Wonderland\" .\n",
      "<http://example.org/movies/Pirates_of_the_Caribbean_On_Stranger_Tides> <http://example.org/property/tag> \"action\"@en .\n",
      "<http://www.wikidata.org/entity/Alice_in_Wonderland> <http://example.org/property/description> \"2010 film by Tim Burton, produced by Walt Disney\"@en .\n",
      "<http://example.org/movies/Star_Wars_Episode_VII_The_Force_Awakens> <http://example.org/property/description> \"2015 American epic space opera film directed by J. J. Abrams\"@en .\n",
      "<http://www.wikidata.org/entity/Alice_in_Wonderland> <http://example.org/property/tag> \"fantasy\"@en .\n",
      "<http://example.org/movies/Pirates_of_the_Caribbean_On_Stranger_Tides> <http://example.org/property/description> \"2011 film by Rob Marshall\"@en .\n",
      "<http://example.org/movies/Star_Wars_Episode_VII_The_Force_Awakens> <http://www.wikidata.org/prop/direct/P31> <http://www.wikidata.org/entity/Q24869> .\n",
      "<http://example.org/movies/Pirates_of_the_Caribbean_On_Stranger_Tides> <http://example.org/property/tag> \"murder\"@en .\n",
      "<http://www.wikidata.org/entity/Alice_in_Wonderland> <http://example.org/property/tag> \"flashback\"@en .\n",
      "<http://example.org/movies/Pirates_of_the_Caribbean_On_Stranger_Tides> <http://example.org/property/tag> \"boring\"@en .\n",
      "<http://example.org/movies/Pirates_of_the_Caribbean_On_Stranger_Tides> <http://example.org/property/tag> \"fantasy\"@en .\n",
      "<http://www.wikidata.org/entity/Alice_in_Wonderland> <http://example.org/property/tag> \"inspiring\"@en .\n",
      "<http://example.org/movies/Star_Wars_Episode_VII_The_Force_Awakens> <http://www.wikidata.org/prop/direct/P31> <http://www.wikidata.org/entity/Q229390> .\n",
      "<http://www.wikidata.org/entity/Alice_in_Wonderland> <http://example.org/property/tag> \"alternate_reality\"@en .\n",
      "<http://example.org/movies/Star_Wars_Episode_VII_The_Force_Awakens> <http://example.org/property/tag> \"revenge\"@en .\n",
      "<http://example.org/movies/Star_Wars_Episode_VII_The_Force_Awakens> <http://example.org/property/rating> \"8.1\"^^<http://www.w3.org/2001/XMLSchema#decimal> .\n",
      "<http://example.org/movies/Pirates_of_the_Caribbean_On_Stranger_Tides> <http://example.org/property/tag> \"entertaining\"@en .\n",
      "<http://www.wikidata.org/entity/Alice_in_Wonderland> <http://www.wikidata.org/prop/direct/P31> <http://www.wikidata.org/entity/Q24869> .\n",
      "<http://example.org/movies/Star_Wars_Episode_VII_The_Force_Awakens> <http://example.org/property/tag> \"good_versus_evil\"@en .\n",
      "<http://www.wikidata.org/entity/Alice_in_Wonderland> <http://www.wikidata.org/prop/direct/P31> <http://www.wikidata.org/entity/Q229390> .\n",
      "\n"
     ]
    }
   ],
   "source": [
    "# print the graph in the format of ntriples\n",
    "print(g.serialize(format='nt'))"
   ]
  },
  {
   "cell_type": "code",
   "execution_count": 5,
   "metadata": {
    "collapsed": true,
    "jupyter": {
     "outputs_hidden": true,
     "source_hidden": true
    }
   },
   "outputs": [
    {
     "name": "stdout",
     "output_type": "stream",
     "text": [
      "<http://www.wikidata.org/entity/Alice_in_Wonderland> <http://example.org/property/tag> \"psychedelic\"@en .\n",
      "<http://example.org/movies/Star_Wars_Episode_VII_The_Force_Awakens> <http://example.org/property/tag> \"humor\"@en .\n",
      "<http://example.org/movies/Pirates_of_the_Caribbean_On_Stranger_Tides> <http://example.org/property/tag> \"revenge\"@en .\n",
      "<http://example.org/movies/Pirates_of_the_Caribbean_On_Stranger_Tides> <http://example.org/property/tag> \"entertaining\"@en .\n",
      "<http://example.org/movies/Pirates_of_the_Caribbean_On_Stranger_Tides> <http://example.org/property/description> \"2011 film by Rob Marshall\"@en .\n",
      "<http://www.wikidata.org/entity/Alice_in_Wonderland> <http://example.org/property/title> \"Alice in Wonderland\" .\n",
      "<http://www.wikidata.org/entity/Alice_in_Wonderland> <http://example.org/property/tag> \"inspiring\"@en .\n",
      "<http://example.org/movies/Pirates_of_the_Caribbean_On_Stranger_Tides> <http://example.org/property/title> \"Pirates of the Caribbean: On Stranger Tides\" .\n",
      "<http://example.org/movies/Star_Wars_Episode_VII_The_Force_Awakens> <http://www.wikidata.org/prop/direct/P31> <http://www.wikidata.org/entity/Q24869> .\n",
      "<http://example.org/movies/Star_Wars_Episode_VII_The_Force_Awakens> <http://www.wikidata.org/prop/direct/P31> <http://www.wikidata.org/entity/Q229390> .\n",
      "<http://www.wikidata.org/entity/Alice_in_Wonderland> <http://www.wikidata.org/prop/direct/P31> <http://www.wikidata.org/entity/Q229390> .\n",
      "<http://www.wikidata.org/entity/Alice_in_Wonderland> <http://www.wikidata.org/prop/direct/P31> <http://www.wikidata.org/entity/Q24869> .\n",
      "<http://www.wikidata.org/entity/Alice_in_Wonderland> <http://example.org/property/tag> \"alternate_reality\"@en .\n",
      "<http://example.org/movies/Star_Wars_Episode_VII_The_Force_Awakens> <http://example.org/property/tag> \"murder\"@en .\n",
      "<http://example.org/movies/Pirates_of_the_Caribbean_On_Stranger_Tides> <http://example.org/property/tag> \"fantasy\"@en .\n",
      "<http://example.org/movies/Star_Wars_Episode_VII_The_Force_Awakens> <http://example.org/property/title> \"Star Wars Episode VII: The Force Awakens\" .\n",
      "<http://example.org/movies/Star_Wars_Episode_VII_The_Force_Awakens> <http://example.org/property/rating> \"8.1\"^^<http://www.w3.org/2001/XMLSchema#decimal> .\n",
      "<http://example.org/movies/Pirates_of_the_Caribbean_On_Stranger_Tides> <http://www.wikidata.org/prop/direct/P31> <http://www.wikidata.org/entity/Q24869> .\n",
      "<http://example.org/movies/Pirates_of_the_Caribbean_On_Stranger_Tides> <http://www.wikidata.org/prop/direct/P31> <http://www.wikidata.org/entity/Q229390> .\n",
      "<http://example.org/movies/Star_Wars_Episode_VII_The_Force_Awakens> <http://example.org/property/tag> \"violence\"@en .\n",
      "<http://example.org/movies/Star_Wars_Episode_VII_The_Force_Awakens> <http://example.org/property/tag> \"good_versus_evil\"@en .\n",
      "<http://example.org/movies/Star_Wars_Episode_VII_The_Force_Awakens> <http://example.org/property/tag> \"revenge\"@en .\n",
      "<http://example.org/movies/Pirates_of_the_Caribbean_On_Stranger_Tides> <http://example.org/property/tag> \"murder\"@en .\n",
      "<http://www.wikidata.org/entity/Alice_in_Wonderland> <http://example.org/property/tag> \"flashback\"@en .\n",
      "<http://example.org/movies/Star_Wars_Episode_VII_The_Force_Awakens> <http://example.org/property/description> \"2015 American epic space opera film directed by J. J. Abrams\"@en .\n",
      "<http://www.wikidata.org/entity/Alice_in_Wonderland> <http://example.org/property/tag> \"fantasy\"@en .\n",
      "<http://example.org/movies/Pirates_of_the_Caribbean_On_Stranger_Tides> <http://example.org/property/tag> \"action\"@en .\n",
      "<http://www.wikidata.org/entity/Alice_in_Wonderland> <http://example.org/property/description> \"2010 film by Tim Burton, produced by Walt Disney\"@en .\n",
      "<http://example.org/movies/Pirates_of_the_Caribbean_On_Stranger_Tides> <http://example.org/property/tag> \"boring\"@en .\n",
      "<http://www.wikidata.org/entity/Alice_in_Wonderland> <http://example.org/property/tag> \"insanity\"@en .\n",
      "\n"
     ]
    }
   ],
   "source": [
    "# print the graph in the format of ntriples\n",
    "print(g.serialize(format='nt'))"
   ]
  },
  {
   "cell_type": "code",
   "execution_count": 6,
   "metadata": {
    "colab": {
     "base_uri": "https://localhost:8080/"
    },
    "executionInfo": {
     "elapsed": 403,
     "status": "ok",
     "timestamp": 1632172693417,
     "user": {
      "displayName": "Go Friday",
      "photoUrl": "https://lh3.googleusercontent.com/a/default-user=s64",
      "userId": "04257507274310331112"
     },
     "user_tz": -120
    },
    "id": "Q52QOm40DlNt",
    "outputId": "500e3dff-4c02-496e-ccaf-858a0cdbb34d"
   },
   "outputs": [
    {
     "name": "stdout",
     "output_type": "stream",
     "text": [
      "The graph has 3 unique subjects.\n",
      "subjects: {rdflib.term.URIRef('http://example.org/movies/Pirates_of_the_Caribbean_On_Stranger_Tides'), rdflib.term.URIRef('http://www.wikidata.org/entity/Alice_in_Wonderland'), rdflib.term.URIRef('http://example.org/movies/Star_Wars_Episode_VII_The_Force_Awakens')}\n",
      "The graph has 5 unique predicates.\n",
      "predicates: {rdflib.term.URIRef('http://example.org/property/tag'), rdflib.term.URIRef('http://example.org/property/title'), rdflib.term.URIRef('http://www.wikidata.org/prop/direct/P31'), rdflib.term.URIRef('http://example.org/property/description'), rdflib.term.URIRef('http://example.org/property/rating')}\n",
      "The graph has 23 unique objects.\n",
      "objects: {rdflib.term.Literal('good_versus_evil', lang='en'), rdflib.term.Literal('8.1', datatype=rdflib.term.URIRef('http://www.w3.org/2001/XMLSchema#decimal')), rdflib.term.Literal('2010 film by Tim Burton, produced by Walt Disney', lang='en'), rdflib.term.Literal('psychedelic', lang='en'), rdflib.term.Literal('2015 American epic space opera film directed by J. J. Abrams', lang='en'), rdflib.term.Literal('humor', lang='en'), rdflib.term.Literal('2011 film by Rob Marshall', lang='en'), rdflib.term.Literal('Pirates of the Caribbean: On Stranger Tides'), rdflib.term.Literal('flashback', lang='en'), rdflib.term.Literal('inspiring', lang='en'), rdflib.term.Literal('fantasy', lang='en'), rdflib.term.Literal('action', lang='en'), rdflib.term.Literal('murder', lang='en'), rdflib.term.Literal('Star Wars Episode VII: The Force Awakens'), rdflib.term.Literal('Alice in Wonderland'), rdflib.term.URIRef('http://www.wikidata.org/entity/Q24869'), rdflib.term.Literal('boring', lang='en'), rdflib.term.Literal('violence', lang='en'), rdflib.term.Literal('entertaining', lang='en'), rdflib.term.Literal('revenge', lang='en'), rdflib.term.Literal('insanity', lang='en'), rdflib.term.Literal('alternate_reality', lang='en'), rdflib.term.URIRef('http://www.wikidata.org/entity/Q229390')}\n"
     ]
    }
   ],
   "source": [
    "# get all subjects, predicates and objects from the graph\n",
    "unique_subjects = set(g.subjects())\n",
    "unique_predicates = set(g.predicates())\n",
    "unique_objects = set(g.objects())\n",
    "\n",
    "print(f\"The graph has {len(unique_subjects)} unique subjects.\")\n",
    "print(f\"subjects: {unique_subjects}\")\n",
    "\n",
    "print(f\"The graph has {len(unique_predicates)} unique predicates.\")\n",
    "print(f\"predicates: {unique_predicates}\")\n",
    "\n",
    "print(f\"The graph has {len(unique_objects)} unique objects.\")\n",
    "print(f\"objects: {unique_objects}\")\n"
   ]
  },
  {
   "cell_type": "code",
   "execution_count": 6,
   "metadata": {
    "collapsed": true,
    "jupyter": {
     "outputs_hidden": true,
     "source_hidden": true
    }
   },
   "outputs": [
    {
     "name": "stdout",
     "output_type": "stream",
     "text": [
      "The graph has 3 unique subjects.\n",
      "subjects: {rdflib.term.URIRef('http://example.org/movies/Star_Wars_Episode_VII_The_Force_Awakens'), rdflib.term.URIRef('http://example.org/movies/Pirates_of_the_Caribbean_On_Stranger_Tides'), rdflib.term.URIRef('http://www.wikidata.org/entity/Alice_in_Wonderland')}\n",
      "The graph has 5 unique predicates.\n",
      "predicates: {rdflib.term.URIRef('http://example.org/property/description'), rdflib.term.URIRef('http://example.org/property/tag'), rdflib.term.URIRef('http://example.org/property/rating'), rdflib.term.URIRef('http://example.org/property/title'), rdflib.term.URIRef('http://www.wikidata.org/prop/direct/P31')}\n",
      "The graph has 23 unique objects.\n",
      "objects: {rdflib.term.Literal('8.1', datatype=rdflib.term.URIRef('http://www.w3.org/2001/XMLSchema#decimal')), rdflib.term.Literal('Pirates of the Caribbean: On Stranger Tides'), rdflib.term.Literal('Star Wars Episode VII: The Force Awakens'), rdflib.term.Literal('action', lang='en'), rdflib.term.Literal('psychedelic', lang='en'), rdflib.term.Literal('insanity', lang='en'), rdflib.term.Literal('flashback', lang='en'), rdflib.term.Literal('inspiring', lang='en'), rdflib.term.Literal('entertaining', lang='en'), rdflib.term.Literal('Alice in Wonderland'), rdflib.term.Literal('2010 film by Tim Burton, produced by Walt Disney', lang='en'), rdflib.term.Literal('fantasy', lang='en'), rdflib.term.Literal('boring', lang='en'), rdflib.term.Literal('2011 film by Rob Marshall', lang='en'), rdflib.term.Literal('revenge', lang='en'), rdflib.term.URIRef('http://www.wikidata.org/entity/Q229390'), rdflib.term.Literal('good_versus_evil', lang='en'), rdflib.term.Literal('violence', lang='en'), rdflib.term.Literal('humor', lang='en'), rdflib.term.URIRef('http://www.wikidata.org/entity/Q24869'), rdflib.term.Literal('alternate_reality', lang='en'), rdflib.term.Literal('2015 American epic space opera film directed by J. J. Abrams', lang='en'), rdflib.term.Literal('murder', lang='en')}\n"
     ]
    }
   ],
   "source": [
    "# get all subjects, predicates and objects from the graph\n",
    "unique_subjects = set(g.subjects())\n",
    "unique_predicates = set(g.predicates())\n",
    "unique_objects = set(g.objects())\n",
    "\n",
    "print(f\"The graph has {len(unique_subjects)} unique subjects.\")\n",
    "print(f\"subjects: {unique_subjects}\")\n",
    "\n",
    "print(f\"The graph has {len(unique_predicates)} unique predicates.\")\n",
    "print(f\"predicates: {unique_predicates}\")\n",
    "\n",
    "print(f\"The graph has {len(unique_objects)} unique objects.\")\n",
    "print(f\"objects: {unique_objects}\")"
   ]
  },
  {
   "cell_type": "markdown",
   "metadata": {
    "id": "PvYDvtBIEgVA"
   },
   "source": [
    "## 3. Basic operations"
   ]
  },
  {
   "cell_type": "code",
   "execution_count": 8,
   "metadata": {
    "id": "_fAlXdQgwmNI"
   },
   "outputs": [
    {
     "name": "stdout",
     "output_type": "stream",
     "text": [
      "- number of triples: 32\n",
      "http://example.org/movie/Finding_Dory http://example.org/property/title Finding_Dory\n",
      "http://example.org/movie/Finding_Dory http://example.org/property/rating 9.0\n"
     ]
    }
   ],
   "source": [
    "from rdflib import URIRef, BNode, Literal, Namespace\n",
    "\n",
    "namespace_movie = Namespace(\"http://example.org/movie/\")\n",
    "title_pred = URIRef(\"http://example.org/property/title\")\n",
    "rating_pred = URIRef(\"http://example.org/property/rating\")\n",
    "\n",
    "# Create a movie object for Finding_Dory\n",
    "movie = namespace_movie[\"Finding_Dory\"]\n",
    "\n",
    "# Create the rating 9.0 and title for Finding_Dory\n",
    "rating = Literal(9.0)\n",
    "title = Literal(\"Finding_Dory\", lang='en')\n",
    "\n",
    "# Add the movie to the graph with its rating and title\n",
    "g.add((movie, title_pred, title))\n",
    "g.add((movie, rating_pred, rating))\n",
    "\n",
    "# check if the Finding_Dory triples have been added\n",
    "print('- number of triples: {}'.format(len(g)))\n",
    "for s, p, o in g.triples((movie, None, None)):\n",
    "    print(s, p, o)"
   ]
  },
  {
   "cell_type": "code",
   "execution_count": 7,
   "metadata": {
    "collapsed": true,
    "jupyter": {
     "outputs_hidden": true,
     "source_hidden": true
    }
   },
   "outputs": [
    {
     "name": "stdout",
     "output_type": "stream",
     "text": [
      "- number of triples: 32\n",
      "http://example.org/movie/Finding_Dory http://example.org/property/title Finding_Dory\n",
      "http://example.org/movie/Finding_Dory http://example.org/property/rating 9.0\n"
     ]
    }
   ],
   "source": [
    "from rdflib import URIRef, BNode, Literal, Namespace\n",
    "\n",
    "namespace_movie = Namespace(\"http://example.org/movie/\")\n",
    "title_pred = URIRef(\"http://example.org/property/title\")\n",
    "rating_pred = URIRef(\"http://example.org/property/rating\")\n",
    "\n",
    "# Create a movie object for Finding_Dory\n",
    "movie = namespace_movie['Finding_Dory']\n",
    "\n",
    "# Create the rating 9.0 and title for Finding_Dory\n",
    "rating = Literal(9.0)\n",
    "title = Literal('Finding_Dory', lang='en')\n",
    "\n",
    "# Add the movie to the graph with its rating and title\n",
    "g.add((movie, title_pred, title))\n",
    "g.add((movie, rating_pred, rating))\n",
    "\n",
    "# check if the Finding_Dory triples have been added\n",
    "print('- number of triples: {}'.format(len(g)))\n",
    "for s, p, o in g.triples((movie, None, None)):\n",
    "    print(s, p, o)"
   ]
  },
  {
   "cell_type": "code",
   "execution_count": 10,
   "metadata": {},
   "outputs": [
    {
     "name": "stdout",
     "output_type": "stream",
     "text": [
      "found one movie http://example.org/movies/Star_Wars_Episode_VII_The_Force_Awakens with the title: Star Wars Episode VII: The Force Awakens\n",
      "\t the rating of this movie is: 8.1\n",
      "found one movie http://example.org/movies/Pirates_of_the_Caribbean_On_Stranger_Tides with the title: Pirates of the Caribbean: On Stranger Tides\n",
      "found one movie http://www.wikidata.org/entity/Alice_in_Wonderland with the title: Alice in Wonderland\n",
      "found one movie http://example.org/movie/Finding_Dory with the title: Finding_Dory\n",
      "\t the rating of this movie is: 9.0\n"
     ]
    }
   ],
   "source": [
    "# first get all movies that have titles\n",
    "for s, p, o in g.triples((None, title_pred, None)):\n",
    "    print('found one movie {} with the title: {}'.format(s, o))\n",
    "\n",
    "    # then check ratings of the movie if it exists\n",
    "    for rate in g.objects(s, rating_pred):\n",
    "        print('\\t the rating of this movie is: {}'.format(rate))\n",
    "        "
   ]
  },
  {
   "cell_type": "code",
   "execution_count": 9,
   "metadata": {
    "collapsed": true,
    "jupyter": {
     "outputs_hidden": true,
     "source_hidden": true
    }
   },
   "outputs": [
    {
     "name": "stdout",
     "output_type": "stream",
     "text": [
      "found one movie http://example.org/movies/Star_Wars_Episode_VII_The_Force_Awakens with the title: Star Wars Episode VII: The Force Awakens\n",
      "\t the rating of this movie is: 8.1\n",
      "found one movie http://example.org/movies/Pirates_of_the_Caribbean_On_Stranger_Tides with the title: Pirates of the Caribbean: On Stranger Tides\n",
      "found one movie http://www.wikidata.org/entity/Alice_in_Wonderland with the title: Alice in Wonderland\n",
      "found one movie http://example.org/movie/Finding_Dory with the title: Finding_Dory\n",
      "\t the rating of this movie is: 9.0\n"
     ]
    }
   ],
   "source": [
    "# first get all movies that have titles\n",
    "for s, p, o in g.triples((None, title_pred, None)):\n",
    "    print('found one movie {} with the title: {}'.format(s, o))\n",
    "\n",
    "    # then check the rating of the retrieved movie if it exists\n",
    "    for o in g.objects(s, rating_pred):\n",
    "        print('\\t the rating of this movie is: {}'.format(o))\n",
    "        "
   ]
  },
  {
   "cell_type": "code",
   "execution_count": 11,
   "metadata": {
    "colab": {
     "base_uri": "https://localhost:8080/"
    },
    "executionInfo": {
     "elapsed": 415,
     "status": "ok",
     "timestamp": 1632173862860,
     "user": {
      "displayName": "Go Friday",
      "photoUrl": "https://lh3.googleusercontent.com/a/default-user=s64",
      "userId": "04257507274310331112"
     },
     "user_tz": -120
    },
    "id": "XCX6cEJdJKOf",
    "outputId": "a1c339a1-0f5c-4b58-a76c-bb4f2b64880f"
   },
   "outputs": [
    {
     "name": "stdout",
     "output_type": "stream",
     "text": [
      "- number of triples: 30\n"
     ]
    }
   ],
   "source": [
    "# Now we remove all triples that have Finding_Dory as the subject\n",
    "g.remove((movie, None, None))\n",
    "\n",
    "# check if the Finding_Dory triples have been removed\n",
    "print('- number of triples: {}'.format(len(g)))\n",
    "for s, p, o in g.triples((movie, None, None)):\n",
    "    print(s, p, o)"
   ]
  },
  {
   "cell_type": "code",
   "execution_count": 10,
   "metadata": {
    "collapsed": true,
    "jupyter": {
     "outputs_hidden": true,
     "source_hidden": true
    }
   },
   "outputs": [
    {
     "name": "stdout",
     "output_type": "stream",
     "text": [
      "- number of triples: 30\n"
     ]
    }
   ],
   "source": [
    "# Now we remove all triples that have Finding_Dory as the subject\n",
    "g.remove((movie, None, None))\n",
    "\n",
    "# check if the Finding_Dory triples have been removed\n",
    "print('- number of triples: {}'.format(len(g)))\n",
    "for s, p, o in g.triples((movie, None, None)):\n",
    "    print(s, p, o)"
   ]
  },
  {
   "cell_type": "code",
   "execution_count": null,
   "metadata": {},
   "outputs": [],
   "source": []
  }
 ],
 "metadata": {
  "colab": {
   "authorship_tag": "ABX9TyNlzZiCkQK0YxrszDb8tqkE",
   "collapsed_sections": [
    "8k_jw0WpxGXd",
    "EQdTipsg44WO",
    "oYdPz-Q66nav",
    "TGuQGQ3Zxg16",
    "P10j87ocxknm",
    "RKNx-SbIxoh4"
   ],
   "name": "tutorial - rdflib.ipynb",
   "provenance": []
  },
  "kernelspec": {
   "display_name": "Python 3",
   "language": "python",
   "name": "python3"
  },
  "language_info": {
   "codemirror_mode": {
    "name": "ipython",
    "version": 3
   },
   "file_extension": ".py",
   "mimetype": "text/x-python",
   "name": "python",
   "nbconvert_exporter": "python",
   "pygments_lexer": "ipython3",
   "version": "3.8.5"
  },
  "vscode": {
   "interpreter": {
    "hash": "ce2cff08cd15a34cfbbe13a586664ebd350757fd030a545d831779bd59aaad32"
   }
  }
 },
 "nbformat": 4,
 "nbformat_minor": 4
}
