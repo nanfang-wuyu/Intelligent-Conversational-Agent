{
 "cells": [
  {
   "cell_type": "markdown",
   "metadata": {
    "id": "D3RN44yNRi6Y"
   },
   "source": [
    "# Exercise - RDFLib\n",
    "\n",
    "Ruijie Wang, Pascal Severin Andermatt | 28-09-2021 Based on [rdflib 6.2.0 documentation](https://rdflib.readthedocs.io/en/stable/#)."
   ]
  },
  {
   "cell_type": "markdown",
   "metadata": {
    "id": "EQdTipsg44WO"
   },
   "source": [
    "## 1. Installation"
   ]
  },
  {
   "cell_type": "code",
   "execution_count": null,
   "metadata": {},
   "outputs": [],
   "source": [
    "!pip install rdflib"
   ]
  },
  {
   "cell_type": "markdown",
   "metadata": {
    "id": "oYdPz-Q66nav"
   },
   "source": [
    "## 2. Load, check, and save a knowledge graph"
   ]
  },
  {
   "cell_type": "code",
   "execution_count": 1,
   "metadata": {
    "id": "b8Rdhgs2_5Ls"
   },
   "outputs": [
    {
     "name": "stdout",
     "output_type": "stream",
     "text": [
      "@prefix ns1: <http://www.wikidata.org/prop/direct/> .\n",
      "@prefix ns2: <http://example.org/property/> .\n",
      "\n",
      "<http://example.org/movies/Star_Wars_Episode_VII_The_Force_Awakens>\n",
      "    ns2:title \"Star Wars Episode VII: The Force Awakens\" ;\n",
      "    ns2:rating 8.1 ;\n",
      "    ns2:tag \"good_versus_evil\"@en,\n",
      "        \"humor\"@en,\n",
      "        \"murder\"@en,\n",
      "        \"revenge\"@en,\n",
      "        \"violence\"@en ;\n",
      "    ns2:description \"2015 American epic space opera film directed by J. J. Abrams\"@en ;\n",
      "    ns1:P31 <http://www.wikidata.org/entity/Q229390>,\n",
      "        <http://www.wikidata.org/entity/Q24869> .\n",
      "        \n",
      "<http://example.org/movies/Pirates_of_the_Caribbean_On_Stranger_Tides> \n",
      "    ns2:title \"Pirates of the Caribbean: On Stranger Tides\";\n",
      "    ns2:tag \"action\"@en,\n",
      "        \"boring\"@en,\n",
      "        \"entertaining\"@en,\n",
      "        \"fantasy\"@en,\n",
      "        \"murder\"@en,\n",
      "        \"revenge\"@en ;\n",
      "    ns2:description \"2011 film by Rob Marshall\"@en ;\n",
      "    ns1:P31 <http://www.wikidata.org/entity/Q229390>,\n",
      "        <http://www.wikidata.org/entity/Q24869> .\n",
      "\n",
      "<http://www.wikidata.org/entity/Alice_in_Wonderland>\n",
      "    ns2:title \"Alice in Wonderland\";\n",
      "    ns2:tag \"alternate_reality\"@en,\n",
      "        \"fantasy\"@en,\n",
      "        \"flashback\"@en,\n",
      "        \"insanity\"@en,\n",
      "        \"inspiring\"@en,\n",
      "        \"psychedelic\"@en ;\n",
      "    ns2:description \"2010 film by Tim Burton, produced by Walt Disney\"@en ;\n",
      "    ns1:P31 <http://www.wikidata.org/entity/Q229390>,\n",
      "        <http://www.wikidata.org/entity/Q24869> .\n"
     ]
    }
   ],
   "source": [
    "# check the raw data in the file \"small_graph.ttl\"\n",
    "!cat small_graph.ttl"
   ]
  },
  {
   "cell_type": "code",
   "execution_count": null,
   "metadata": {
    "colab": {
     "base_uri": "https://localhost:8080/"
    },
    "executionInfo": {
     "elapsed": 412,
     "status": "ok",
     "timestamp": 1632172353944,
     "user": {
      "displayName": "Go Friday",
      "photoUrl": "https://lh3.googleusercontent.com/a/default-user=s64",
      "userId": "04257507274310331112"
     },
     "user_tz": -120
    },
    "id": "tKbxiz25B5tx",
    "outputId": "8750d680-0961-4ef9-da46-098b65de528c"
   },
   "outputs": [],
   "source": [
    "from rdflib import Graph\n",
    "\n",
    "# Create a Graph\n",
    "g = ...\n",
    "\n",
    "# Parse an RDF file.\n",
    "g.parse(...)"
   ]
  },
  {
   "cell_type": "code",
   "execution_count": null,
   "metadata": {},
   "outputs": [],
   "source": [
    "# check the number of triples in the graph\n",
    "print('the number of triples in the graph: {}'.format(...))"
   ]
  },
  {
   "cell_type": "code",
   "execution_count": null,
   "metadata": {},
   "outputs": [],
   "source": [
    "# print the graph in the format of ntriples\n",
    "..."
   ]
  },
  {
   "cell_type": "code",
   "execution_count": null,
   "metadata": {
    "colab": {
     "base_uri": "https://localhost:8080/"
    },
    "executionInfo": {
     "elapsed": 403,
     "status": "ok",
     "timestamp": 1632172693417,
     "user": {
      "displayName": "Go Friday",
      "photoUrl": "https://lh3.googleusercontent.com/a/default-user=s64",
      "userId": "04257507274310331112"
     },
     "user_tz": -120
    },
    "id": "Q52QOm40DlNt",
    "outputId": "500e3dff-4c02-496e-ccaf-858a0cdbb34d"
   },
   "outputs": [],
   "source": [
    "# get all subjects, predicates and objects from the graph\n",
    "unique_subjects = set(...)\n",
    "unique_predicates = set(...)\n",
    "unique_objects = set(...)\n",
    "\n",
    "print(f\"The graph has {len(unique_subjects)} unique subjects.\")\n",
    "print(f\"subjects: {unique_subjects}\")\n",
    "\n",
    "print(f\"The graph has {len(unique_predicates)} unique predicates.\")\n",
    "print(f\"predicates: {unique_predicates}\")\n",
    "\n",
    "print(f\"The graph has {len(unique_objects)} unique objects.\")\n",
    "print(f\"objects: {unique_objects}\")\n"
   ]
  },
  {
   "cell_type": "markdown",
   "metadata": {
    "id": "PvYDvtBIEgVA"
   },
   "source": [
    "## 3. Basic operations"
   ]
  },
  {
   "cell_type": "code",
   "execution_count": null,
   "metadata": {
    "id": "_fAlXdQgwmNI"
   },
   "outputs": [],
   "source": [
    "from rdflib import URIRef, BNode, Literal, Namespace\n",
    "\n",
    "namespace_movie = Namespace(\"http://example.org/movie/\")\n",
    "title_pred = URIRef(\"http://example.org/property/title\")\n",
    "rating_pred = URIRef(\"http://example.org/property/rating\")\n",
    "\n",
    "# Create a movie object for Finding_Dory\n",
    "movie = namespace_movie[\"...\"]\n",
    "\n",
    "# Create the rating 9.0 and title for Finding_Dory\n",
    "rating = Literal(...)\n",
    "title = Literal(...)\n",
    "\n",
    "# Add the movie to the graph with its rating and title\n",
    "g.add((..., ..., ...))\n",
    "g.add((..., ..., ...))\n",
    "\n",
    "# check if the Finding_Dory triples have been added\n",
    "print('- number of triples: {}'.format(len(g)))\n",
    "for s, p, o in g.triples(...):\n",
    "    print(s, p, o)"
   ]
  },
  {
   "cell_type": "code",
   "execution_count": null,
   "metadata": {},
   "outputs": [],
   "source": [
    "# first get all movies that have titles\n",
    "for s, p, o in g.triples(...):\n",
    "    print('found one movie {} with the title: {}'.format(s, o))\n",
    "\n",
    "    # then check ratings of the movie if it exists\n",
    "    for ... in g.objects(...):\n",
    "        print('\\t the rating of this movie is: {}'.format(...))\n",
    "        "
   ]
  },
  {
   "cell_type": "code",
   "execution_count": null,
   "metadata": {
    "colab": {
     "base_uri": "https://localhost:8080/"
    },
    "executionInfo": {
     "elapsed": 415,
     "status": "ok",
     "timestamp": 1632173862860,
     "user": {
      "displayName": "Go Friday",
      "photoUrl": "https://lh3.googleusercontent.com/a/default-user=s64",
      "userId": "04257507274310331112"
     },
     "user_tz": -120
    },
    "id": "XCX6cEJdJKOf",
    "outputId": "a1c339a1-0f5c-4b58-a76c-bb4f2b64880f"
   },
   "outputs": [],
   "source": [
    "# Now we remove all triples that have Finding_Dory as the subject\n",
    "...\n",
    "\n",
    "# check if the Finding_Dory triples have been removed\n",
    "print('- number of triples: {}'.format(len(g)))\n",
    "for s, p, o in g.triples((movie, None, None)):\n",
    "    print(s, p, o)"
   ]
  }
 ],
 "metadata": {
  "colab": {
   "authorship_tag": "ABX9TyNlzZiCkQK0YxrszDb8tqkE",
   "collapsed_sections": [
    "8k_jw0WpxGXd",
    "EQdTipsg44WO",
    "oYdPz-Q66nav",
    "TGuQGQ3Zxg16",
    "P10j87ocxknm",
    "RKNx-SbIxoh4"
   ],
   "name": "tutorial - rdflib.ipynb",
   "provenance": []
  },
  "kernelspec": {
   "display_name": "Python 3",
   "language": "python",
   "name": "python3"
  },
  "language_info": {
   "codemirror_mode": {
    "name": "ipython",
    "version": 3
   },
   "file_extension": ".py",
   "mimetype": "text/x-python",
   "name": "python",
   "nbconvert_exporter": "python",
   "pygments_lexer": "ipython3",
   "version": "3.8.5"
  },
  "vscode": {
   "interpreter": {
    "hash": "ce2cff08cd15a34cfbbe13a586664ebd350757fd030a545d831779bd59aaad32"
   }
  }
 },
 "nbformat": 4,
 "nbformat_minor": 4
}
