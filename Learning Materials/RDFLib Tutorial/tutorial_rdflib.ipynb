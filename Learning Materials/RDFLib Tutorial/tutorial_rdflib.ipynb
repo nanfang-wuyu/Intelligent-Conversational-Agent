{
 "cells": [
  {
   "cell_type": "markdown",
   "metadata": {
    "id": "D3RN44yNRi6Y"
   },
   "source": [
    "# Tutorial - RDFLib\n",
    "\n",
    "Ruijie Wang | 28-09-2022\n",
    "Based on [rdflib 6.2.0 documentation](https://rdflib.readthedocs.io/en/stable/#)."
   ]
  },
  {
   "cell_type": "markdown",
   "metadata": {
    "id": "8k_jw0WpxGXd"
   },
   "source": [
    "## 1. Introduction\n",
    "\n",
    "* RDFLib is a Python package for working with knowledge graphs. \n",
    "\n",
    "* It has been published on [PyPI](https://pypi.org/project/rdflib/). We can install it via Python's package manager `pip`."
   ]
  },
  {
   "cell_type": "code",
   "execution_count": 1,
   "metadata": {
    "colab": {
     "base_uri": "https://localhost:8080/"
    },
    "executionInfo": {
     "elapsed": 4705,
     "status": "ok",
     "timestamp": 1632171043924,
     "user": {
      "displayName": "Go Friday",
      "photoUrl": "https://lh3.googleusercontent.com/a/default-user=s64",
      "userId": "04257507274310331112"
     },
     "user_tz": -120
    },
    "id": "iyE2xuzbu6w4",
    "outputId": "eeb03561-358f-4ef0-a109-420ad026ab1a"
   },
   "outputs": [
    {
     "name": "stdout",
     "output_type": "stream",
     "text": [
      "Requirement already satisfied: rdflib in /Users/wangruijie/opt/anaconda3/lib/python3.8/site-packages (6.2.0)\n",
      "Requirement already satisfied: pyparsing in /Users/wangruijie/opt/anaconda3/lib/python3.8/site-packages (from rdflib) (2.4.7)\n",
      "Requirement already satisfied: isodate in /Users/wangruijie/opt/anaconda3/lib/python3.8/site-packages (from rdflib) (0.6.1)\n",
      "Requirement already satisfied: setuptools in /Users/wangruijie/opt/anaconda3/lib/python3.8/site-packages (from rdflib) (50.3.1.post20201107)\n",
      "Requirement already satisfied: six in /Users/wangruijie/opt/anaconda3/lib/python3.8/site-packages (from isodate->rdflib) (1.15.0)\n"
     ]
    }
   ],
   "source": [
    "!pip install rdflib"
   ]
  },
  {
   "cell_type": "markdown",
   "metadata": {},
   "source": [
    "* RDFLib has the following features:\n",
    "    * Parsers & Serializers (RDF/XML, N3, NTriples, N-Quads, Turtle, TriX, JSON-LD, RDFa and Microdata)\n",
    "\n",
    "    * Store implementations (for in-memory and persistent knowledge graph storage)\n",
    "\n",
    "    * Graph interface (for single graphs and datasets of multiple graphs)\n",
    "\n",
    "    * SPARQL 1.1 implementation (both Queries and Updates are supported)"
   ]
  },
  {
   "cell_type": "markdown",
   "metadata": {},
   "source": [
    "## 2. Questions to Consider\n",
    "\n",
    "* How to create entities and relations?\n",
    "\n",
    "* How to create a knowledge graph?\n",
    "\n",
    "* How to store and load knowledge graphs?\n",
    "\n",
    "* How to search in knowledge graphs?\n"
   ]
  },
  {
   "cell_type": "markdown",
   "metadata": {},
   "source": [
    "## 3. How to create entities and relations?"
   ]
  },
  {
   "cell_type": "markdown",
   "metadata": {},
   "source": [
    "* There are three classes in RDFlib that we can use to create entities and relations: [URIRef](https://rdflib.readthedocs.io/en/stable/apidocs/rdflib.html#rdflib.term.URIRef), [BNode](https://rdflib.readthedocs.io/en/stable/apidocs/rdflib.html#rdflib.term.BNode), and [Literal](https://rdflib.readthedocs.io/en/stable/apidocs/rdflib.html#rdflib.term.Literal)."
   ]
  },
  {
   "cell_type": "markdown",
   "metadata": {},
   "source": [
    "### 3.1 URIRef\n",
    "\n",
    "* URIRef can be used to create both entities and relations that have exact URIs."
   ]
  },
  {
   "cell_type": "code",
   "execution_count": 2,
   "metadata": {},
   "outputs": [
    {
     "name": "stdout",
     "output_type": "stream",
     "text": [
      " UZH entity: http://example.org/UZH,\n",
      " university entity: http://example.org/University,\n",
      " data type relation: http://www.w3.org/1999/02/22-rdf-syntax-ns#type\n"
     ]
    }
   ],
   "source": [
    "from rdflib import URIRef\n",
    "\n",
    "# create example entities\n",
    "uzh = URIRef('http://example.org/UZH')\n",
    "university = URIRef('http://example.org/University')\n",
    "\n",
    "# create an example relation\n",
    "data_type = URIRef('http://www.w3.org/1999/02/22-rdf-syntax-ns#type')\n",
    "\n",
    "print(' UZH entity: {},\\n university entity: {},\\n data type relation: {}'.format(uzh, university, data_type))"
   ]
  },
  {
   "cell_type": "markdown",
   "metadata": {},
   "source": [
    "* RDFLib supports defining namespaces when creating entities/relations with URIs."
   ]
  },
  {
   "cell_type": "code",
   "execution_count": 3,
   "metadata": {},
   "outputs": [],
   "source": [
    "from rdflib import Namespace\n",
    "\n",
    "# define a namespace\n",
    "EX = Namespace('http://example.org/')"
   ]
  },
  {
   "cell_type": "markdown",
   "metadata": {},
   "source": [
    "* There are two styles of creating entities in defined namespaces."
   ]
  },
  {
   "cell_type": "code",
   "execution_count": 4,
   "metadata": {},
   "outputs": [
    {
     "name": "stdout",
     "output_type": "stream",
     "text": [
      " UZH entity: http://example.org/UZH,\n",
      " university entity: http://example.org/University\n"
     ]
    }
   ],
   "source": [
    "# object attribute-like style\n",
    "uzh = EX.UZH\n",
    "\n",
    "# dictionary-like style \n",
    "university = EX['University']\n",
    "\n",
    "print(' UZH entity: {},\\n university entity: {}'.format(uzh, university))"
   ]
  },
  {
   "cell_type": "markdown",
   "metadata": {},
   "source": [
    "* Several commonly used namespaces, such as RDF, RDFS, OWL, and FOAF, have been pre-defined in RDFLib."
   ]
  },
  {
   "cell_type": "code",
   "execution_count": 5,
   "metadata": {},
   "outputs": [
    {
     "name": "stdout",
     "output_type": "stream",
     "text": [
      " data type relation: http://www.w3.org/1999/02/22-rdf-syntax-ns#type\n"
     ]
    }
   ],
   "source": [
    "from rdflib.namespace import RDF\n",
    "\n",
    "# define a URIRef relation with a pre-defined namespace\n",
    "data_type = RDF.type\n",
    "\n",
    "print(' data type relation: {}'.format(data_type))"
   ]
  },
  {
   "cell_type": "markdown",
   "metadata": {},
   "source": [
    "### 3.2 BNode\n",
    "\n",
    "* BNode is used to create entities that have unknown URIs - usually entities with identity in relation to other entities."
   ]
  },
  {
   "cell_type": "code",
   "execution_count": 6,
   "metadata": {},
   "outputs": [
    {
     "name": "stdout",
     "output_type": "stream",
     "text": [
      " a blank node: N44368b058dd240bd8401888a0326ec74\n"
     ]
    }
   ],
   "source": [
    "from rdflib import BNode\n",
    "\n",
    "# create a blank node\n",
    "enrolled_students = BNode()\n",
    "\n",
    "# balnk nodes are local identifiers for unnamed entities in knowledge graphs\n",
    "print(' a blank node: {}'.format(enrolled_students))"
   ]
  },
  {
   "cell_type": "markdown",
   "metadata": {},
   "source": [
    "### 3.3 Literal\n",
    "\n",
    "* Literals are used to create attribute values, such as a person's name, a date, a number, etc. "
   ]
  },
  {
   "cell_type": "code",
   "execution_count": 7,
   "metadata": {},
   "outputs": [
    {
     "name": "stdout",
     "output_type": "stream",
     "text": [
      " uzh label: University of Zurich\n"
     ]
    }
   ],
   "source": [
    "from rdflib import Literal\n",
    "\n",
    "# create a literal\n",
    "uzh_label = Literal('University of Zurich')\n",
    "\n",
    "print(' uzh label: {}'.format(uzh_label))"
   ]
  },
  {
   "cell_type": "markdown",
   "metadata": {},
   "source": [
    "* You can specify data types when creating literals."
   ]
  },
  {
   "cell_type": "code",
   "execution_count": 8,
   "metadata": {},
   "outputs": [
    {
     "name": "stdout",
     "output_type": "stream",
     "text": [
      " number of students: 28000,\n",
      " uzh label: University of Zurich\n"
     ]
    },
    {
     "data": {
      "text/plain": [
       "rdflib.term.Literal('University of Zurich', lang='en')"
      ]
     },
     "execution_count": 8,
     "metadata": {},
     "output_type": "execute_result"
    }
   ],
   "source": [
    "# import XSD (XML Schema Definition) to define datatypes\n",
    "from rdflib.namespace import XSD\n",
    "\n",
    "# define an integer literal\n",
    "num_students = Literal(28000, datatype=XSD.integer)\n",
    "\n",
    "# define a strig literal with a language tag\n",
    "uzh_label = Literal('University of Zurich', lang='en')\n",
    "\n",
    "print(' number of students: {},\\n uzh label: {}'.format(num_students, uzh_label))\n",
    "\n",
    "uzh_label"
   ]
  },
  {
   "cell_type": "markdown",
   "metadata": {},
   "source": [
    "## 4. How to create a knowledge graph?"
   ]
  },
  {
   "cell_type": "markdown",
   "metadata": {},
   "source": [
    "* RDFLib defines the class [Graph](https://rdflib.readthedocs.io/en/stable/apidocs/rdflib.html#rdflib.graph.Graph) for organizing knowledge graphs."
   ]
  },
  {
   "cell_type": "code",
   "execution_count": 9,
   "metadata": {},
   "outputs": [
    {
     "name": "stdout",
     "output_type": "stream",
     "text": [
      " number of triples: 0\n"
     ]
    }
   ],
   "source": [
    "from rdflib import Graph\n",
    "\n",
    "# create a knowledge graph object\n",
    "uzh_graph = Graph()\n",
    "\n",
    "# check the number of triples in a knowledge graph\n",
    "print(' number of triples: {}'.format(len(uzh_graph)))"
   ]
  },
  {
   "cell_type": "markdown",
   "metadata": {},
   "source": [
    "* The function [add()](https://rdflib.readthedocs.io/en/stable/apidocs/rdflib.html#rdflib.graph.Graph.add) can be used to add triples to a knowledge graph:"
   ]
  },
  {
   "cell_type": "code",
   "execution_count": 10,
   "metadata": {},
   "outputs": [
    {
     "name": "stdout",
     "output_type": "stream",
     "text": [
      "umber of triples: 4\n"
     ]
    }
   ],
   "source": [
    "# add triples to the UZH knowledge graph\n",
    "\n",
    "uzh_graph.add((uzh, data_type, university))\n",
    "uzh_graph.add((uzh, EX.has, enrolled_students))\n",
    "uzh_graph.add((enrolled_students, EX.size, num_students))\n",
    "uzh_graph.add((uzh, EX.label, uzh_label))\n",
    "\n",
    "print('umber of triples: {}'.format(len(uzh_graph)))"
   ]
  },
  {
   "cell_type": "markdown",
   "metadata": {},
   "source": [
    "* The `for x in y:` loop can be used to loop through all triples in a knowledge graph\n",
    "* A triple can be regarded as a tuple of three elements"
   ]
  },
  {
   "cell_type": "code",
   "execution_count": 11,
   "metadata": {},
   "outputs": [
    {
     "name": "stdout",
     "output_type": "stream",
     "text": [
      " triple-0: (http://example.org/UZH, http://example.org/label, University of Zurich)\n",
      " triple-1: (http://example.org/UZH, http://example.org/has, N44368b058dd240bd8401888a0326ec74)\n",
      " triple-2: (http://example.org/UZH, http://www.w3.org/1999/02/22-rdf-syntax-ns#type, http://example.org/University)\n",
      " triple-3: (N44368b058dd240bd8401888a0326ec74, http://example.org/size, 28000)\n"
     ]
    }
   ],
   "source": [
    "num_trps = 0\n",
    "for triple in uzh_graph:\n",
    "    print(' triple-{}: ({}, {}, {})'.format(num_trps, triple[0], triple[1], triple[2]))\n",
    "    num_trps += 1"
   ]
  },
  {
   "cell_type": "markdown",
   "metadata": {},
   "source": [
    "* Triples can be removed by the function [remove()](https://rdflib.readthedocs.io/en/stable/apidocs/rdflib.html#rdflib.graph.Graph.remove):"
   ]
  },
  {
   "cell_type": "code",
   "execution_count": 12,
   "metadata": {},
   "outputs": [
    {
     "name": "stdout",
     "output_type": "stream",
     "text": [
      "umber of triples: 3\n"
     ]
    }
   ],
   "source": [
    "uzh_graph.remove((uzh, EX.has, enrolled_students))\n",
    "\n",
    "print('umber of triples: {}'.format(len(uzh_graph)))"
   ]
  },
  {
   "cell_type": "markdown",
   "metadata": {},
   "source": [
    "* It is possible to define a triple pattern to remove a pattern of triples."
   ]
  },
  {
   "cell_type": "code",
   "execution_count": 13,
   "metadata": {},
   "outputs": [
    {
     "name": "stdout",
     "output_type": "stream",
     "text": [
      "before removing triples that have http://example.org/UZH as subjects: \n",
      "\n",
      " triple-0: (http://example.org/UZH, http://www.w3.org/1999/02/22-rdf-syntax-ns#type, http://example.org/University)\n",
      " triple-1: (http://example.org/UZH, http://example.org/label, University of Zurich)\n",
      " triple-2: (N44368b058dd240bd8401888a0326ec74, http://example.org/size, 28000)\n"
     ]
    }
   ],
   "source": [
    "print('before removing triples that have {} as subjects: \\n'.format(uzh))\n",
    "for trp_id, triple in enumerate(uzh_graph):\n",
    "    print(' triple-{}: ({}, {}, {})'.format(trp_id, triple[0], triple[1], triple[2]))"
   ]
  },
  {
   "cell_type": "code",
   "execution_count": 14,
   "metadata": {},
   "outputs": [
    {
     "name": "stdout",
     "output_type": "stream",
     "text": [
      "after removing triples that have http://example.org/UZH as subjects: \n",
      "\n",
      " triple-0: (N44368b058dd240bd8401888a0326ec74, http://example.org/size, 28000)\n"
     ]
    }
   ],
   "source": [
    "# remove a pattern of triples\n",
    "uzh_graph.remove((uzh, None, None))\n",
    "\n",
    "print('after removing triples that have {} as subjects: \\n'.format(uzh))\n",
    "for trp_id, triple in enumerate(uzh_graph):\n",
    "    print(' triple-{}: ({}, {}, {})'.format(trp_id, triple[0], triple[1], triple[2]))"
   ]
  },
  {
   "cell_type": "markdown",
   "metadata": {
    "id": "oYdPz-Q66nav"
   },
   "source": [
    "## 5. How to store and load knowledge graphs?"
   ]
  },
  {
   "cell_type": "markdown",
   "metadata": {},
   "source": [
    "* The function [serialize()](https://rdflib.readthedocs.io/en/stable/apidocs/rdflib.html#rdflib.Graph.serialize) can be used to store a knowledge graph to a file."
   ]
  },
  {
   "cell_type": "code",
   "execution_count": 15,
   "metadata": {},
   "outputs": [
    {
     "name": "stdout",
     "output_type": "stream",
     "text": [
      "@prefix example: <http://example.org/> .\n",
      "@prefix xsd: <http://www.w3.org/2001/XMLSchema#> .\n",
      "\n",
      "example:UZH a example:University ;\n",
      "    example:has [ example:size 28000 ] ;\n",
      "    example:label \"University of Zurich\"@en .\n",
      "\n"
     ]
    }
   ],
   "source": [
    "# resume the UZH knowledge graph\n",
    "uzh_graph = Graph()\n",
    "uzh_graph.add((uzh, data_type, university))\n",
    "uzh_graph.add((uzh, EX.has, enrolled_students))\n",
    "uzh_graph.add((enrolled_students, EX.size, num_students))\n",
    "uzh_graph.add((uzh, EX.label, uzh_label))\n",
    "\n",
    "# bind the EX namespace with the prefix \"example\"\n",
    "uzh_graph.bind('example', EX)\n",
    "\n",
    "# store the UZH knowledge graph to a local file in the turtle format\n",
    "uzh_graph.serialize(destination='./demo.ttl', format='turtle')\n",
    "\n",
    "# check the stored knowledge graph\n",
    "!cat './demo.ttl'"
   ]
  },
  {
   "cell_type": "code",
   "execution_count": 16,
   "metadata": {},
   "outputs": [
    {
     "name": "stdout",
     "output_type": "stream",
     "text": [
      "<http://example.org/UZH> <http://example.org/label> \"University of Zurich\"@en .\n",
      "<http://example.org/UZH> <http://example.org/has> _:N44368b058dd240bd8401888a0326ec74 .\n",
      "<http://example.org/UZH> <http://www.w3.org/1999/02/22-rdf-syntax-ns#type> <http://example.org/University> .\n",
      "_:N44368b058dd240bd8401888a0326ec74 <http://example.org/size> \"28000\"^^<http://www.w3.org/2001/XMLSchema#integer> .\n"
     ]
    }
   ],
   "source": [
    "# store the UZH knowledge graph to a local file in the ntriples format\n",
    "uzh_graph.serialize(destination='./demo.nt', format='nt', encoding='utf-8')\n",
    "\n",
    "# check the stored knowledge graph\n",
    "!cat './demo.nt'"
   ]
  },
  {
   "cell_type": "markdown",
   "metadata": {},
   "source": [
    "* serialize() can also be used to print a knowledge graph object"
   ]
  },
  {
   "cell_type": "code",
   "execution_count": 17,
   "metadata": {},
   "outputs": [
    {
     "name": "stdout",
     "output_type": "stream",
     "text": [
      "<http://example.org/UZH> <http://example.org/label> \"University of Zurich\"@en .\n",
      "<http://example.org/UZH> <http://example.org/has> _:N44368b058dd240bd8401888a0326ec74 .\n",
      "<http://example.org/UZH> <http://www.w3.org/1999/02/22-rdf-syntax-ns#type> <http://example.org/University> .\n",
      "_:N44368b058dd240bd8401888a0326ec74 <http://example.org/size> \"28000\"^^<http://www.w3.org/2001/XMLSchema#integer> .\n",
      "\n"
     ]
    }
   ],
   "source": [
    "print(uzh_graph.serialize(format='nt'))"
   ]
  },
  {
   "cell_type": "markdown",
   "metadata": {},
   "source": [
    "* The function [parse()](https://rdflib.readthedocs.io/en/stable/apidocs/rdflib.html#rdflib.graph.Graph.parse) can be used to load knowledge graphs"
   ]
  },
  {
   "cell_type": "code",
   "execution_count": 18,
   "metadata": {},
   "outputs": [
    {
     "name": "stdout",
     "output_type": "stream",
     "text": [
      " triple-0: (Nc77e3eff41684bd7b241f5a8251ad068, http://example.org/size, 28000)\n",
      " triple-1: (http://example.org/UZH, http://example.org/has, Nc77e3eff41684bd7b241f5a8251ad068)\n",
      " triple-2: (http://example.org/UZH, http://example.org/label, University of Zurich)\n",
      " triple-3: (http://example.org/UZH, http://www.w3.org/1999/02/22-rdf-syntax-ns#type, http://example.org/University)\n"
     ]
    }
   ],
   "source": [
    "# define an empty knowledge graph\n",
    "uzh_graph = Graph()\n",
    "\n",
    "# load a knowledge graph\n",
    "uzh_graph.parse(source='./demo.nt', format='nt')\n",
    "\n",
    "for trp_id, triple in enumerate(uzh_graph):\n",
    "    print(' triple-{}: ({}, {}, {})'.format(trp_id, triple[0], triple[1], triple[2]))"
   ]
  },
  {
   "cell_type": "markdown",
   "metadata": {
    "id": "616gre4tDcPX"
   },
   "source": [
    "* Rdflib can guess the file format by the file's name. For example, \".nt\" is commonly used for n-triple files. We can use `parse()` to load a \".nt\" file without specifiying the file format."
   ]
  },
  {
   "cell_type": "code",
   "execution_count": 19,
   "metadata": {},
   "outputs": [
    {
     "name": "stdout",
     "output_type": "stream",
     "text": [
      " triple-0: (N69452b7c36c5474caec2b48617ee3440, http://example.org/size, 28000)\n",
      " triple-1: (http://example.org/UZH, http://www.w3.org/1999/02/22-rdf-syntax-ns#type, http://example.org/University)\n",
      " triple-2: (http://example.org/UZH, http://example.org/has, N69452b7c36c5474caec2b48617ee3440)\n",
      " triple-3: (http://example.org/UZH, http://example.org/label, University of Zurich)\n"
     ]
    }
   ],
   "source": [
    "# define an empty knowledge graph\n",
    "uzh_graph = Graph()\n",
    "\n",
    "# load a knowledge graph\n",
    "uzh_graph.parse(source='./demo.nt')\n",
    "\n",
    "for trp_id, triple in enumerate(uzh_graph):\n",
    "    print(' triple-{}: ({}, {}, {})'.format(trp_id, triple[0], triple[1], triple[2]))"
   ]
  },
  {
   "cell_type": "markdown",
   "metadata": {},
   "source": [
    "## 6. How to search in knowledge graphs?"
   ]
  },
  {
   "cell_type": "markdown",
   "metadata": {},
   "source": [
    "* RDFLib's Graph objects support \"containing\" check."
   ]
  },
  {
   "cell_type": "code",
   "execution_count": 20,
   "metadata": {
    "colab": {
     "base_uri": "https://localhost:8080/"
    },
    "executionInfo": {
     "elapsed": 413,
     "status": "ok",
     "timestamp": 1632174044001,
     "user": {
      "displayName": "Go Friday",
      "photoUrl": "https://lh3.googleusercontent.com/a/default-user=s64",
      "userId": "04257507274310331112"
     },
     "user_tz": -120
    },
    "id": "YG3G1syYJeeO",
    "outputId": "3cfc4476-90fd-4eed-ecf3-b1ac6aeacb06"
   },
   "outputs": [
    {
     "name": "stdout",
     "output_type": "stream",
     "text": [
      " the triple (rdflib.term.URIRef('http://example.org/UZH'), rdflib.term.URIRef('http://www.w3.org/1999/02/22-rdf-syntax-ns#type'), rdflib.term.URIRef('http://example.org/University')) exists \n",
      "\n",
      " there is triple like (None, rdflib.term.URIRef('http://www.w3.org/1999/02/22-rdf-syntax-ns#type'), None)\n"
     ]
    }
   ],
   "source": [
    "# check if a specific triple exists\n",
    "triple = (uzh, RDF.type, university)\n",
    "if triple in uzh_graph:\n",
    "    print(' the triple {} exists \\n'.format(triple))\n",
    "else:\n",
    "    print(' the triple {} does not exist \\n'.format(triple))\n",
    "    \n",
    "\n",
    "# check if a pattern of triples exist\n",
    "triple_pattern = (None, RDF.type, None)\n",
    "if triple_pattern in uzh_graph:\n",
    "    print(' there is triple like {}'.format(triple_pattern))\n",
    "else:\n",
    "    print(' there is no triple like {}'.format(triple_pattern))\n"
   ]
  },
  {
   "cell_type": "markdown",
   "metadata": {},
   "source": [
    "* RDFLib Graph objects support triple pattern matching with the [triples()](https://rdflib.readthedocs.io/en/stable/apidocs/rdflib.html#rdflib.graph.Graph.triples) function. \n",
    "* The function triples() returns a generator of matched triples."
   ]
  },
  {
   "cell_type": "code",
   "execution_count": 21,
   "metadata": {},
   "outputs": [
    {
     "name": "stdout",
     "output_type": "stream",
     "text": [
      "(rdflib.term.URIRef('http://example.org/UZH'), rdflib.term.URIRef('http://example.org/label'), rdflib.term.Literal('University of Zurich', lang='en'))\n",
      "(rdflib.term.URIRef('http://example.org/UZH'), rdflib.term.URIRef('http://example.org/has'), rdflib.term.BNode('N69452b7c36c5474caec2b48617ee3440'))\n",
      "(rdflib.term.URIRef('http://example.org/UZH'), rdflib.term.URIRef('http://www.w3.org/1999/02/22-rdf-syntax-ns#type'), rdflib.term.URIRef('http://example.org/University'))\n"
     ]
    }
   ],
   "source": [
    "# define a triple pattern\n",
    "triple_pattern = (uzh, None, None)\n",
    "\n",
    "# search all triples that match the defined pattern\n",
    "triple_generator = uzh_graph.triples(triple_pattern)\n",
    "for triple in triple_generator:\n",
    "    print(triple)"
   ]
  },
  {
   "cell_type": "markdown",
   "metadata": {},
   "source": [
    "* If you are not interested in whole triples, you can use [subjects()](https://rdflib.readthedocs.io/en/stable/apidocs/rdflib.html#rdflib.graph.Graph.subjects), [predicates()](https://rdflib.readthedocs.io/en/stable/apidocs/rdflib.html#rdflib.graph.Graph.predicates), and [objects()](https://rdflib.readthedocs.io/en/stable/apidocs/rdflib.html#rdflib.graph.Graph.objects) to retrieve only subjects, predicates, and objects."
   ]
  },
  {
   "cell_type": "code",
   "execution_count": 22,
   "metadata": {},
   "outputs": [
    {
     "name": "stdout",
     "output_type": "stream",
     "text": [
      "http://example.org/UZH\n"
     ]
    }
   ],
   "source": [
    "# retrieve subjects that have the label \"University of Zurich\"\n",
    "for subjs in uzh_graph.subjects(EX.label, uzh_label):\n",
    "    print(subjs)"
   ]
  },
  {
   "cell_type": "code",
   "execution_count": 23,
   "metadata": {},
   "outputs": [
    {
     "name": "stdout",
     "output_type": "stream",
     "text": [
      "http://example.org/size\n",
      "http://www.w3.org/1999/02/22-rdf-syntax-ns#type\n",
      "http://example.org/has\n",
      "http://example.org/label\n"
     ]
    }
   ],
   "source": [
    "# retrieve predicates between any two entities\n",
    "for preds in uzh_graph.predicates(None, None):\n",
    "    print(preds)"
   ]
  },
  {
   "cell_type": "code",
   "execution_count": 24,
   "metadata": {},
   "outputs": [
    {
     "name": "stdout",
     "output_type": "stream",
     "text": [
      "University of Zurich\n",
      "N69452b7c36c5474caec2b48617ee3440\n",
      "http://example.org/University\n"
     ]
    }
   ],
   "source": [
    "# retrieve all objects of the entity uzh\n",
    "for objs in uzh_graph.objects(uzh, None):\n",
    "    print(objs)"
   ]
  },
  {
   "cell_type": "markdown",
   "metadata": {},
   "source": [
    "* [subjects()](https://rdflib.readthedocs.io/en/stable/apidocs/rdflib.html#rdflib.graph.Graph.subjects), [predicates()](https://rdflib.readthedocs.io/en/stable/apidocs/rdflib.html#rdflib.graph.Graph.predicates), and [objects()](https://rdflib.readthedocs.io/en/stable/apidocs/rdflib.html#rdflib.graph.Graph.objects) can also be used to retrieve all subjects, predicates, and objects in a knowledge graph when no argument is given"
   ]
  },
  {
   "cell_type": "code",
   "execution_count": 25,
   "metadata": {},
   "outputs": [
    {
     "name": "stdout",
     "output_type": "stream",
     "text": [
      " all subjects in the UZH knowledge graph\n",
      "http://example.org/UZH\n",
      "N69452b7c36c5474caec2b48617ee3440\n",
      "\n",
      " all predicates in the UZH knowledge graph\n",
      "http://example.org/label\n",
      "http://example.org/size\n",
      "http://example.org/has\n",
      "http://www.w3.org/1999/02/22-rdf-syntax-ns#type\n",
      "\n",
      " all objects in the UZH knowledge graph\n",
      "N69452b7c36c5474caec2b48617ee3440\n",
      "University of Zurich\n",
      "28000\n",
      "http://example.org/University\n"
     ]
    }
   ],
   "source": [
    "print(' all subjects in the UZH knowledge graph')\n",
    "for objs in set(uzh_graph.subjects()):\n",
    "    print(objs)\n",
    "    \n",
    "print('\\n all predicates in the UZH knowledge graph')\n",
    "for objs in set(uzh_graph.predicates()):\n",
    "    print(objs)\n",
    "    \n",
    "print('\\n all objects in the UZH knowledge graph')\n",
    "for objs in set(uzh_graph.objects()):\n",
    "    print(objs)"
   ]
  },
  {
   "cell_type": "markdown",
   "metadata": {},
   "source": [
    "* RDFLib also supports querying Graph objects with SPARQL queries."
   ]
  },
  {
   "cell_type": "code",
   "execution_count": 26,
   "metadata": {},
   "outputs": [
    {
     "name": "stdout",
     "output_type": "stream",
     "text": [
      "('owl', rdflib.term.URIRef('http://www.w3.org/2002/07/owl#'))\n",
      "('rdf', rdflib.term.URIRef('http://www.w3.org/1999/02/22-rdf-syntax-ns#'))\n",
      "('rdfs', rdflib.term.URIRef('http://www.w3.org/2000/01/rdf-schema#'))\n",
      "('xsd', rdflib.term.URIRef('http://www.w3.org/2001/XMLSchema#'))\n",
      "('xml', rdflib.term.URIRef('http://www.w3.org/XML/1998/namespace'))\n",
      "('example', rdflib.term.URIRef('http://example.org/'))\n"
     ]
    }
   ],
   "source": [
    "# first check prefixes\n",
    "uzh_graph.bind('example', EX)\n",
    "for namespace in uzh_graph.namespaces():\n",
    "    print(namespace)"
   ]
  },
  {
   "cell_type": "code",
   "execution_count": 27,
   "metadata": {},
   "outputs": [
    {
     "name": "stdout",
     "output_type": "stream",
     "text": [
      "(rdflib.term.URIRef('http://example.org/UZH'),)\n"
     ]
    }
   ],
   "source": [
    "# define a SPARQL query\n",
    "query = '''\n",
    "SELECT ?x\n",
    "WHERE {\n",
    "?x rdf:type example:University.\n",
    "}\n",
    "'''\n",
    "\n",
    "# check the result of the SPARQL query\n",
    "res = uzh_graph.query(query)\n",
    "for _ in res:\n",
    "    print(_)"
   ]
  },
  {
   "cell_type": "code",
   "execution_count": null,
   "metadata": {},
   "outputs": [],
   "source": []
  }
 ],
 "metadata": {
  "colab": {
   "authorship_tag": "ABX9TyNlzZiCkQK0YxrszDb8tqkE",
   "collapsed_sections": [
    "8k_jw0WpxGXd",
    "EQdTipsg44WO",
    "oYdPz-Q66nav",
    "TGuQGQ3Zxg16",
    "P10j87ocxknm",
    "RKNx-SbIxoh4"
   ],
   "name": "tutorial - rdflib.ipynb",
   "provenance": []
  },
  "kernelspec": {
   "display_name": "Python 3.9.13 ('AI')",
   "language": "python",
   "name": "python3"
  },
  "language_info": {
   "codemirror_mode": {
    "name": "ipython",
    "version": 3
   },
   "file_extension": ".py",
   "mimetype": "text/x-python",
   "name": "python",
   "nbconvert_exporter": "python",
   "pygments_lexer": "ipython3",
   "version": "3.9.13"
  },
  "vscode": {
   "interpreter": {
    "hash": "7c9889e10671cbc5f4f82c659fe85d5ab47069df083cca30a1a6942fb1aa504d"
   }
  }
 },
 "nbformat": 4,
 "nbformat_minor": 4
}
