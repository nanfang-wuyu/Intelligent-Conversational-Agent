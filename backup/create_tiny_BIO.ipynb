{
 "cells": [
  {
   "cell_type": "markdown",
   "metadata": {},
   "source": [
    "# Create Tine BIO"
   ]
  },
  {
   "cell_type": "markdown",
   "metadata": {},
   "source": [
    "## Import library and load data"
   ]
  },
  {
   "cell_type": "code",
   "execution_count": 2,
   "metadata": {},
   "outputs": [],
   "source": [
    "import pywikibot"
   ]
  },
  {
   "cell_type": "code",
   "execution_count": null,
   "metadata": {},
   "outputs": [],
   "source": [
    "site = pywikibot.Site(\"wikidata\", \"wikidata\")\n",
    "repo = site.data_repository()\n"
   ]
  },
  {
   "cell_type": "code",
   "execution_count": null,
   "metadata": {},
   "outputs": [],
   "source": [
    "import pandas as pd\n",
    "\n",
    "df = pd.read_csv('Datasets/14_graph.tsv', sep='\\t', header=None)"
   ]
  },
  {
   "cell_type": "markdown",
   "metadata": {},
   "source": [
    "## Functions for each column"
   ]
  },
  {
   "cell_type": "code",
   "execution_count": null,
   "metadata": {},
   "outputs": [],
   "source": [
    "special_conditions = {'<http://schema.org/description>': 'description',\n",
    "       '<http://www.w3.org/2000/01/rdf-schema#label>': 'label',\n",
    "       '<http://ddis.ch/atai/tag>': 'tag', '<http://ddis.ch/atai/rating>': 'rating'}"
   ]
  },
  {
   "cell_type": "code",
   "execution_count": 110,
   "metadata": {},
   "outputs": [],
   "source": [
    "\n",
    "def divide(repo, x):\n",
    "    if 'Q' in x:\n",
    "        Q2name_func(repo, x)\n",
    "    else:\n",
    "        P2label_func(repo, x)\n",
    "\n",
    "def Q2name_func(repo, Q):\n",
    "    Q = Q[32:-1]\n",
    "    item = pywikibot.ItemPage(repo, Q)\n",
    "    if item.isRedirectPage():\n",
    "        item = item.getRedirectTarget()\n",
    "    if not item.exists():\n",
    "        return None\n",
    "    item_dict = item.get()\n",
    "    labels = item_dict['labels']\n",
    "    if 'en' not in list(labels.keys()):\n",
    "        return None\n",
    "    name = labels['en']\n",
    "    return name\n",
    "\n",
    "def P2label_func(repo, P: str):\n",
    "    if P in special_conditions.keys():\n",
    "        return special_conditions[P]\n",
    "    if 'ent' in P:\n",
    "        P = P.removeprefix('<http://www.wikidata.org/entity/').removesuffix('>')\n",
    "    else:\n",
    "        P = P.removeprefix('<http://www.wikidata.org/prop/direct/').removesuffix('>')\n",
    "    prop = pywikibot.PropertyPage(repo, P)\n",
    "    # if not prop.exists():\n",
    "    #     return None\n",
    "    prop_dict = prop.get()\n",
    "    labels = prop_dict['labels']\n",
    "    if 'en' not in list(labels.keys()):\n",
    "        return None\n",
    "    label = labels['en']\n",
    "    return label"
   ]
  },
  {
   "cell_type": "code",
   "execution_count": 106,
   "metadata": {},
   "outputs": [],
   "source": [
    "def transfer_column2(repo, item: str):\n",
    "    if '/Q' in item:\n",
    "        return Q2name_func(repo, item)\n",
    "    elif '/P' in item:\n",
    "        return P2label_func(repo, item)\n",
    "    else:\n",
    "        return item"
   ]
  },
  {
   "cell_type": "markdown",
   "metadata": {},
   "source": [
    "## Condition search for df column 2"
   ]
  },
  {
   "cell_type": "code",
   "execution_count": 100,
   "metadata": {},
   "outputs": [],
   "source": [
    "df3 = df.loc[~(df.iloc[:, 2].str.contains('/Q') | df.iloc[:, 2].str.contains('/P'))]"
   ]
  },
  {
   "cell_type": "code",
   "execution_count": 104,
   "metadata": {},
   "outputs": [],
   "source": [
    "df4 = df3.loc[df3.iloc[:, 2].str.contains('http')]"
   ]
  },
  {
   "cell_type": "code",
   "execution_count": null,
   "metadata": {},
   "outputs": [],
   "source": [
    "df4.loc[~df4.iloc[:, 2].str.contains('https://commons.wikimedia.org/wiki/File')]"
   ]
  },
  {
   "cell_type": "markdown",
   "metadata": {},
   "source": [
    "Column 2 condition summary:\n",
    "1. /Q, /P\n",
    "2. string, description\n",
    "3. http file link\n",
    "4. Special condition:\n",
    "   1. https://theglobalstardom.com/catherine-missal/ \n",
    "   2. description containing one link: \"license that is ...\""
   ]
  },
  {
   "cell_type": "markdown",
   "metadata": {},
   "source": [
    "## Condition search for df column 0, 1, and clean"
   ]
  },
  {
   "cell_type": "code",
   "execution_count": 31,
   "metadata": {},
   "outputs": [
    {
     "data": {
      "text/plain": [
       "1.0"
      ]
     },
     "execution_count": 31,
     "metadata": {},
     "output_type": "execute_result"
    }
   ],
   "source": [
    "len(df.loc[df.iloc[:, 0].str.contains('entity/Q') | df.iloc[:, 0].str.contains('P')])/len(df.iloc[:, 0])"
   ]
  },
  {
   "cell_type": "code",
   "execution_count": 28,
   "metadata": {},
   "outputs": [],
   "source": [
    "df1 = df.loc[~(df.iloc[:, 0].str.contains('entity/Q') | df.iloc[:, 0].str.contains('P'))]"
   ]
  },
  {
   "cell_type": "code",
   "execution_count": 29,
   "metadata": {},
   "outputs": [
    {
     "data": {
      "text/plain": [
       "Int64Index([], dtype='int64')"
      ]
     },
     "execution_count": 29,
     "metadata": {},
     "output_type": "execute_result"
    }
   ],
   "source": [
    "df1.index"
   ]
  },
  {
   "cell_type": "code",
   "execution_count": 25,
   "metadata": {},
   "outputs": [
    {
     "data": {
      "text/html": [
       "<div>\n",
       "<style scoped>\n",
       "    .dataframe tbody tr th:only-of-type {\n",
       "        vertical-align: middle;\n",
       "    }\n",
       "\n",
       "    .dataframe tbody tr th {\n",
       "        vertical-align: top;\n",
       "    }\n",
       "\n",
       "    .dataframe thead th {\n",
       "        text-align: right;\n",
       "    }\n",
       "</style>\n",
       "<table border=\"1\" class=\"dataframe\">\n",
       "  <thead>\n",
       "    <tr style=\"text-align: right;\">\n",
       "      <th></th>\n",
       "      <th>0</th>\n",
       "      <th>1</th>\n",
       "      <th>2</th>\n",
       "    </tr>\n",
       "  </thead>\n",
       "  <tbody>\n",
       "    <tr>\n",
       "      <th>277841</th>\n",
       "      <td>&lt;http://schema.org/description&gt;</td>\n",
       "      <td>&lt;http://schema.org/description&gt;</td>\n",
       "      <td>textual entity description</td>\n",
       "    </tr>\n",
       "    <tr>\n",
       "      <th>516258</th>\n",
       "      <td>&lt;http://www.w3.org/2000/01/rdf-schema#label&gt;</td>\n",
       "      <td>&lt;http://www.w3.org/2000/01/rdf-schema#label&gt;</td>\n",
       "      <td>node label</td>\n",
       "    </tr>\n",
       "    <tr>\n",
       "      <th>518667</th>\n",
       "      <td>&lt;http://schema.org/description&gt;</td>\n",
       "      <td>&lt;http://www.w3.org/2000/01/rdf-schema#label&gt;</td>\n",
       "      <td>node description</td>\n",
       "    </tr>\n",
       "    <tr>\n",
       "      <th>975864</th>\n",
       "      <td>&lt;http://www.w3.org/2000/01/rdf-schema#label&gt;</td>\n",
       "      <td>&lt;http://schema.org/description&gt;</td>\n",
       "      <td>short label describing an entity</td>\n",
       "    </tr>\n",
       "  </tbody>\n",
       "</table>\n",
       "</div>"
      ],
      "text/plain": [
       "                                                   0  \\\n",
       "277841               <http://schema.org/description>   \n",
       "516258  <http://www.w3.org/2000/01/rdf-schema#label>   \n",
       "518667               <http://schema.org/description>   \n",
       "975864  <http://www.w3.org/2000/01/rdf-schema#label>   \n",
       "\n",
       "                                                   1  \\\n",
       "277841               <http://schema.org/description>   \n",
       "516258  <http://www.w3.org/2000/01/rdf-schema#label>   \n",
       "518667  <http://www.w3.org/2000/01/rdf-schema#label>   \n",
       "975864               <http://schema.org/description>   \n",
       "\n",
       "                                       2  \n",
       "277841        textual entity description  \n",
       "516258                        node label  \n",
       "518667                  node description  \n",
       "975864  short label describing an entity  "
      ]
     },
     "execution_count": 25,
     "metadata": {},
     "output_type": "execute_result"
    }
   ],
   "source": [
    "df.iloc[list(df1.index)]"
   ]
  },
  {
   "cell_type": "code",
   "execution_count": 27,
   "metadata": {},
   "outputs": [],
   "source": [
    "df.drop(list(df1.index), axis=0, inplace=True)"
   ]
  },
  {
   "cell_type": "code",
   "execution_count": 36,
   "metadata": {},
   "outputs": [],
   "source": [
    "df.drop(df[df.iloc[:, 0].str.contains('P')].index, inplace=True)"
   ]
  },
  {
   "cell_type": "code",
   "execution_count": null,
   "metadata": {},
   "outputs": [],
   "source": [
    "# df_new = df.apply(lambda x: pd.Series([Q2name_func(repo, x[0]), P2label_func(repo, x[1])], index=['1', '2']), axis=1)"
   ]
  },
  {
   "cell_type": "markdown",
   "metadata": {},
   "source": [
    "## Transfer column 0, 1"
   ]
  },
  {
   "cell_type": "code",
   "execution_count": 98,
   "metadata": {},
   "outputs": [],
   "source": [
    "df[0][:50] = df[0][:50].apply(lambda x: Q2name_func(repo, x))"
   ]
  },
  {
   "cell_type": "code",
   "execution_count": 99,
   "metadata": {},
   "outputs": [],
   "source": [
    "df[1][:50] = df[1][:50].apply(lambda x: P2label_func(repo, x))"
   ]
  },
  {
   "cell_type": "code",
   "execution_count": 107,
   "metadata": {},
   "outputs": [],
   "source": [
    "df[2][:50] = df[2][:50].apply(lambda x: transfer_column2(repo, x))"
   ]
  },
  {
   "cell_type": "code",
   "execution_count": 108,
   "metadata": {},
   "outputs": [],
   "source": [
    "tiny_graph = df[:50]\n",
    "tiny_graph.to_csv('Datasets/tiny_graph.tsv', sep='\\t', header=None)"
   ]
  },
  {
   "cell_type": "code",
   "execution_count": 97,
   "metadata": {},
   "outputs": [
    {
     "data": {
      "text/html": [
       "<div>\n",
       "<style scoped>\n",
       "    .dataframe tbody tr th:only-of-type {\n",
       "        vertical-align: middle;\n",
       "    }\n",
       "\n",
       "    .dataframe tbody tr th {\n",
       "        vertical-align: top;\n",
       "    }\n",
       "\n",
       "    .dataframe thead th {\n",
       "        text-align: right;\n",
       "    }\n",
       "</style>\n",
       "<table border=\"1\" class=\"dataframe\">\n",
       "  <thead>\n",
       "    <tr style=\"text-align: right;\">\n",
       "      <th></th>\n",
       "      <th>0</th>\n",
       "      <th>1</th>\n",
       "      <th>2</th>\n",
       "    </tr>\n",
       "  </thead>\n",
       "  <tbody>\n",
       "    <tr>\n",
       "      <th>0</th>\n",
       "      <td>Kothanodi</td>\n",
       "      <td>&lt;http://www.wikidata.org/prop/direct/P5021&gt;</td>\n",
       "      <td>&lt;http://www.wikidata.org/entity/Q105729789&gt;</td>\n",
       "    </tr>\n",
       "    <tr>\n",
       "      <th>1</th>\n",
       "      <td>Dan Hennessey</td>\n",
       "      <td>&lt;http://schema.org/description&gt;</td>\n",
       "      <td>Canadian actor</td>\n",
       "    </tr>\n",
       "    <tr>\n",
       "      <th>2</th>\n",
       "      <td>Back to Burgundy</td>\n",
       "      <td>&lt;http://www.wikidata.org/prop/direct/P495&gt;</td>\n",
       "      <td>&lt;http://www.wikidata.org/entity/Q142&gt;</td>\n",
       "    </tr>\n",
       "    <tr>\n",
       "      <th>3</th>\n",
       "      <td>The Ketchup Effect</td>\n",
       "      <td>&lt;http://www.wikidata.org/prop/direct/P345&gt;</td>\n",
       "      <td>tt0385751</td>\n",
       "    </tr>\n",
       "    <tr>\n",
       "      <th>4</th>\n",
       "      <td>Simon Norrthon</td>\n",
       "      <td>&lt;http://www.wikidata.org/prop/direct/P31&gt;</td>\n",
       "      <td>&lt;http://www.wikidata.org/entity/Q5&gt;</td>\n",
       "    </tr>\n",
       "  </tbody>\n",
       "</table>\n",
       "</div>"
      ],
      "text/plain": [
       "                    0                                            1  \\\n",
       "0           Kothanodi  <http://www.wikidata.org/prop/direct/P5021>   \n",
       "1       Dan Hennessey              <http://schema.org/description>   \n",
       "2    Back to Burgundy   <http://www.wikidata.org/prop/direct/P495>   \n",
       "3  The Ketchup Effect   <http://www.wikidata.org/prop/direct/P345>   \n",
       "4      Simon Norrthon    <http://www.wikidata.org/prop/direct/P31>   \n",
       "\n",
       "                                             2  \n",
       "0  <http://www.wikidata.org/entity/Q105729789>  \n",
       "1                               Canadian actor  \n",
       "2        <http://www.wikidata.org/entity/Q142>  \n",
       "3                                    tt0385751  \n",
       "4          <http://www.wikidata.org/entity/Q5>  "
      ]
     },
     "execution_count": 97,
     "metadata": {},
     "output_type": "execute_result"
    }
   ],
   "source": [
    "# df_copy = df[:5].copy()\n",
    "# df_copy[0][:5] = df_copy[0][:5].apply(lambda x: Q2name_func(repo, x))\n",
    "# df_copy.head(10)"
   ]
  },
  {
   "cell_type": "code",
   "execution_count": null,
   "metadata": {},
   "outputs": [],
   "source": [
    "df[0][51:5000] = df[0][51:5000].apply(lambda x: transfer_column2(repo, x))"
   ]
  },
  {
   "cell_type": "code",
   "execution_count": null,
   "metadata": {},
   "outputs": [],
   "source": [
    "df[1][51:5000] = df[1][51:5000].apply(lambda x: P2label_func(repo, x))"
   ]
  },
  {
   "cell_type": "code",
   "execution_count": null,
   "metadata": {},
   "outputs": [],
   "source": [
    "df[2][51:5000] = df[2][51:5000].apply(lambda x: transfer_column2(repo, x))"
   ]
  },
  {
   "cell_type": "code",
   "execution_count": null,
   "metadata": {},
   "outputs": [],
   "source": [
    "tiny_graph2 = df[51:5000]\n",
    "tiny_graph2.to_csv('Datasets/tiny_graph2.tsv', sep='\\t', header=None)"
   ]
  },
  {
   "cell_type": "code",
   "execution_count": 118,
   "metadata": {},
   "outputs": [],
   "source": [
    "from rdflib.namespace import Namespace, RDF, RDFS, XSD\n",
    "from rdflib.term import URIRef, Literal\n",
    "import csv\n",
    "import json\n",
    "import networkx as nx\n",
    "import rdflib\n",
    "import pywikibot\n",
    "\n",
    "graph = rdflib.Graph()\n",
    "graph.parse('Datasets/14_graph.nt', format='turtle')\n",
    "\n",
    "\n"
   ]
  },
  {
   "cell_type": "code",
   "execution_count": 132,
   "metadata": {},
   "outputs": [],
   "source": [
    "\n",
    "wdt = Namespace('http://www.wikidata.org/prop/direct/')\n",
    "wd = Namespace('http://www.wikidata.org/entity/')\n",
    "lbl = Namespace('http://www.w3.org/2000/01/rdf-schema#')\n",
    "\n",
    "special_conditions = {'<http://schema.org/description>': 'description',\n",
    "       '<http://www.w3.org/2000/01/rdf-schema#label>': 'label',\n",
    "       '<http://ddis.ch/atai/tag>': 'tag', '<http://ddis.ch/atai/rating>': 'rating'}\n"
   ]
  },
  {
   "cell_type": "code",
   "execution_count": 235,
   "metadata": {},
   "outputs": [],
   "source": [
    "def transfer(graph, item):\n",
    "    if not item:\n",
    "        return item\n",
    "    if ('/Q' and '<' in item) or ('/P' and '<' in item):\n",
    "        tr = (URIRef(item.removeprefix('<').removesuffix('>')), lbl['label'], None)\n",
    "        ts = [t for t in graph.triples(tr)]\n",
    "        if len(ts) < 1:\n",
    "            # print (Q2name_func(repo, item))\n",
    "            return None\n",
    "        return ts[0][2]\n",
    "    # elif '/P' in item:\n",
    "    #     return P2label_func(repo, item)\n",
    "    elif item in special_conditions.keys():\n",
    "        return special_conditions[item]\n",
    "    else:\n",
    "        return item"
   ]
  },
  {
   "cell_type": "code",
   "execution_count": 230,
   "metadata": {},
   "outputs": [
    {
     "name": "stderr",
     "output_type": "stream",
     "text": [
      "Def: population >= 200, < 200 m between buildings, etc does not look like a valid URI, trying to serialize this will break.\n",
      "each instance is a subclass in the hierarchy under <astronomical object>(Q6999); such a subclass's instances in turn are particular identified objects in Our Universe does not look like a valid URI, trying to serialize this will break.\n"
     ]
    }
   ],
   "source": [
    "df = df.applymap(lambda x: transfer(graph, x))"
   ]
  },
  {
   "cell_type": "code",
   "execution_count": 231,
   "metadata": {},
   "outputs": [],
   "source": [
    "df.to_csv('Datasets/Big_graph_clean.tsv', sep='\\t', header=None)"
   ]
  },
  {
   "cell_type": "code",
   "execution_count": 232,
   "metadata": {},
   "outputs": [
    {
     "data": {
      "text/plain": [
       "'Congratulation!'"
      ]
     },
     "execution_count": 232,
     "metadata": {},
     "output_type": "execute_result"
    }
   ],
   "source": [
    "\"Congratulation!\""
   ]
  },
  {
   "cell_type": "code",
   "execution_count": 233,
   "metadata": {},
   "outputs": [
    {
     "data": {
      "text/plain": [
       "1121969    nm0926924\n",
       "Name: 2, dtype: object"
      ]
     },
     "execution_count": 233,
     "metadata": {},
     "output_type": "execute_result"
    }
   ],
   "source": [
    "df[df.iloc[:, 2].str.contains('nm0926924') == True].iloc[:, 2]"
   ]
  },
  {
   "cell_type": "code",
   "execution_count": 234,
   "metadata": {},
   "outputs": [
    {
     "data": {
      "text/html": [
       "<div>\n",
       "<style scoped>\n",
       "    .dataframe tbody tr th:only-of-type {\n",
       "        vertical-align: middle;\n",
       "    }\n",
       "\n",
       "    .dataframe tbody tr th {\n",
       "        vertical-align: top;\n",
       "    }\n",
       "\n",
       "    .dataframe thead th {\n",
       "        text-align: right;\n",
       "    }\n",
       "</style>\n",
       "<table border=\"1\" class=\"dataframe\">\n",
       "  <thead>\n",
       "    <tr style=\"text-align: right;\">\n",
       "      <th></th>\n",
       "      <th>0</th>\n",
       "      <th>1</th>\n",
       "      <th>2</th>\n",
       "    </tr>\n",
       "  </thead>\n",
       "  <tbody>\n",
       "    <tr>\n",
       "      <th>1121961</th>\n",
       "      <td>The Internet's Own Boy: The Story of Aaron Swartz</td>\n",
       "      <td>instance of</td>\n",
       "      <td>film</td>\n",
       "    </tr>\n",
       "    <tr>\n",
       "      <th>1121962</th>\n",
       "      <td>Simone Jolivet</td>\n",
       "      <td>occupation</td>\n",
       "      <td>writer</td>\n",
       "    </tr>\n",
       "    <tr>\n",
       "      <th>1121963</th>\n",
       "      <td>The Omen</td>\n",
       "      <td>assessment</td>\n",
       "      <td>Russ Test</td>\n",
       "    </tr>\n",
       "    <tr>\n",
       "      <th>1121964</th>\n",
       "      <td>Rodrigo Grande</td>\n",
       "      <td>instance of</td>\n",
       "      <td>human</td>\n",
       "    </tr>\n",
       "    <tr>\n",
       "      <th>1121965</th>\n",
       "      <td>Staffan Lindberg</td>\n",
       "      <td>occupation</td>\n",
       "      <td>actor</td>\n",
       "    </tr>\n",
       "    <tr>\n",
       "      <th>1121966</th>\n",
       "      <td>Shawn Pyfrom</td>\n",
       "      <td>description</td>\n",
       "      <td>American actor</td>\n",
       "    </tr>\n",
       "    <tr>\n",
       "      <th>1121967</th>\n",
       "      <td>The House of Ghosts</td>\n",
       "      <td>publication date</td>\n",
       "      <td>1908-01-01</td>\n",
       "    </tr>\n",
       "    <tr>\n",
       "      <th>1121968</th>\n",
       "      <td>Prithviraj Sukumaran</td>\n",
       "      <td>description</td>\n",
       "      <td>None</td>\n",
       "    </tr>\n",
       "    <tr>\n",
       "      <th>1121969</th>\n",
       "      <td>Christopher Wicking</td>\n",
       "      <td>IMDb ID</td>\n",
       "      <td>nm0926924</td>\n",
       "    </tr>\n",
       "    <tr>\n",
       "      <th>1121970</th>\n",
       "      <td>Maverick</td>\n",
       "      <td>cast member</td>\n",
       "      <td>Corey Feldman</td>\n",
       "    </tr>\n",
       "  </tbody>\n",
       "</table>\n",
       "</div>"
      ],
      "text/plain": [
       "                                                         0                 1  \\\n",
       "1121961  The Internet's Own Boy: The Story of Aaron Swartz       instance of   \n",
       "1121962                                     Simone Jolivet        occupation   \n",
       "1121963                                           The Omen        assessment   \n",
       "1121964                                     Rodrigo Grande       instance of   \n",
       "1121965                                   Staffan Lindberg        occupation   \n",
       "1121966                                       Shawn Pyfrom       description   \n",
       "1121967                                The House of Ghosts  publication date   \n",
       "1121968                               Prithviraj Sukumaran       description   \n",
       "1121969                                Christopher Wicking           IMDb ID   \n",
       "1121970                                           Maverick       cast member   \n",
       "\n",
       "                      2  \n",
       "1121961            film  \n",
       "1121962          writer  \n",
       "1121963       Russ Test  \n",
       "1121964           human  \n",
       "1121965           actor  \n",
       "1121966  American actor  \n",
       "1121967      1908-01-01  \n",
       "1121968            None  \n",
       "1121969       nm0926924  \n",
       "1121970   Corey Feldman  "
      ]
     },
     "execution_count": 234,
     "metadata": {},
     "output_type": "execute_result"
    }
   ],
   "source": [
    "df[1121960-470:1121970-470]"
   ]
  }
 ],
 "metadata": {
  "kernelspec": {
   "display_name": "Python 3.9.13 ('AI')",
   "language": "python",
   "name": "python3"
  },
  "language_info": {
   "codemirror_mode": {
    "name": "ipython",
    "version": 3
   },
   "file_extension": ".py",
   "mimetype": "text/x-python",
   "name": "python",
   "nbconvert_exporter": "python",
   "pygments_lexer": "ipython3",
   "version": "3.9.13"
  },
  "orig_nbformat": 4,
  "vscode": {
   "interpreter": {
    "hash": "7c9889e10671cbc5f4f82c659fe85d5ab47069df083cca30a1a6942fb1aa504d"
   }
  }
 },
 "nbformat": 4,
 "nbformat_minor": 2
}
