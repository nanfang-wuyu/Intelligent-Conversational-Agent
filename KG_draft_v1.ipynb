{
 "cells": [
  {
   "cell_type": "code",
   "execution_count": 7,
   "metadata": {},
   "outputs": [],
   "source": [
    "from py2neo import Graph,Node"
   ]
  },
  {
   "cell_type": "code",
   "execution_count": 8,
   "metadata": {},
   "outputs": [
    {
     "data": {
      "text/plain": [
       "'NTriples'"
      ]
     },
     "execution_count": 8,
     "metadata": {},
     "output_type": "execute_result"
    }
   ],
   "source": [
    "'NTriples'"
   ]
  },
  {
   "cell_type": "code",
   "execution_count": 14,
   "metadata": {},
   "outputs": [],
   "source": [
    "g = Graph('bolt://localhost:7687', user=\"neo4j\", password=\"new\")"
   ]
  },
  {
   "cell_type": "code",
   "execution_count": 17,
   "metadata": {},
   "outputs": [
    {
     "data": {
      "text/html": [
       "<table><tr><th>param</th><th>value</th></tr><tr><td style=\"text-align:left\">handleVocabUris</td><td style=\"text-align:left\">SHORTEN</td></tr><tr><td style=\"text-align:left\">handleMultival</td><td style=\"text-align:left\">ARRAY</td></tr><tr><td style=\"text-align:left\">handleRDFTypes</td><td style=\"text-align:left\">LABELS</td></tr></table>"
      ],
      "text/plain": [
       " param           | value   \n",
       "-----------------|---------\n",
       " handleVocabUris | SHORTEN \n",
       " handleMultival  | ARRAY   \n",
       " handleRDFTypes  | LABELS  "
      ]
     },
     "execution_count": 17,
     "metadata": {},
     "output_type": "execute_result"
    }
   ],
   "source": [
    "g.run(\"CALL n10s.graphconfig.set({keepLangTag: true,handleMultival: 'ARRAY',multivalPropList : ['http://example.org/vocab/show/localName']});\")"
   ]
  },
  {
   "cell_type": "code",
   "execution_count": 18,
   "metadata": {},
   "outputs": [
    {
     "data": {
      "text/html": [
       "<table><tr><th>terminationStatus</th><th>triplesLoaded</th><th>triplesParsed</th><th>namespaces</th><th>extraInfo</th><th>callParams</th></tr><tr><td style=\"text-align:left\">KO</td><td style=\"text-align:right\">0</td><td style=\"text-align:right\">0</td><td style=\"text-align:right\">null</td><td style=\"text-align:left\">Expected &#039;&lt;&#039; or &#039;_&#039;, found: @ [line 1, column 64]</td><td style=\"text-align:left\">{}</td></tr></table>"
      ],
      "text/plain": [
       " terminationStatus | triplesLoaded | triplesParsed | namespaces | extraInfo                                         | callParams \n",
       "-------------------|---------------|---------------|------------|---------------------------------------------------|------------\n",
       " KO                |             0 |             0 |       null | Expected '<' or '_', found: @ [line 1, column 64] | {}         "
      ]
     },
     "execution_count": 18,
     "metadata": {},
     "output_type": "execute_result"
    }
   ],
   "source": [
    "g.run(\"CALL n10s.rdf.import.fetch('file:///Users/nanfangwuyu/Desktop/StudyFolder/Common Workspace/vs code projects/Jupyter Notebook projects/AI/My Agent/Datasets/small_kg.nt','N-Triples');\")"
   ]
  }
 ],
 "metadata": {
  "kernelspec": {
   "display_name": "Python 3.9.13 ('AI')",
   "language": "python",
   "name": "python3"
  },
  "language_info": {
   "codemirror_mode": {
    "name": "ipython",
    "version": 3
   },
   "file_extension": ".py",
   "mimetype": "text/x-python",
   "name": "python",
   "nbconvert_exporter": "python",
   "pygments_lexer": "ipython3",
   "version": "3.9.13"
  },
  "orig_nbformat": 4,
  "vscode": {
   "interpreter": {
    "hash": "7c9889e10671cbc5f4f82c659fe85d5ab47069df083cca30a1a6942fb1aa504d"
   }
  }
 },
 "nbformat": 4,
 "nbformat_minor": 2
}
