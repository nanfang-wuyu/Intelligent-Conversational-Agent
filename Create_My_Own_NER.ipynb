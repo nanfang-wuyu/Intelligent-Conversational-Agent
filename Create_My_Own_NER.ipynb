{
 "cells": [
  {
   "cell_type": "code",
   "execution_count": 2,
   "metadata": {},
   "outputs": [
    {
     "ename": "",
     "evalue": "",
     "output_type": "error",
     "traceback": [
      "\u001b[1;31mThe Kernel crashed while executing code in the the current cell or a previous cell. Please review the code in the cell(s) to identify a possible cause of the failure. Click <a href='https://aka.ms/vscodeJupyterKernelCrash'>here</a> for more info. View Jupyter <a href='command:jupyter.viewOutput'>log</a> for further details."
     ]
    },
    {
     "ename": "",
     "evalue": "",
     "output_type": "error",
     "traceback": [
      "\u001b[1;31mCanceled future for execute_request message before replies were done"
     ]
    }
   ],
   "source": [
    "import pickle\n",
    "import operator\n",
    "import re\n",
    "import string\n",
    "import pandas as pd\n",
    "import numpy as np\n",
    "import matplotlib.pyplot as plt\n",
    "\n",
    "from plot_keras_history import plot_history\n",
    "from sklearn.model_selection import train_test_split\n",
    "from sklearn.metrics import multilabel_confusion_matrix\n",
    "from keras_contrib.utils import save_load_utils\n",
    "\n",
    "from keras import layers\n",
    "from keras import optimizers\n",
    "\n",
    "from keras.models import Model\n",
    "from keras.models import Input\n",
    "\n",
    "from keras_contrib.layers import CRF\n",
    "from keras_contrib import losses\n",
    "from keras_contrib import metrics"
   ]
  },
  {
   "cell_type": "code",
   "execution_count": null,
   "metadata": {},
   "outputs": [],
   "source": [
    "import tensorflow"
   ]
  },
  {
   "cell_type": "code",
   "execution_count": 1,
   "metadata": {},
   "outputs": [
    {
     "data": {
      "text/plain": [
       "'w'"
      ]
     },
     "execution_count": 1,
     "metadata": {},
     "output_type": "execute_result"
    }
   ],
   "source": [
    "input()"
   ]
  },
  {
   "cell_type": "code",
   "execution_count": 1,
   "metadata": {},
   "outputs": [
    {
     "name": "stdout",
     "output_type": "stream",
     "text": [
      "Collecting sklearn\n",
      "  Downloading sklearn-0.0.post1.tar.gz (3.6 kB)\n",
      "  Preparing metadata (setup.py) ... \u001b[?25ldone\n",
      "\u001b[?25hBuilding wheels for collected packages: sklearn\n",
      "  Building wheel for sklearn (setup.py) ... \u001b[?25ldone\n",
      "\u001b[?25h  Created wheel for sklearn: filename=sklearn-0.0.post1-py3-none-any.whl size=2936 sha256=13be1630c299606933089abe08a139501a57daab44e78b802d475bd8a9f135c9\n",
      "  Stored in directory: /Users/nanfangwuyu/Library/Caches/pip/wheels/f8/e0/3d/9d0c2020c44a519b9f02ab4fa6d2a4a996c98d79ab2f569fa1\n",
      "Successfully built sklearn\n",
      "Installing collected packages: sklearn\n",
      "Successfully installed sklearn-0.0.post1\n",
      "Collecting plot_keras_history\n",
      "  Using cached plot_keras_history-1.1.38-py3-none-any.whl\n",
      "Requirement already satisfied: matplotlib in /Users/nanfangwuyu/opt/anaconda3/envs/AI/lib/python3.9/site-packages (from plot_keras_history) (3.5.3)\n",
      "Collecting sanitize-ml-labels>=1.0.48\n",
      "  Using cached sanitize_ml_labels-1.0.50-py3-none-any.whl\n",
      "Requirement already satisfied: pandas in /Users/nanfangwuyu/opt/anaconda3/envs/AI/lib/python3.9/site-packages (from plot_keras_history) (1.4.4)\n",
      "Collecting support-developer>=1.0.2\n",
      "  Using cached support_developer-1.0.5-py3-none-any.whl\n",
      "Requirement already satisfied: scipy in /Users/nanfangwuyu/opt/anaconda3/envs/AI/lib/python3.9/site-packages (from plot_keras_history) (1.9.3)\n",
      "Collecting compress-json\n",
      "  Using cached compress_json-1.0.8-py3-none-any.whl\n",
      "Requirement already satisfied: python-dateutil>=2.7 in /Users/nanfangwuyu/opt/anaconda3/envs/AI/lib/python3.9/site-packages (from matplotlib->plot_keras_history) (2.8.2)\n",
      "Requirement already satisfied: numpy>=1.17 in /Users/nanfangwuyu/opt/anaconda3/envs/AI/lib/python3.9/site-packages (from matplotlib->plot_keras_history) (1.22.4)\n",
      "Requirement already satisfied: fonttools>=4.22.0 in /Users/nanfangwuyu/opt/anaconda3/envs/AI/lib/python3.9/site-packages (from matplotlib->plot_keras_history) (4.25.0)\n",
      "Requirement already satisfied: kiwisolver>=1.0.1 in /Users/nanfangwuyu/opt/anaconda3/envs/AI/lib/python3.9/site-packages (from matplotlib->plot_keras_history) (1.4.2)\n",
      "Requirement already satisfied: cycler>=0.10 in /Users/nanfangwuyu/opt/anaconda3/envs/AI/lib/python3.9/site-packages (from matplotlib->plot_keras_history) (0.11.0)\n",
      "Requirement already satisfied: pyparsing>=2.2.1 in /Users/nanfangwuyu/opt/anaconda3/envs/AI/lib/python3.9/site-packages (from matplotlib->plot_keras_history) (3.0.9)\n",
      "Requirement already satisfied: packaging>=20.0 in /Users/nanfangwuyu/opt/anaconda3/envs/AI/lib/python3.9/site-packages (from matplotlib->plot_keras_history) (21.3)\n",
      "Requirement already satisfied: pillow>=6.2.0 in /Users/nanfangwuyu/opt/anaconda3/envs/AI/lib/python3.9/site-packages (from matplotlib->plot_keras_history) (9.2.0)\n",
      "Requirement already satisfied: pytz>=2020.1 in /Users/nanfangwuyu/opt/anaconda3/envs/AI/lib/python3.9/site-packages (from pandas->plot_keras_history) (2022.1)\n",
      "Requirement already satisfied: six>=1.5 in /Users/nanfangwuyu/opt/anaconda3/envs/AI/lib/python3.9/site-packages (from python-dateutil>=2.7->matplotlib->plot_keras_history) (1.16.0)\n",
      "Installing collected packages: support-developer, compress-json, sanitize-ml-labels, plot_keras_history\n",
      "Successfully installed compress-json-1.0.8 plot_keras_history-1.1.38 sanitize-ml-labels-1.0.50 support-developer-1.0.5\n",
      "Collecting git+https://www.github.com/keras-team/keras-contrib.git\n",
      "  Cloning https://www.github.com/keras-team/keras-contrib.git to /private/var/folders/n1/jzjs4b3110sdywn5jrzt87_00000gn/T/pip-req-build-23qxlvua\n",
      "  Running command git clone --filter=blob:none --quiet https://www.github.com/keras-team/keras-contrib.git /private/var/folders/n1/jzjs4b3110sdywn5jrzt87_00000gn/T/pip-req-build-23qxlvua\n",
      "  warning: redirecting to https://github.com/keras-team/keras-contrib.git/\n",
      "  Resolved https://www.github.com/keras-team/keras-contrib.git to commit 3fc5ef709e061416f4bc8a92ca3750c824b5d2b0\n",
      "  Preparing metadata (setup.py) ... \u001b[?25ldone\n",
      "\u001b[?25hRequirement already satisfied: keras in /Users/nanfangwuyu/opt/anaconda3/envs/AI/lib/python3.9/site-packages (from keras-contrib==2.0.8) (2.10.0)\n",
      "Building wheels for collected packages: keras-contrib\n",
      "  Building wheel for keras-contrib (setup.py) ... \u001b[?25ldone\n",
      "\u001b[?25h  Created wheel for keras-contrib: filename=keras_contrib-2.0.8-py3-none-any.whl size=101057 sha256=7b32efe40c5853690a594d7a474be3b682cf9d3feee3ee7aa1c9d3c5e5a36ca4\n",
      "  Stored in directory: /private/var/folders/n1/jzjs4b3110sdywn5jrzt87_00000gn/T/pip-ephem-wheel-cache-m5ck6n0a/wheels/83/b3/99/125cd08d3e8224b434b1b4badd6f8b2651e0251b7e8f983e60\n",
      "Successfully built keras-contrib\n",
      "Installing collected packages: keras-contrib\n",
      "Successfully installed keras-contrib-2.0.8\n"
     ]
    }
   ],
   "source": [
    "!pip install sklearn\n",
    "!pip install plot_keras_history\n",
    "!pip install git+https://www.github.com/keras-team/keras-contrib.git"
   ]
  }
 ],
 "metadata": {
  "kernelspec": {
   "display_name": "Python 3.9.13 ('AI')",
   "language": "python",
   "name": "python3"
  },
  "language_info": {
   "codemirror_mode": {
    "name": "ipython",
    "version": 3
   },
   "file_extension": ".py",
   "mimetype": "text/x-python",
   "name": "python",
   "nbconvert_exporter": "python",
   "pygments_lexer": "ipython3",
   "version": "3.9.13"
  },
  "orig_nbformat": 4,
  "vscode": {
   "interpreter": {
    "hash": "7c9889e10671cbc5f4f82c659fe85d5ab47069df083cca30a1a6942fb1aa504d"
   }
  }
 },
 "nbformat": 4,
 "nbformat_minor": 2
}
