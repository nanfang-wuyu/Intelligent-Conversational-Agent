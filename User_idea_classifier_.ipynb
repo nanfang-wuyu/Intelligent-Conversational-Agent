{
  "cells": [
    {
      "cell_type": "code",
      "execution_count": null,
      "metadata": {
        "id": "fV7EgSHyAVbU"
      },
      "outputs": [],
      "source": []
    },
    {
      "cell_type": "markdown",
      "metadata": {
        "id": "31_kWGL3AVbW"
      },
      "source": [
        "## Keyword Extraction: \n",
        "~~Not to use, sent vs prop is enough~~\n",
        "Reuse, sent vs prop make mistakes\n",
        "Compare accuracy."
      ]
    },
    {
      "cell_type": "code",
      "execution_count": null,
      "metadata": {
        "colab": {
          "base_uri": "https://localhost:8080/"
        },
        "id": "BOo7wV67AVbY",
        "outputId": "c95224b6-0d7c-4245-f55a-9632a7734d92"
      },
      "outputs": [],
      "source": [
        "# !pip install yake"
      ]
    },
    {
      "cell_type": "code",
      "execution_count": 3,
      "metadata": {
        "colab": {
          "base_uri": "https://localhost:8080/"
        },
        "id": "Z977TAxbAVbZ",
        "outputId": "482b76b7-45c5-417c-aa2e-173b3d20b926"
      },
      "outputs": [
        {
          "name": "stdout",
          "output_type": "stream",
          "text": [
            "('Show me a picture', 0.04940384002065631)\n"
          ]
        }
      ],
      "source": [
        "import yake\n",
        "kw_extractor = yake.KeywordExtractor()\n",
        "# text = \"\"\"spaCy is an open-source software library for advanced natural language processing, written in the programming languages Python and Cython. The library is published under the MIT license and its main developers are Matthew Honnibal and Ines Montani, the founders of the software company Explosion.\"\"\"\n",
        "# text = \"\"\"Who is the director of ?\"\"\"\n",
        "# text = \"\"\"Who directed ?\"\"\"\n",
        "# text = \"\"\"What is the MPAA film rating of?\"\"\"\n",
        "# text = \"\"\"Let me know what  looks like.\"\"\"\n",
        "# text = \"\"\"Who directed ?\"\"\"\n",
        "# text = \"\"\"Let me know what  looks like\"\"\"\n",
        "text = \"\"\"Show me a picture of .\"\"\"\n",
        "language = \"en\"\n",
        "max_ngram_size = 8\n",
        "deduplication_threshold = 0.9\n",
        "numOfKeywords = 1\n",
        "custom_kw_extractor = yake.KeywordExtractor(lan=language, n=max_ngram_size, dedupLim=deduplication_threshold, top=numOfKeywords, features=None)\n",
        "keywords = custom_kw_extractor.extract_keywords(text)\n",
        "for kw in keywords:\n",
        "     print(kw)"
      ]
    },
    {
      "cell_type": "markdown",
      "metadata": {
        "id": "4PZBXTXuAVbb"
      },
      "source": [
        "## Similarity Comparison"
      ]
    },
    {
      "cell_type": "markdown",
      "metadata": {
        "id": "OLGieJ6fAVbb"
      },
      "source": [
        "### Load Property"
      ]
    },
    {
      "cell_type": "code",
      "execution_count": 4,
      "metadata": {
        "id": "4O_CzqdbAVbb"
      },
      "outputs": [],
      "source": [
        "import pickle\n",
        "with open('P2label.pickle', 'rb') as handle:\n",
        "    P2label = pickle.load(handle)\n",
        "with open('label2P.pickle', 'rb') as handle:\n",
        "    label2P = pickle.load(handle)\n",
        "labels = list(P2label.values())\n",
        "\n",
        "### TODO\n",
        "### "
      ]
    },
    {
      "cell_type": "code",
      "execution_count": 5,
      "metadata": {},
      "outputs": [],
      "source": [
        "import numpy as np"
      ]
    },
    {
      "cell_type": "code",
      "execution_count": 7,
      "metadata": {
        "colab": {
          "base_uri": "https://localhost:8080/"
        },
        "id": "iQGzj_DJAVbc",
        "outputId": "26a15e82-9e3d-4c2d-8d58-b093f66d00c4"
      },
      "outputs": [
        {
          "data": {
            "text/plain": [
              "['assessment', 'country of origin', 'IMDb ID', 'instance of', 'award received']"
            ]
          },
          "execution_count": 7,
          "metadata": {},
          "output_type": "execute_result"
        }
      ],
      "source": [
        "labels[:5]"
      ]
    },
    {
      "cell_type": "code",
      "execution_count": 5,
      "metadata": {},
      "outputs": [
        {
          "data": {
            "text/plain": [
              "'P155'"
            ]
          },
          "execution_count": 5,
          "metadata": {},
          "output_type": "execute_result"
        }
      ],
      "source": [
        "label2P['follows']"
      ]
    },
    {
      "cell_type": "code",
      "execution_count": 6,
      "metadata": {},
      "outputs": [
        {
          "data": {
            "text/html": [
              "<div>\n",
              "<style scoped>\n",
              "    .dataframe tbody tr th:only-of-type {\n",
              "        vertical-align: middle;\n",
              "    }\n",
              "\n",
              "    .dataframe tbody tr th {\n",
              "        vertical-align: top;\n",
              "    }\n",
              "\n",
              "    .dataframe thead th {\n",
              "        text-align: right;\n",
              "    }\n",
              "</style>\n",
              "<table border=\"1\" class=\"dataframe\">\n",
              "  <thead>\n",
              "    <tr style=\"text-align: right;\">\n",
              "      <th></th>\n",
              "      <th>Str</th>\n",
              "      <th>Wiki</th>\n",
              "      <th>Qid</th>\n",
              "    </tr>\n",
              "  </thead>\n",
              "  <tbody>\n",
              "    <tr>\n",
              "      <th>150147</th>\n",
              "      <td>record</td>\n",
              "      <td>&lt;http://www.wikidata.org/entity/Q107435521&gt;</td>\n",
              "      <td>Q107435521</td>\n",
              "    </tr>\n",
              "    <tr>\n",
              "      <th>150148</th>\n",
              "      <td>Gujarati languages</td>\n",
              "      <td>&lt;http://www.wikidata.org/entity/Q5617043&gt;</td>\n",
              "      <td>Q5617043</td>\n",
              "    </tr>\n",
              "    <tr>\n",
              "      <th>150149</th>\n",
              "      <td>empire on which the sun never sets</td>\n",
              "      <td>&lt;http://www.wikidata.org/entity/Q1211369&gt;</td>\n",
              "      <td>Q1211369</td>\n",
              "    </tr>\n",
              "    <tr>\n",
              "      <th>150150</th>\n",
              "      <td>Finnish National Land Survey place type</td>\n",
              "      <td>&lt;http://www.wikidata.org/entity/Q106589826&gt;</td>\n",
              "      <td>Q106589826</td>\n",
              "    </tr>\n",
              "    <tr>\n",
              "      <th>150151</th>\n",
              "      <td>papal election</td>\n",
              "      <td>&lt;http://www.wikidata.org/entity/Q29102902&gt;</td>\n",
              "      <td>Q29102902</td>\n",
              "    </tr>\n",
              "  </tbody>\n",
              "</table>\n",
              "</div>"
            ],
            "text/plain": [
              "                                            Str  \\\n",
              "150147                                   record   \n",
              "150148                       Gujarati languages   \n",
              "150149       empire on which the sun never sets   \n",
              "150150  Finnish National Land Survey place type   \n",
              "150151                           papal election   \n",
              "\n",
              "                                               Wiki         Qid  \n",
              "150147  <http://www.wikidata.org/entity/Q107435521>  Q107435521  \n",
              "150148    <http://www.wikidata.org/entity/Q5617043>    Q5617043  \n",
              "150149    <http://www.wikidata.org/entity/Q1211369>    Q1211369  \n",
              "150150  <http://www.wikidata.org/entity/Q106589826>  Q106589826  \n",
              "150151   <http://www.wikidata.org/entity/Q29102902>   Q29102902  "
            ]
          },
          "execution_count": 6,
          "metadata": {},
          "output_type": "execute_result"
        }
      ],
      "source": [
        "import pandas as pd\n",
        "\n",
        "Name_Qwiki_Qid = pd.read_csv('name_Qwiki_Qid.tsv', sep='\\t')\n",
        "Name_Qwiki_Qid[-5:]"
      ]
    },
    {
      "cell_type": "code",
      "execution_count": 7,
      "metadata": {},
      "outputs": [],
      "source": [
        "Name2Qid = dict(zip(Name_Qwiki_Qid['Str'], Name_Qwiki_Qid['Qid']))\n",
        "Qid2Name = dict(zip(Name_Qwiki_Qid['Qid'], Name_Qwiki_Qid['Str']))\n",
        "# Name2Qid = dict(zip(Name_Qwiki_Qid['Str'], Name_Qwiki_Qid['Qid']))\n",
        "# Name2Qid = dict(zip(Name_Qwiki_Qid['Str'], Name_Qwiki_Qid['Qid']))"
      ]
    },
    {
      "cell_type": "code",
      "execution_count": 8,
      "metadata": {
        "id": "L8DUOHuBAVbf"
      },
      "outputs": [],
      "source": [
        "texts = [\n",
        "    \"\"\"What is the original language of ?\"\"\",\n",
        "    \"\"\"What is the MPAA film rating of ?\"\"\",\n",
        "    \"\"\"Who is the director of ?\"\"\"\n",
        "]"
      ]
    },
    {
      "cell_type": "markdown",
      "metadata": {
        "id": "4glmnCAfAVbc"
      },
      "source": [
        "### Try Spacy: Not to use"
      ]
    },
    {
      "cell_type": "code",
      "execution_count": 292,
      "metadata": {
        "id": "WXKLnFzgAVbd"
      },
      "outputs": [],
      "source": [
        "import spacy\n",
        "nlp = spacy.load(\"en_core_web_md\")  # make sure to use larger package!\n",
        "\n",
        "def spacy_sent_sim(nlp, sent1, sent2):\n",
        "    doc1 = nlp(sent1)\n",
        "    doc2 = nlp(sent2)\n",
        "    return doc1.similarity(doc2)\n"
      ]
    },
    {
      "cell_type": "code",
      "execution_count": null,
      "metadata": {
        "id": "unsibCxKAVbd"
      },
      "outputs": [],
      "source": [
        "# !pip3 install https://github.com/explosion/spacy-models/releases/download/en_core_web_lg-3.4.1/en_core_web_lg-3.4.1-py3-none-any.whl\n",
        "# !pip3 install https://github.com/explosion/spacy-models/releases/download/en_core_web_md-3.4.1/en_core_web_md-3.4.1-py3-none-any.whl\n",
        "# !pip3 install https://github.com/explosion/spacy-models/releases/download/en_core_web_sm-3.4.1/en_core_web_sm-3.4.1-py3-none-any.whl"
      ]
    },
    {
      "cell_type": "code",
      "execution_count": 300,
      "metadata": {
        "colab": {
          "base_uri": "https://localhost:8080/"
        },
        "id": "Vlskd20IAVbd",
        "outputId": "6e13256e-c205-4d41-dbb2-1b00db438084"
      },
      "outputs": [
        {
          "name": "stdout",
          "output_type": "stream",
          "text": [
            "Who directed ? <-> director 0.16556292927078123\n"
          ]
        }
      ],
      "source": [
        "sent1 = \"Who directed ?\"\n",
        "sent2 = \"director\"\n",
        "# print()\n",
        "print(sent1, \"<->\", sent2, spacy_sent_sim(nlp, sent1, sent2))"
      ]
    },
    {
      "cell_type": "markdown",
      "metadata": {
        "id": "NkV2BSokAVbe"
      },
      "source": [
        "### Try Sentence-Transformer Hugging_face"
      ]
    },
    {
      "cell_type": "markdown",
      "metadata": {},
      "source": [
        "#### Load Model"
      ]
    },
    {
      "cell_type": "code",
      "execution_count": null,
      "metadata": {
        "id": "GaoMnkqeAVbe"
      },
      "outputs": [],
      "source": [
        "# !pip install -U sentence-transformers"
      ]
    },
    {
      "cell_type": "code",
      "execution_count": null,
      "metadata": {
        "id": "DZpLK_-KAVbe"
      },
      "outputs": [],
      "source": [
        "# from sentence_transformers import SentenceTransformer, util\n",
        "# sentences = [\"I'm happy\", \"I'm full of happiness\"]\n",
        "\n",
        "# model = SentenceTransformer('sentence-transformers/all-MiniLM-L6-v2')\n",
        "\n",
        "# #Compute embedding for both lists\n",
        "# embedding_1= model.encode(sentences[0], convert_to_tensor=True)\n",
        "# embedding_2 = model.encode(sentences[1], convert_to_tensor=True)\n",
        "\n",
        "# util.pytorch_cos_sim(embedding_1, embedding_2)\n",
        "\n",
        "\n"
      ]
    },
    {
      "cell_type": "code",
      "execution_count": 2,
      "metadata": {},
      "outputs": [],
      "source": [
        "def Sent_Trans_sim(nlp, sent1, sent2):\n",
        "  embedding_1= nlp.encode(sent1, convert_to_tensor=True)\n",
        "  embedding_2 = nlp.encode(sent2, convert_to_tensor=True)\n",
        "  return util.pytorch_cos_sim(embedding_1, embedding_2)"
      ]
    },
    {
      "cell_type": "code",
      "execution_count": 1,
      "metadata": {},
      "outputs": [
        {
          "name": "stderr",
          "output_type": "stream",
          "text": [
            "/Users/nanfangwuyu/opt/anaconda3/envs/Classifier/lib/python3.9/site-packages/tqdm/auto.py:22: TqdmWarning: IProgress not found. Please update jupyter and ipywidgets. See https://ipywidgets.readthedocs.io/en/stable/user_install.html\n",
            "  from .autonotebook import tqdm as notebook_tqdm\n"
          ]
        }
      ],
      "source": [
        "from sentence_transformers import SentenceTransformer, util\n",
        "\n",
        "model = SentenceTransformer('sentence-transformers/all-MiniLM-L6-v2')"
      ]
    },
    {
      "cell_type": "markdown",
      "metadata": {},
      "source": [
        "#### Handeling Labels"
      ]
    },
    {
      "cell_type": "code",
      "execution_count": 324,
      "metadata": {},
      "outputs": [
        {
          "data": {
            "text/plain": [
              "[['located', 'in', 'or', 'next', 'to', 'body', 'of', 'water'],\n",
              " ['original', 'language', 'of', 'film', 'or', 'TV', 'show'],\n",
              " ['contributor', 'to', 'the', 'creative', 'work', 'or', 'subject'],\n",
              " ['located',\n",
              "  'in',\n",
              "  'the',\n",
              "  'present-day',\n",
              "  'administrative',\n",
              "  'territorial',\n",
              "  'entity'],\n",
              " ['located', 'in', 'the', 'administrative', 'territorial', 'entity'],\n",
              " ['said', 'to', 'be', 'the', 'same', 'as'],\n",
              " ['languages', 'spoken,', 'written', 'or', 'signed'],\n",
              " ['language', 'of', 'work', 'or', 'name'],\n",
              " ['has', 'works', 'in', 'the', 'collection'],\n",
              " ['takes', 'place', 'in', 'fictional', 'universe']]"
            ]
          },
          "execution_count": 324,
          "metadata": {},
          "output_type": "execute_result"
        }
      ],
      "source": [
        "lbls = []\n",
        "for label in labels:\n",
        "    lbl = label.split(' ')\n",
        "    lbls.append(lbl)\n",
        "lbls.sort(key=lambda x: len(x), reverse=True)\n",
        "lbls[:10]"
      ]
    },
    {
      "cell_type": "code",
      "execution_count": 8,
      "metadata": {},
      "outputs": [],
      "source": [
        "labels = list(P2label.values())\n",
        "\n",
        "special_conditions_reverse = {'description': '<http://schema.org/description>',\n",
        "       'label': '<http://www.w3.org/2000/01/rdf-schema#label>',\n",
        "       'tag': '<http://ddis.ch/atai/tag>', 'rating': '<http://ddis.ch/atai/rating>'}\n",
        "extension_common = ['description', 'label', 'tag', 'rating']\n",
        "extension_recommend = ['recommend']\n",
        "extension_multimedia = ['look like'] # seem; appear; look like; look; resemble; bear resemblance to; be like.\n",
        "labels.extend(extension_common)\n",
        "labels.extend(extension_recommend)\n",
        "labels.extend(extension_multimedia)"
      ]
    },
    {
      "cell_type": "code",
      "execution_count": 9,
      "metadata": {},
      "outputs": [],
      "source": [
        "label_embeddings = model.encode(labels)"
      ]
    },
    {
      "cell_type": "markdown",
      "metadata": {},
      "source": [
        "#### Encode Texts"
      ]
    },
    {
      "cell_type": "code",
      "execution_count": 402,
      "metadata": {},
      "outputs": [],
      "source": [
        "# Redefine\n",
        "texts = [\"Who is the screenwriter of The Masked Gang: Cyprus?\"]\n",
        "texts = [\"What is the MPAA film rating of\"]\n",
        "texts = [\"What does Julia Roberts look like?\"]\n",
        "texts = [\"Let me know what <> looks like\"]\n",
        "# texts = [\"What is the box office of The Princess and the Frog?\"]\n",
        "# texts = [\"Who directed ?\"]"
      ]
    },
    {
      "cell_type": "code",
      "execution_count": 403,
      "metadata": {},
      "outputs": [],
      "source": [
        "text_embeddings = model.encode(texts)"
      ]
    },
    {
      "cell_type": "code",
      "execution_count": 404,
      "metadata": {},
      "outputs": [],
      "source": [
        "results = [util.pytorch_cos_sim(text_embeddings[0], label) for label in label_embeddings]"
      ]
    },
    {
      "cell_type": "code",
      "execution_count": 405,
      "metadata": {},
      "outputs": [
        {
          "name": "stdout",
          "output_type": "stream",
          "text": [
            "look like tensor([[0.4246]])\n",
            "depicts tensor([[0.3722]])\n",
            "interested in tensor([[0.3359]])\n",
            "description tensor([[0.3075]])\n",
            "image tensor([[0.3011]])\n"
          ]
        }
      ],
      "source": [
        "sort_res = results.copy()\n",
        "sort_res.sort(reverse=True)\n",
        "rank = 0\n",
        "pred = labels[results.index(sort_res[0])]\n",
        "for r in range(5):\n",
        "    print(labels[results.index(sort_res[r])], sort_res[r])\n",
        "\n",
        "## TODO\n",
        "## If tensor < th? ask if you ask ...?"
      ]
    },
    {
      "cell_type": "markdown",
      "metadata": {},
      "source": [
        "#### Function to Predict Label"
      ]
    },
    {
      "cell_type": "code",
      "execution_count": 10,
      "metadata": {},
      "outputs": [],
      "source": [
        "def label_prediction(questions, use_keywords=True, use_expanding=False):\n",
        "    keywords = questions\n",
        "    if use_keywords:\n",
        "        keywords = []\n",
        "        for q in questions:\n",
        "            keyword = custom_kw_extractor.extract_keywords(q)\n",
        "            if not keyword:\n",
        "                print(\"Use whole question\")\n",
        "                keywords.append(q)\n",
        "            else:\n",
        "                print(\"Keyword: \", keyword[0][0])\n",
        "                keywords.append(keyword[0][0])\n",
        "\n",
        "        print(\"Keywords: \", keywords)\n",
        "    \n",
        "    question_embeddings = model.encode(keywords)\n",
        "    # print(question_embeddings)\n",
        "    preds = []\n",
        "    for embd in question_embeddings:\n",
        "        results = [util.pytorch_cos_sim(embd, label) for label in label_embeddings]\n",
        "        pred = labels[results.index(max(results))]\n",
        "        preds.append(pred)\n",
        "    return preds"
      ]
    },
    {
      "cell_type": "code",
      "execution_count": null,
      "metadata": {},
      "outputs": [],
      "source": [
        "## TODO\n",
        "## Calculate accuracy"
      ]
    },
    {
      "cell_type": "markdown",
      "metadata": {
        "id": "IVBsFyK8AVbe"
      },
      "source": [
        "## SPARQL Search"
      ]
    },
    {
      "cell_type": "markdown",
      "metadata": {},
      "source": [
        "### API, Importing Library, and Data load"
      ]
    },
    {
      "cell_type": "code",
      "execution_count": 12,
      "metadata": {},
      "outputs": [],
      "source": [
        "text = \"Who directed The Bridge on the River Kwai?\"\n",
        "Q = \"The Bridge on the River Kwai\"\n",
        "P = \"director\""
      ]
    },
    {
      "cell_type": "code",
      "execution_count": 11,
      "metadata": {},
      "outputs": [],
      "source": [
        "from rdflib.namespace import Namespace, RDF, RDFS, XSD\n",
        "from rdflib.term import URIRef, Literal\n",
        "import csv\n",
        "import json\n",
        "import networkx as nx\n",
        "import rdflib\n",
        "import pywikibot"
      ]
    },
    {
      "cell_type": "code",
      "execution_count": 13,
      "metadata": {},
      "outputs": [
        {
          "data": {
            "text/plain": [
              "<Graph identifier=Nb1c037a5d39c4761a6d41a8b490d1644 (<class 'rdflib.graph.Graph'>)>"
            ]
          },
          "execution_count": 13,
          "metadata": {},
          "output_type": "execute_result"
        }
      ],
      "source": [
        "graph = rdflib.Graph()\n",
        "graph.parse('Datasets/14_graph.nt', format='turtle')"
      ]
    },
    {
      "cell_type": "markdown",
      "metadata": {},
      "source": [
        "### Name to Qid, Label to Pid"
      ]
    },
    {
      "cell_type": "code",
      "execution_count": 100,
      "metadata": {},
      "outputs": [],
      "source": [
        "def Qwiki2name_func(Qwiki: str):\n",
        "    if Qwiki == None:\n",
        "        return None\n",
        "    if not Qwiki.startswith('http'):\n",
        "        Qwiki = 'http://www.wikidata.org/entity/{}'.format(Qwiki)\n",
        "    sql = \\\n",
        "        \"\"\"\n",
        "    prefix wdt: <http://www.wikidata.org/prop/direct/> \n",
        "    prefix wd: <http://www.wikidata.org/entity/> \n",
        "    SELECT ?lbl\n",
        "    WHERE{\n",
        "    <%s> rdfs:label ?lbl.\n",
        "    FILTER(LANG(?lbl)='en')\n",
        "    }\n",
        "\n",
        "    \"\"\" % (Qwiki)\n",
        "\n",
        "    tl = list(graph.query(sql))\n",
        "    if len(tl)>0:\n",
        "        for t in tl:\n",
        "            for m in t:\n",
        "                print(str(m))\n",
        "                return str(m)\n",
        "    else:\n",
        "        return None\n",
        "\n",
        "def name2Qid_func(name: str, func=1):\n",
        "    if name == None:\n",
        "        return None\n",
        "    if func==1:\n",
        "    ### TODO\n",
        "    ### Change to SPARQL\n",
        "    ### applymap(lambda x: x.replace('–', '-'))\n",
        "    ### ?Qid rdf:label \"name\"@en --> result1\n",
        "    ### if len > 1\n",
        "    ###     ?Qid rdf:label \"name\"@en\n",
        "    ###     ?Qid instance of  film --> result2\n",
        "    ###     if len >= 1\n",
        "    ###         random pick one from result2\n",
        "    ###     else: random pick one from result1\n",
        "    ### elif len = 1\n",
        "    ### else None\n",
        "        sql1 = \\\n",
        "        \"\"\"\n",
        "    prefix wdt: <http://www.wikidata.org/prop/direct/> \n",
        "    prefix wd: <http://www.wikidata.org/entity/> \n",
        "    SELECT ?Qid\n",
        "    WHERE{\n",
        "    ?Qid rdfs:label \"%s\"@en .\n",
        "    }\n",
        "\n",
        "    \"\"\" % (name)\n",
        "\n",
        "        sql2 = \\\n",
        "        \"\"\"\n",
        "    prefix wdt: <http://www.wikidata.org/prop/direct/> \n",
        "    prefix wd: <http://www.wikidata.org/entity/> \n",
        "    SELECT ?Qid\n",
        "    WHERE{\n",
        "    ?Qid rdfs:label \"%s\"@en.\n",
        "    ?Qid wdt:P31/wdt:P279* wd:Q11424\n",
        "    \n",
        "    }\n",
        "\n",
        "    \"\"\" % (name)\n",
        "    \n",
        "\n",
        "\n",
        "    # \"\"\"\n",
        "    # prefix wdt: <http://www.wikidata.org/prop/direct/> \n",
        "    # prefix wd: <http://www.wikidata.org/entity/> \n",
        "    # SELECT ?Qid\n",
        "    # WHERE{\n",
        "    #     {?Qid wdt:P31 wd:Q11424 .\"}\n",
        "    #        UNION\n",
        "    #         {?Qid rdfs:label \"%s\"@en .\n",
        "    #         }\n",
        "            \n",
        "    #     }\n",
        "\n",
        "    # \"\"\" % (name)\n",
        "    \n",
        "\n",
        "        Qids = []\n",
        "        tl = list(graph.query(sql1))\n",
        "        for t in tl:\n",
        "            for m in t:\n",
        "                Qids.append(str(m).removeprefix(\"http://www.wikidata.org/entity/\"))\n",
        "        # print(len(Qids))\n",
        "        if len(Qids) == 0:\n",
        "            print('Name2Qid failed, name: {}'.format(name))\n",
        "            return None\n",
        "        elif len(Qids) == 1:\n",
        "            return Qids[0]\n",
        "        \n",
        "        elif len(Qids) > 1:\n",
        "            Qids2 = []\n",
        "            tl2 = list(graph.query(sql2))\n",
        "            # print(\"TL:\", tl2)\n",
        "            for t in tl2:\n",
        "                for m in t:\n",
        "                    Qids2.append(str(m).removeprefix(\"http://www.wikidata.org/entity/\"))\n",
        "            if len(Qids2) >= 1:\n",
        "                return np.random.choice(Qids2)\n",
        "            else: \n",
        "                # print(Qids)\n",
        "                return np.random.choice(Qids)\n",
        "        \n",
        "        \n",
        "        \n",
        "        \n",
        "    else:\n",
        "        if name in Name2Qid.keys():\n",
        "            # \"Star Wars: Episode VI - Return of the Jedi\"\n",
        "            return Name2Qid[name]\n",
        "        else:\n",
        "            # name = name.replace('-', '–')\n",
        "            # if name in Name2Qid.keys():\n",
        "            #     return Name2Qid[name]\n",
        "            print('Name2Qid failed, name: {}'.format(name))\n",
        "            return None\n",
        "\n",
        "    # site = pywikibot.Site(\"en\", \"wikipedia\")\n",
        "    # page = pywikibot.Page(site, name)\n",
        "    # item = pywikibot.ItemPage.fromPage(page)\n",
        "    # return item.getID()\n",
        "\n",
        "def label2Pid_func(label):\n",
        "    if label in extension_multimedia:\n",
        "        return label2P['image']\n",
        "\n",
        "    if label in label2P.keys():\n",
        "        return label2P[label]\n",
        "    else:\n",
        "        print('Label2Pid failed.')\n",
        "        return None"
      ]
    },
    {
      "cell_type": "code",
      "execution_count": 15,
      "metadata": {},
      "outputs": [
        {
          "data": {
            "text/plain": [
              "'Q5645443'"
            ]
          },
          "execution_count": 15,
          "metadata": {},
          "output_type": "execute_result"
        }
      ],
      "source": [
        "# Qid = name2Qid_func(Q) # Q188718\n",
        "Qid = name2Qid_func(\"Hamlet\")\n",
        "Qid"
      ]
    },
    {
      "cell_type": "code",
      "execution_count": 16,
      "metadata": {},
      "outputs": [],
      "source": [
        "Pid = label2Pid_func(P) # P57"
      ]
    },
    {
      "cell_type": "markdown",
      "metadata": {},
      "source": [
        "### Temp"
      ]
    },
    {
      "cell_type": "code",
      "execution_count": 58,
      "metadata": {},
      "outputs": [],
      "source": [
        "# cast of Moon\n",
        "temp_0 = \"\"\"\n",
        "\n",
        "    PREFIX ddis: <http://ddis.ch/atai/> \n",
        "    PREFIX wd: <http://www.wikidata.org/entity/> \n",
        "    PREFIX wdt: <http://www.wikidata.org/prop/direct/> \n",
        "    PREFIX schema: <http://schema.org/> \n",
        "    \n",
        "    SELECT ?lbl WHERE {\n",
        "        ?movie rdfs:label \"Moon\"@en .\n",
        "        ?movie wdt:P161 ?cast .\n",
        "        ?cast rdfs:label ?lbl .\n",
        "    }\n",
        "    ''')]\n",
        "\"\"\""
      ]
    },
    {
      "cell_type": "code",
      "execution_count": 59,
      "metadata": {},
      "outputs": [],
      "source": [
        "temp_1 = \"\"\"\n",
        "prefix wdt: <http://www.wikidata.org/prop/direct/> \n",
        "prefix wd: <http://www.wikidata.org/entity/> \n",
        "SELECT ?item ?label \n",
        "WHERE{\n",
        "  ?item wdt:P31 wd:Q55488 .\n",
        "  ?item wdt:P131 wd:Q72 .\n",
        "  ?item rdfs:label ?label .\n",
        "  FILTER(LANG(?label) = \"en\").\n",
        "}\n",
        "LIMIT 1\n",
        "\"\"\"\n",
        "\n",
        "# search results for: \n",
        "#     '?' 'BELONGS TO' 'RAILWAY'\n",
        "# AND '?' 'PLACE IN' 'ZURICH'\n"
      ]
    },
    {
      "cell_type": "code",
      "execution_count": null,
      "metadata": {},
      "outputs": [],
      "source": [
        "### Formal Temp ###\n",
        "\n",
        "temp_2 = \\\n",
        "\"\"\"\n",
        "prefix wdt: <http://www.wikidata.org/prop/direct/> \n",
        "prefix wd: <http://www.wikidata.org/entity/> \n",
        "SELECT ?label\n",
        "WHERE{\n",
        "  wd:%s wdt:%s ?item .\n",
        "  ?item rdfs:label ?label .\n",
        "  FILTER(LANG(?label) = \"en\").\n",
        "}\n",
        "\"\"\" % (Q_wiki, P_wiki)"
      ]
    },
    {
      "cell_type": "code",
      "execution_count": 61,
      "metadata": {},
      "outputs": [],
      "source": [
        "temp_3 = \\\n",
        "\"\"\"\n",
        "prefix wdt: <http://www.wikidata.org/prop/direct/> \n",
        "prefix wd: <http://www.wikidata.org/entity/> \n",
        "SELECT *\n",
        "WHERE{\n",
        "  ?Q1 ?P ?Q2 .\n",
        "  ?Q1 rdfs:label ?Q1l .\n",
        "  FILTER(LANG(?Q1l) = \"en\").\n",
        "  ?P rdfs:label ?Pl .\n",
        "  FILTER(LANG(?Pl) = \"en\").\n",
        "  ?Q2l rdfs:label ?Q2l .\n",
        "  FILTER(LANG(?Q2l) = \"en\").\n",
        "\n",
        "}\n",
        "LIMIT 2\n",
        "\"\"\""
      ]
    },
    {
      "cell_type": "code",
      "execution_count": null,
      "metadata": {},
      "outputs": [],
      "source": [
        "tl = list(graph.query(temp_3))\n",
        "for e in tl:\n",
        "    print(str(tl))"
      ]
    },
    {
      "cell_type": "code",
      "execution_count": 63,
      "metadata": {},
      "outputs": [],
      "source": [
        "temp_4 = \\\n",
        "\"\"\"\n",
        "prefix wdt: <http://www.wikidata.org/prop/direct/> \n",
        "prefix wd: <http://www.wikidata.org/entity/> \n",
        "SELECT *\n",
        "WHERE{\n",
        "  ?Q1 wdt:P57 ?Q2 .\n",
        "\n",
        "}\n",
        "LIMIT 2\n",
        "\"\"\""
      ]
    },
    {
      "cell_type": "code",
      "execution_count": 64,
      "metadata": {},
      "outputs": [
        {
          "name": "stdout",
          "output_type": "stream",
          "text": [
            "(rdflib.term.URIRef('http://www.wikidata.org/entity/Q360509'), rdflib.term.URIRef('http://www.wikidata.org/entity/Q1000825'))\n",
            "(rdflib.term.URIRef('http://www.wikidata.org/entity/Q360509'), rdflib.term.URIRef('http://www.wikidata.org/entity/Q3122116'))\n"
          ]
        }
      ],
      "source": [
        "for s in graph.query(temp_4):\n",
        "    print(s)"
      ]
    },
    {
      "cell_type": "code",
      "execution_count": 65,
      "metadata": {},
      "outputs": [],
      "source": [
        "# Another way to query\n",
        "\n",
        "wdt = Namespace('http://www.wikidata.org/prop/direct/')\n",
        "wd = Namespace('http://www.wikidata.org/entity/')\n",
        "lbl = Namespace('http://www.w3.org/2000/01/rdf-schema#')\n",
        "# tr = (wd[Q_wiki], wdt[P_wiki], None)\n",
        "tr = (None, lbl['label'], '')\n",
        "for t in graph.triples(tr):\n",
        "    print(t)"
      ]
    },
    {
      "cell_type": "code",
      "execution_count": 66,
      "metadata": {},
      "outputs": [],
      "source": [
        "temp_5 = \\\n",
        "\"\"\"\n",
        "prefix wdt: <http://www.wikidata.org/prop/direct/> \n",
        "prefix wd: <http://www.wikidata.org/entity/> \n",
        "SELECT *\n",
        "WHERE{\n",
        "  ?Q1 ?P ?Q2 .\n",
        "\n",
        "}\n",
        "LIMIT 2\n",
        "\"\"\""
      ]
    },
    {
      "cell_type": "code",
      "execution_count": null,
      "metadata": {},
      "outputs": [],
      "source": [
        "for s in graph.query(temp_5):\n",
        "    print(s)"
      ]
    },
    {
      "cell_type": "markdown",
      "metadata": {},
      "source": [
        "### SQL Generation"
      ]
    },
    {
      "cell_type": "markdown",
      "metadata": {},
      "source": [
        "#### Distinguish question type"
      ]
    },
    {
      "cell_type": "code",
      "execution_count": 214,
      "metadata": {},
      "outputs": [],
      "source": [
        "recommend_labels = ['recommend']\n",
        "multimedia_labels = ['image', 'look like']\n",
        "special_conditions_reverse = {'description': '<http://schema.org/description>',\n",
        "       'label': '<http://www.w3.org/2000/01/rdf-schema#label>',\n",
        "       'tag': '<http://ddis.ch/atai/tag>', 'rating': '<http://ddis.ch/atai/rating>'}\n",
        "\n",
        "\n",
        "question_type = 'common'\n",
        "pred = P\n",
        "def distinguish_question_type(pred):\n",
        "    question_type = 'common'\n",
        "    if pred in special_conditions_reverse.keys():\n",
        "        question_type = 'special'\n",
        "        \n",
        "    elif pred in recommend_labels:\n",
        "        question_type = 'recommend'\n",
        "\n",
        "    elif pred in multimedia_labels:\n",
        "        question_type = 'multimedia'\n",
        "    return question_type\n",
        "question_type = distinguish_question_type(pred)"
      ]
    },
    {
      "cell_type": "markdown",
      "metadata": {},
      "source": [
        "#### Special Questions"
      ]
    },
    {
      "cell_type": "code",
      "execution_count": 85,
      "metadata": {},
      "outputs": [],
      "source": [
        "def answer_special_questions(Q, P):\n",
        "    Qid = name2Qid_func(Q)\n",
        "    Puri = special_conditions_reverse[P]\n",
        "    common_sql = \\\n",
        "\"\"\"\n",
        "prefix wdt: <http://www.wikidata.org/prop/direct/> \n",
        "prefix wd: <http://www.wikidata.org/entity/> \n",
        "SELECT ?item\n",
        "WHERE{\n",
        "  wd:%s %s ?item .\n",
        "}\n",
        "\"\"\" % (Qid, Puri)\n",
        "    results = [str(s) for s, in graph.query(common_sql)]\n",
        "    if len(results):\n",
        "      # print(common_sql)\n",
        "      return results[0]\n",
        "    else:\n",
        "      print('Answer special questions failed, sql: {}'.format(common_sql))\n",
        "      return None"
      ]
    },
    {
      "cell_type": "code",
      "execution_count": 90,
      "metadata": {},
      "outputs": [
        {
          "data": {
            "text/plain": [
              "'Good Neighbors'"
            ]
          },
          "execution_count": 90,
          "metadata": {},
          "output_type": "execute_result"
        }
      ],
      "source": [
        "answer_special_questions(Q, 'description')"
      ]
    },
    {
      "cell_type": "markdown",
      "metadata": {},
      "source": [
        "#### Common Questions"
      ]
    },
    {
      "cell_type": "code",
      "execution_count": 43,
      "metadata": {},
      "outputs": [],
      "source": [
        "def answer_common_questions(Q, P, func='cro'):\n",
        "    # fuc: fac, emb, cro\n",
        "    answer = answer_crowdsourcing_questions(Q, P)\n",
        "    if answer:\n",
        "      return {'type': 'cro', 'answer': answer}\n",
        "    else:\n",
        "      answer_fac = answer_factual_questions(Q, P)\n",
        "      answer_emb = answer_embedding_questions(Q, P)\n",
        "      if answer_fac == None and answer_emb == None:\n",
        "        return None\n",
        "      elif answer_fac != None and answer_emb == None:\n",
        "        return {'type': 'fac', 'answer': answer_fac}\n",
        "      elif answer_fac == None and answer_emb != None:\n",
        "        return {'type': 'emb', 'answer': answer_emb}\n",
        "      else:\n",
        "        return {'type': 'fac and emb', 'answer': (answer_emb, answer_fac)}\n",
        "      "
      ]
    },
    {
      "cell_type": "code",
      "execution_count": 21,
      "metadata": {},
      "outputs": [
        {
          "data": {
            "text/plain": [
              "'David Lean'"
            ]
          },
          "execution_count": 21,
          "metadata": {},
          "output_type": "execute_result"
        }
      ],
      "source": [
        "### Test\n",
        "answer_common_questions(Q, P)"
      ]
    },
    {
      "cell_type": "markdown",
      "metadata": {},
      "source": [
        "##### Common-Fac"
      ]
    },
    {
      "cell_type": "code",
      "execution_count": 196,
      "metadata": {},
      "outputs": [],
      "source": [
        "def answer_factual_questions(Q, P, func='fac'):\n",
        "\n",
        "    Qid = name2Qid_func(Q)\n",
        "    Pid = label2Pid_func(P)\n",
        "    common_sql = \\\n",
        "\"\"\"\n",
        "prefix wdt: <http://www.wikidata.org/prop/direct/> \n",
        "prefix wd: <http://www.wikidata.org/entity/> \n",
        "SELECT ?label\n",
        "WHERE{\n",
        "  wd:%s wdt:%s ?item .\n",
        "  ?item rdfs:label ?label .\n",
        "  FILTER(LANG(?label) = \"en\").\n",
        "}\n",
        "\"\"\" % (Qid, Pid)\n",
        "    results = [str(s) for s, in graph.query(common_sql)]\n",
        "    if len(results):\n",
        "      # print(common_sql)\n",
        "      return results[:3]\n",
        "    else:\n",
        "      print('Answer factual questions failed.'.format(common_sql))\n",
        "      return None"
      ]
    },
    {
      "cell_type": "code",
      "execution_count": 126,
      "metadata": {},
      "outputs": [
        {
          "data": {
            "text/plain": [
              "('Good Neighbors', 'genre', ['art film', 'comedy-drama'])"
            ]
          },
          "execution_count": 126,
          "metadata": {},
          "output_type": "execute_result"
        }
      ],
      "source": [
        "Q, P, answer_factual_questions(Q, P)\n",
        "### TODO multiple answers return 3"
      ]
    },
    {
      "cell_type": "code",
      "execution_count": 72,
      "metadata": {},
      "outputs": [
        {
          "name": "stdout",
          "output_type": "stream",
          "text": [
            "The Blue Butterfly\n"
          ]
        },
        {
          "data": {
            "text/plain": [
              "'Marc Donato'"
            ]
          },
          "execution_count": 72,
          "metadata": {},
          "output_type": "execute_result"
        }
      ],
      "source": [
        "answer_factual_questions(Qwiki2name_func('Q1168152'), P2label['P161'])"
      ]
    },
    {
      "cell_type": "markdown",
      "metadata": {},
      "source": [
        "##### Common-Emb"
      ]
    },
    {
      "cell_type": "code",
      "execution_count": 22,
      "metadata": {},
      "outputs": [],
      "source": [
        "from sklearn.metrics import pairwise_distances"
      ]
    },
    {
      "cell_type": "code",
      "execution_count": 25,
      "metadata": {},
      "outputs": [],
      "source": [
        "WD = rdflib.Namespace('http://www.wikidata.org/entity/')\n",
        "WDT = rdflib.Namespace('http://www.wikidata.org/prop/direct/')\n",
        "DDIS = rdflib.Namespace('http://ddis.ch/atai/')\n",
        "RDFS = rdflib.namespace.RDFS\n",
        "SCHEMA = rdflib.Namespace('http://schema.org/')"
      ]
    },
    {
      "cell_type": "code",
      "execution_count": 26,
      "metadata": {},
      "outputs": [],
      "source": [
        "entity_emb = np.load('Datasets/EmbeddingData/entity_embeds.npy')\n",
        "relation_emb = np.load('Datasets/EmbeddingData/relation_embeds.npy')"
      ]
    },
    {
      "cell_type": "code",
      "execution_count": 27,
      "metadata": {},
      "outputs": [],
      "source": [
        "with open('Datasets/EmbeddingData/entity_ids.del', 'r') as ifile:\n",
        "    ent2id = {rdflib.term.URIRef(ent): int(idx) for idx, ent in csv.reader(ifile, delimiter='\\t')}\n",
        "    id2ent = {v: k for k, v in ent2id.items()}\n",
        "with open('Datasets/EmbeddingData/relation_ids.del', 'r') as ifile:\n",
        "    rel2id = {rdflib.term.URIRef(rel): int(idx) for idx, rel in csv.reader(ifile, delimiter='\\t')}\n",
        "    id2rel = {v: k for k, v in rel2id.items()}"
      ]
    },
    {
      "cell_type": "code",
      "execution_count": 28,
      "metadata": {},
      "outputs": [],
      "source": [
        "ent2lbl = {ent: str(lbl) for ent, lbl in graph.subject_objects(RDFS.label)}\n",
        "lbl2ent = {lbl: ent for ent, lbl in ent2lbl.items()}"
      ]
    },
    {
      "cell_type": "code",
      "execution_count": 31,
      "metadata": {},
      "outputs": [],
      "source": [
        "def answer_embedding_questions(Q, P, func='emb'):\n",
        "\n",
        "    Qid = name2Qid_func(Q)\n",
        "    Pid = label2Pid_func(P)\n",
        "    head = entity_emb[ent2id[WD[Qid]]]\n",
        "    pred = relation_emb[rel2id[WDT[Pid]]]\n",
        "    # add vectors according to TransE scoring function.\n",
        "    lhs = head + pred\n",
        "    # compute distance to *any* entity\n",
        "    dist = pairwise_distances(lhs.reshape(1, -1), entity_emb).reshape(-1)\n",
        "    # find most plausible entities\n",
        "    most_likely = dist.argsort()\n",
        "\n",
        "    print([(id2ent[idx][len(WD):], ent2lbl[id2ent[idx]], dist[idx], i) for i, idx in enumerate(most_likely[:3])])\n",
        "    emb_result = ent2lbl[id2ent[most_likely[0]]]\n",
        "\n",
        "    return emb_result"
      ]
    },
    {
      "cell_type": "code",
      "execution_count": 33,
      "metadata": {},
      "outputs": [
        {
          "name": "stdout",
          "output_type": "stream",
          "text": [
            "[('Q26118', 'Jack Hawkins', 2785.5608, 0), ('Q55260', 'David Lean', 2934.9756, 1), ('Q3127608', 'Harold Goodwin', 2940.063, 2)]\n"
          ]
        },
        {
          "data": {
            "text/plain": [
              "('The Bridge on the River Kwai', 'director', 'Jack Hawkins')"
            ]
          },
          "execution_count": 33,
          "metadata": {},
          "output_type": "execute_result"
        }
      ],
      "source": [
        "Q, P, answer_embedding_questions(Q, P)"
      ]
    },
    {
      "cell_type": "markdown",
      "metadata": {},
      "source": [
        "##### Common-Cro"
      ]
    },
    {
      "cell_type": "code",
      "execution_count": 35,
      "metadata": {},
      "outputs": [],
      "source": [
        "cro_df = pd.read_csv('Datasets/CrowdData/Clean_Cro.tsv', sep='\\t')"
      ]
    },
    {
      "cell_type": "code",
      "execution_count": 158,
      "metadata": {},
      "outputs": [],
      "source": [
        "results = cro_df.loc[(cro_df['Input1ID']=='wd:Q217010') & (cro_df['Input2ID']=='wdt:P2142')]"
      ]
    },
    {
      "cell_type": "code",
      "execution_count": 163,
      "metadata": {},
      "outputs": [
        {
          "data": {
            "text/plain": [
              "[False, False, False]"
            ]
          },
          "execution_count": 163,
          "metadata": {},
          "output_type": "execute_result"
        }
      ],
      "source": [
        "list(results['GroupAnswers'])"
      ]
    },
    {
      "cell_type": "code",
      "execution_count": 83,
      "metadata": {},
      "outputs": [
        {
          "data": {
            "text/html": [
              "<div>\n",
              "<style scoped>\n",
              "    .dataframe tbody tr th:only-of-type {\n",
              "        vertical-align: middle;\n",
              "    }\n",
              "\n",
              "    .dataframe tbody tr th {\n",
              "        vertical-align: top;\n",
              "    }\n",
              "\n",
              "    .dataframe thead th {\n",
              "        text-align: right;\n",
              "    }\n",
              "</style>\n",
              "<table border=\"1\" class=\"dataframe\">\n",
              "  <thead>\n",
              "    <tr style=\"text-align: right;\">\n",
              "      <th></th>\n",
              "      <th>HITId</th>\n",
              "      <th>HITTypeId</th>\n",
              "      <th>Title</th>\n",
              "      <th>Reward</th>\n",
              "      <th>AssignmentId</th>\n",
              "      <th>WorkerId</th>\n",
              "      <th>AssignmentStatus</th>\n",
              "      <th>WorkTimeInSeconds</th>\n",
              "      <th>LifetimeApprovalRate</th>\n",
              "      <th>Input1ID</th>\n",
              "      <th>Input2ID</th>\n",
              "      <th>Input3ID</th>\n",
              "      <th>AnswerID</th>\n",
              "      <th>AnswerLabel</th>\n",
              "      <th>FixPosition</th>\n",
              "      <th>FixValue</th>\n",
              "      <th>GroupAnswers</th>\n",
              "      <th>TrueCount</th>\n",
              "      <th>FalseCount</th>\n",
              "      <th>Agreement</th>\n",
              "    </tr>\n",
              "  </thead>\n",
              "  <tbody>\n",
              "    <tr>\n",
              "      <th>22</th>\n",
              "      <td>8</td>\n",
              "      <td>7QT</td>\n",
              "      <td>Is this triple correct or incorrect?</td>\n",
              "      <td>$0.50</td>\n",
              "      <td>37</td>\n",
              "      <td>928UJANWZ12</td>\n",
              "      <td>Submitted</td>\n",
              "      <td>240</td>\n",
              "      <td>98%</td>\n",
              "      <td>wd:Q217010</td>\n",
              "      <td>wdt:P2142</td>\n",
              "      <td>698491347</td>\n",
              "      <td>2.0</td>\n",
              "      <td>INCORRECT</td>\n",
              "      <td>Object</td>\n",
              "      <td>698491348</td>\n",
              "      <td>False</td>\n",
              "      <td>0</td>\n",
              "      <td>3</td>\n",
              "      <td>0.24</td>\n",
              "    </tr>\n",
              "  </tbody>\n",
              "</table>\n",
              "</div>"
            ],
            "text/plain": [
              "    HITId HITTypeId                                 Title Reward  \\\n",
              "22      8       7QT  Is this triple correct or incorrect?  $0.50   \n",
              "\n",
              "    AssignmentId     WorkerId AssignmentStatus  WorkTimeInSeconds  \\\n",
              "22            37  928UJANWZ12        Submitted                240   \n",
              "\n",
              "   LifetimeApprovalRate    Input1ID   Input2ID   Input3ID  AnswerID  \\\n",
              "22                  98%  wd:Q217010  wdt:P2142  698491347       2.0   \n",
              "\n",
              "   AnswerLabel FixPosition   FixValue  GroupAnswers  TrueCount  FalseCount  \\\n",
              "22   INCORRECT      Object  698491348         False          0           3   \n",
              "\n",
              "    Agreement  \n",
              "22       0.24  "
            ]
          },
          "execution_count": 83,
          "metadata": {},
          "output_type": "execute_result"
        }
      ],
      "source": [
        "results[results['FixPosition'].str.contains('Object') & (~results['FixValue'].str.contains('Empty'))]"
      ]
    },
    {
      "cell_type": "code",
      "execution_count": 179,
      "metadata": {},
      "outputs": [
        {
          "name": "stdout",
          "output_type": "stream",
          "text": [
            "Q11621 P2142\n",
            "792910554\n",
            "{'response_type': 'correct', 'result': '792910554', 'TrueCount': 2, 'FalseCount': 1, 'Agreement': 0.24}\n",
            "Q11621 P2142\n",
            "792910554\n",
            "{'response_type': 'correct', 'result': '792910554', 'TrueCount': 2, 'FalseCount': 1, 'Agreement': 0.24}\n",
            "Q11621 P2142\n",
            "792910554\n",
            "{'response_type': 'correct', 'result': '792910554', 'TrueCount': 2, 'FalseCount': 1, 'Agreement': 0.24}\n",
            "Q603545 P2142\n",
            "4300000\n",
            "{'response_type': 'correct', 'result': '4300000', 'TrueCount': 3, 'FalseCount': 0, 'Agreement': 0.24}\n",
            "Q603545 P2142\n",
            "4300000\n",
            "{'response_type': 'correct', 'result': '4300000', 'TrueCount': 3, 'FalseCount': 0, 'Agreement': 0.24}\n",
            "Q603545 P2142\n",
            "4300000\n",
            "{'response_type': 'correct', 'result': '4300000', 'TrueCount': 3, 'FalseCount': 0, 'Agreement': 0.24}\n",
            "Q16911843 P577\n",
            "2014-01-18\n",
            "{'response_type': 'correct', 'result': '2014-01-18', 'TrueCount': 2, 'FalseCount': 1, 'Agreement': 0.24}\n",
            "Q16911843 P577\n",
            "2014-01-18\n",
            "{'response_type': 'correct', 'result': '2014-01-18', 'TrueCount': 2, 'FalseCount': 1, 'Agreement': 0.24}\n",
            "Q16911843 P577\n",
            "2014-01-18\n",
            "{'response_type': 'correct', 'result': '2014-01-18', 'TrueCount': 2, 'FalseCount': 1, 'Agreement': 0.24}\n",
            "Q132863 P2142\n",
            "969023261\n",
            "{'response_type': 'mention', 'result': '969023261', 'TrueCount': 0, 'FalseCount': 3, 'Agreement': 0.24}\n",
            "Q132863 P2142\n",
            "969023261\n",
            "{'response_type': 'mention', 'result': '969023261', 'TrueCount': 0, 'FalseCount': 3, 'Agreement': 0.24}\n",
            "Q132863 P2142\n",
            "969023261\n",
            "{'response_type': 'mention', 'result': '969023261', 'TrueCount': 0, 'FalseCount': 3, 'Agreement': 0.24}\n",
            "Q1628022 P577\n",
            "1951-01-01\n",
            "{'response_type': 'correct', 'result': '1951-01-01', 'TrueCount': 3, 'FalseCount': 0, 'Agreement': 0.24}\n",
            "Q1628022 P577\n",
            "1951-01-01\n",
            "{'response_type': 'correct', 'result': '1951-01-01', 'TrueCount': 3, 'FalseCount': 0, 'Agreement': 0.24}\n",
            "Q1628022 P577\n",
            "1951-01-01\n",
            "{'response_type': 'correct', 'result': '1951-01-01', 'TrueCount': 3, 'FalseCount': 0, 'Agreement': 0.24}\n",
            "Q48313910 P577\n",
            "2018-02-24\n",
            "{'response_type': 'fix', 'result': '2019-02-24', 'TrueCount': 1, 'FalseCount': 2, 'Agreement': 0.24}\n",
            "Q48313910 P577\n",
            "2018-02-24\n",
            "{'response_type': 'fix', 'result': '2019-02-24', 'TrueCount': 1, 'FalseCount': 2, 'Agreement': 0.24}\n",
            "Q48313910 P577\n",
            "2018-02-24\n",
            "{'response_type': 'fix', 'result': '2019-02-24', 'TrueCount': 1, 'FalseCount': 2, 'Agreement': 0.24}\n",
            "Q171300 P2142\n",
            "267000000\n",
            "{'response_type': 'correct', 'result': '267000000', 'TrueCount': 2, 'FalseCount': 1, 'Agreement': 0.24}\n",
            "Q171300 P2142\n",
            "267000000\n",
            "{'response_type': 'correct', 'result': '267000000', 'TrueCount': 2, 'FalseCount': 1, 'Agreement': 0.24}\n",
            "Q171300 P2142\n",
            "267000000\n",
            "{'response_type': 'correct', 'result': '267000000', 'TrueCount': 2, 'FalseCount': 1, 'Agreement': 0.24}\n",
            "Q217010 P2142\n",
            "698491347\n",
            "{'response_type': 'fix', 'result': '698491348', 'TrueCount': 0, 'FalseCount': 3, 'Agreement': 0.24}\n",
            "Q217010 P2142\n",
            "698491347\n",
            "{'response_type': 'fix', 'result': '698491348', 'TrueCount': 0, 'FalseCount': 3, 'Agreement': 0.24}\n",
            "Q217010 P2142\n",
            "698491347\n",
            "{'response_type': 'fix', 'result': '698491348', 'TrueCount': 0, 'FalseCount': 3, 'Agreement': 0.24}\n",
            "Q4993462 P577\n",
            "2008-08-29\n",
            "{'response_type': 'mention', 'result': '2008-08-29', 'TrueCount': 0, 'FalseCount': 3, 'Agreement': 0.24}\n",
            "Q4993462 P577\n",
            "2008-08-29\n",
            "{'response_type': 'mention', 'result': '2008-08-29', 'TrueCount': 0, 'FalseCount': 3, 'Agreement': 0.24}\n",
            "Q4993462 P577\n",
            "2008-08-29\n",
            "{'response_type': 'mention', 'result': '2008-08-29', 'TrueCount': 0, 'FalseCount': 3, 'Agreement': 0.24}\n",
            "Q7033842 P577\n",
            "1996-06-01\n",
            "{'response_type': 'mention', 'result': '1996-06-01', 'TrueCount': 1, 'FalseCount': 2, 'Agreement': 0.24}\n",
            "Q7033842 P577\n",
            "1996-06-01\n",
            "{'response_type': 'mention', 'result': '1996-06-01', 'TrueCount': 1, 'FalseCount': 2, 'Agreement': 0.24}\n",
            "Q7033842 P577\n",
            "1996-06-01\n",
            "{'response_type': 'mention', 'result': '1996-06-01', 'TrueCount': 1, 'FalseCount': 2, 'Agreement': 0.24}\n",
            "Q1339195 ddis:indirectSubclassOf\n",
            "what\n",
            "None\n",
            "Q1339195 ddis:indirectSubclassOf\n",
            "what\n",
            "None\n",
            "Q1339195 ddis:indirectSubclassOf\n",
            "what\n",
            "None\n",
            "Q104649845 ddis:indirectSubclassOf\n",
            "what\n",
            "None\n",
            "Q104649845 ddis:indirectSubclassOf\n",
            "what\n",
            "None\n",
            "Q104649845 ddis:indirectSubclassOf\n",
            "what\n",
            "None\n",
            "Q61928601 ddis:indirectSubclassOf\n",
            "what\n",
            "None\n",
            "Q61928601 ddis:indirectSubclassOf\n",
            "what\n",
            "None\n",
            "Q61928601 ddis:indirectSubclassOf\n",
            "what\n",
            "None\n",
            "Q1004 ddis:indirectSubclassOf\n",
            "what\n",
            "None\n",
            "Q1004 ddis:indirectSubclassOf\n",
            "what\n",
            "None\n",
            "Q1004 ddis:indirectSubclassOf\n",
            "what\n",
            "None\n",
            "Q8275050 ddis:indirectSubclassOf\n",
            "what\n",
            "None\n",
            "Q8275050 ddis:indirectSubclassOf\n",
            "what\n",
            "None\n",
            "Q8275050 ddis:indirectSubclassOf\n",
            "what\n",
            "None\n",
            "Q17710986 ddis:indirectSubclassOf\n",
            "what\n",
            "None\n",
            "Q17710986 ddis:indirectSubclassOf\n",
            "what\n",
            "None\n",
            "Q17710986 ddis:indirectSubclassOf\n",
            "what\n",
            "None\n",
            "Q16101952 ddis:indirectSubclassOf\n",
            "what\n",
            "None\n",
            "Q16101952 ddis:indirectSubclassOf\n",
            "what\n",
            "None\n",
            "Q16101952 ddis:indirectSubclassOf\n",
            "what\n",
            "None\n",
            "Q104649845 ddis:indirectSubclassOf\n",
            "what\n",
            "None\n",
            "Q104649845 ddis:indirectSubclassOf\n",
            "what\n",
            "None\n",
            "Q104649845 ddis:indirectSubclassOf\n",
            "what\n",
            "None\n",
            "Q15715406 ddis:indirectSubclassOf\n",
            "what\n",
            "None\n",
            "Q15715406 ddis:indirectSubclassOf\n",
            "what\n",
            "None\n",
            "Q15715406 ddis:indirectSubclassOf\n",
            "what\n",
            "None\n",
            "Q15239622 ddis:indirectSubclassOf\n",
            "what\n",
            "None\n",
            "Q15239622 ddis:indirectSubclassOf\n",
            "what\n",
            "None\n",
            "Q15239622 ddis:indirectSubclassOf\n",
            "what\n",
            "None\n",
            "Q708135 ddis:indirectSubclassOf\n",
            "what\n",
            "None\n",
            "Q708135 ddis:indirectSubclassOf\n",
            "what\n",
            "None\n",
            "Q708135 ddis:indirectSubclassOf\n",
            "what\n",
            "None\n",
            "Q1720855 P577\n",
            "2010-10-01\n",
            "{'response_type': 'fix', 'result': '2010-01-01', 'TrueCount': 1, 'FalseCount': 2, 'Agreement': 0.04}\n",
            "Q1720855 P577\n",
            "2010-10-01\n",
            "{'response_type': 'fix', 'result': '2010-01-01', 'TrueCount': 1, 'FalseCount': 2, 'Agreement': 0.04}\n",
            "Q1720855 P577\n",
            "2010-10-01\n",
            "{'response_type': 'fix', 'result': '2010-01-01', 'TrueCount': 1, 'FalseCount': 2, 'Agreement': 0.04}\n",
            "Q598752 P577\n",
            "2001-01-01\n",
            "{'response_type': 'fix', 'result': '2011-01-01', 'TrueCount': 0, 'FalseCount': 3, 'Agreement': 0.04}\n",
            "Q598752 P577\n",
            "2001-01-01\n",
            "{'response_type': 'fix', 'result': '2011-01-01', 'TrueCount': 0, 'FalseCount': 3, 'Agreement': 0.04}\n",
            "Q598752 P577\n",
            "2001-01-01\n",
            "{'response_type': 'fix', 'result': '2011-01-01', 'TrueCount': 0, 'FalseCount': 3, 'Agreement': 0.04}\n",
            "Q427386 P2142\n",
            "176997186\n",
            "{'response_type': 'fix', 'result': '176997168', 'TrueCount': 1, 'FalseCount': 2, 'Agreement': 0.04}\n",
            "Q427386 P2142\n",
            "176997186\n",
            "{'response_type': 'fix', 'result': '176997168', 'TrueCount': 1, 'FalseCount': 2, 'Agreement': 0.04}\n",
            "Q427386 P2142\n",
            "176997186\n",
            "{'response_type': 'fix', 'result': '176997168', 'TrueCount': 1, 'FalseCount': 2, 'Agreement': 0.04}\n",
            "Q321561 P577\n",
            "1982-01-01\n",
            "{'response_type': 'correct', 'result': '1982-01-01', 'TrueCount': 2, 'FalseCount': 1, 'Agreement': 0.04}\n",
            "Q321561 P577\n",
            "1982-01-01\n",
            "{'response_type': 'correct', 'result': '1982-01-01', 'TrueCount': 2, 'FalseCount': 1, 'Agreement': 0.04}\n",
            "Q321561 P577\n",
            "1982-01-01\n",
            "{'response_type': 'correct', 'result': '1982-01-01', 'TrueCount': 2, 'FalseCount': 1, 'Agreement': 0.04}\n",
            "Q1410031 P577\n",
            "2010-10-01\n",
            "{'response_type': 'fix', 'result': '2011-01-01', 'TrueCount': 0, 'FalseCount': 3, 'Agreement': 0.04}\n",
            "Q1410031 P577\n",
            "2010-10-01\n",
            "{'response_type': 'fix', 'result': '2011-01-01', 'TrueCount': 0, 'FalseCount': 3, 'Agreement': 0.04}\n",
            "Q1410031 P577\n",
            "2010-10-01\n",
            "{'response_type': 'fix', 'result': '2011-01-01', 'TrueCount': 0, 'FalseCount': 3, 'Agreement': 0.04}\n",
            "Q20001199 P2142\n",
            "863756050\n",
            "{'response_type': 'fix', 'result': '863756051', 'TrueCount': 1, 'FalseCount': 2, 'Agreement': 0.04}\n",
            "Q20001199 P2142\n",
            "863756050\n",
            "{'response_type': 'fix', 'result': '863756051', 'TrueCount': 1, 'FalseCount': 2, 'Agreement': 0.04}\n",
            "Q20001199 P2142\n",
            "863756050\n",
            "{'response_type': 'fix', 'result': '863756051', 'TrueCount': 1, 'FalseCount': 2, 'Agreement': 0.04}\n",
            "Q15055043 P2142\n",
            "511200000\n",
            "{'response_type': 'correct', 'result': '511200000', 'TrueCount': 3, 'FalseCount': 0, 'Agreement': 0.04}\n",
            "Q15055043 P2142\n",
            "511200000\n",
            "{'response_type': 'correct', 'result': '511200000', 'TrueCount': 3, 'FalseCount': 0, 'Agreement': 0.04}\n",
            "Q15055043 P2142\n",
            "511200000\n",
            "{'response_type': 'correct', 'result': '511200000', 'TrueCount': 3, 'FalseCount': 0, 'Agreement': 0.04}\n",
            "Q639070 P161\n",
            "wd:Q2865083\n",
            "Ezgi Mola\n",
            "{'response_type': 'fix', 'result': 'Ezgi Mola', 'TrueCount': 0, 'FalseCount': 3, 'Agreement': 0.04}\n",
            "Q639070 P161\n",
            "wd:Q2865083\n",
            "Ezgi Mola\n",
            "{'response_type': 'fix', 'result': 'Ezgi Mola', 'TrueCount': 0, 'FalseCount': 3, 'Agreement': 0.04}\n",
            "Q639070 P161\n",
            "wd:Q2865083\n",
            "Ezgi Mola\n",
            "{'response_type': 'fix', 'result': 'Ezgi Mola', 'TrueCount': 0, 'FalseCount': 3, 'Agreement': 0.04}\n",
            "Q23999890 P577\n",
            "2015-01-05\n",
            "{'response_type': 'correct', 'result': '2015-01-05', 'TrueCount': 3, 'FalseCount': 0, 'Agreement': 0.04}\n",
            "Q23999890 P577\n",
            "2015-01-05\n",
            "{'response_type': 'correct', 'result': '2015-01-05', 'TrueCount': 3, 'FalseCount': 0, 'Agreement': 0.04}\n",
            "Q23999890 P577\n",
            "2015-01-05\n",
            "{'response_type': 'correct', 'result': '2015-01-05', 'TrueCount': 3, 'FalseCount': 0, 'Agreement': 0.04}\n",
            "Q841233 P2142\n",
            "10696220\n",
            "{'response_type': 'correct', 'result': '10696220', 'TrueCount': 2, 'FalseCount': 1, 'Agreement': 0.04}\n",
            "Q841233 P2142\n",
            "10696220\n",
            "{'response_type': 'correct', 'result': '10696220', 'TrueCount': 2, 'FalseCount': 1, 'Agreement': 0.04}\n",
            "Q841233 P2142\n",
            "10696220\n",
            "{'response_type': 'correct', 'result': '10696220', 'TrueCount': 2, 'FalseCount': 1, 'Agreement': 0.04}\n",
            "Q2893887 P161\n",
            "wd:Q105825\n",
            "William Hurt\n",
            "{'response_type': 'mention', 'result': 'William Hurt', 'TrueCount': 1, 'FalseCount': 2, 'Agreement': 0.04}\n",
            "Q2893887 P161\n",
            "wd:Q105825\n",
            "William Hurt\n",
            "{'response_type': 'mention', 'result': 'William Hurt', 'TrueCount': 1, 'FalseCount': 2, 'Agreement': 0.04}\n",
            "Q2893887 P161\n",
            "wd:Q105825\n",
            "William Hurt\n",
            "{'response_type': 'mention', 'result': 'William Hurt', 'TrueCount': 1, 'FalseCount': 2, 'Agreement': 0.04}\n",
            "Q19803136 P577\n",
            "2015-06-27\n",
            "{'response_type': 'correct', 'result': '2015-06-27', 'TrueCount': 2, 'FalseCount': 1, 'Agreement': 0.04}\n",
            "Q19803136 P577\n",
            "2015-06-27\n",
            "{'response_type': 'correct', 'result': '2015-06-27', 'TrueCount': 2, 'FalseCount': 1, 'Agreement': 0.04}\n",
            "Q19803136 P577\n",
            "2015-06-27\n",
            "{'response_type': 'correct', 'result': '2015-06-27', 'TrueCount': 2, 'FalseCount': 1, 'Agreement': 0.04}\n",
            "Q1039395 P161\n",
            "wd:Q17386547\n",
            "Peter Breitmayer\n",
            "{'response_type': 'mention', 'result': 'Peter Breitmayer', 'TrueCount': 0, 'FalseCount': 3, 'Agreement': 0.04}\n",
            "Q1039395 P161\n",
            "wd:Q17386547\n",
            "Peter Breitmayer\n",
            "{'response_type': 'mention', 'result': 'Peter Breitmayer', 'TrueCount': 0, 'FalseCount': 3, 'Agreement': 0.04}\n",
            "Q1039395 P161\n",
            "wd:Q17386547\n",
            "Peter Breitmayer\n",
            "{'response_type': 'mention', 'result': 'Peter Breitmayer', 'TrueCount': 0, 'FalseCount': 3, 'Agreement': 0.04}\n",
            "Q202211 P495\n",
            "wd:Q30\n",
            "United States of America\n",
            "{'response_type': 'mention', 'result': 'United States of America', 'TrueCount': 1, 'FalseCount': 2, 'Agreement': 0.04}\n",
            "Q202211 P495\n",
            "wd:Q30\n",
            "United States of America\n",
            "{'response_type': 'mention', 'result': 'United States of America', 'TrueCount': 1, 'FalseCount': 2, 'Agreement': 0.04}\n",
            "Q202211 P495\n",
            "wd:Q30\n",
            "United States of America\n",
            "{'response_type': 'mention', 'result': 'United States of America', 'TrueCount': 1, 'FalseCount': 2, 'Agreement': 0.04}\n",
            "Q28974159 P750\n",
            "wd:Q907311\n",
            "Netflix\n",
            "{'response_type': 'mention', 'result': 'Netflix', 'TrueCount': 1, 'FalseCount': 2, 'Agreement': 0.04}\n",
            "Q28974159 P750\n",
            "wd:Q907311\n",
            "Netflix\n",
            "{'response_type': 'mention', 'result': 'Netflix', 'TrueCount': 1, 'FalseCount': 2, 'Agreement': 0.04}\n",
            "Q28974159 P750\n",
            "wd:Q907311\n",
            "Netflix\n",
            "{'response_type': 'mention', 'result': 'Netflix', 'TrueCount': 1, 'FalseCount': 2, 'Agreement': 0.04}\n",
            "Q326914 P136\n",
            "wd:Q8261\n",
            "novel\n",
            "{'response_type': 'correct', 'result': 'novel', 'TrueCount': 2, 'FalseCount': 1, 'Agreement': 0.04}\n",
            "Q326914 P136\n",
            "wd:Q8261\n",
            "novel\n",
            "{'response_type': 'correct', 'result': 'novel', 'TrueCount': 2, 'FalseCount': 1, 'Agreement': 0.04}\n",
            "Q326914 P136\n",
            "wd:Q8261\n",
            "novel\n",
            "{'response_type': 'correct', 'result': 'novel', 'TrueCount': 2, 'FalseCount': 1, 'Agreement': 0.04}\n",
            "Q885281 P161\n",
            "wd:Q3087184\n",
            "Frederick Worlock\n",
            "{'response_type': 'mention', 'result': 'Frederick Worlock', 'TrueCount': 1, 'FalseCount': 2, 'Agreement': 0.04}\n",
            "Q885281 P161\n",
            "wd:Q3087184\n",
            "Frederick Worlock\n",
            "{'response_type': 'mention', 'result': 'Frederick Worlock', 'TrueCount': 1, 'FalseCount': 2, 'Agreement': 0.04}\n",
            "Q885281 P161\n",
            "wd:Q3087184\n",
            "Frederick Worlock\n",
            "{'response_type': 'mention', 'result': 'Frederick Worlock', 'TrueCount': 1, 'FalseCount': 2, 'Agreement': 0.04}\n",
            "Q814781 .P344\n",
            "wd:Q40087803\n",
            "Rasmus Heise\n",
            "{'response_type': 'correct', 'result': 'Rasmus Heise', 'TrueCount': 2, 'FalseCount': 1, 'Agreement': 0.04}\n",
            "Q814781 .P344\n",
            "wd:Q40087803\n",
            "Rasmus Heise\n",
            "{'response_type': 'correct', 'result': 'Rasmus Heise', 'TrueCount': 2, 'FalseCount': 1, 'Agreement': 0.04}\n",
            "Q814781 .P344\n",
            "wd:Q40087803\n",
            "Rasmus Heise\n",
            "{'response_type': 'correct', 'result': 'Rasmus Heise', 'TrueCount': 2, 'FalseCount': 1, 'Agreement': 0.04}\n",
            "Q6548158 P136\n",
            "wd:Q33999\n",
            "actor\n",
            "{'response_type': 'mention', 'result': 'actor', 'TrueCount': 1, 'FalseCount': 2, 'Agreement': 0.04}\n",
            "Q6548158 P136\n",
            "wd:Q33999\n",
            "actor\n",
            "{'response_type': 'mention', 'result': 'actor', 'TrueCount': 1, 'FalseCount': 2, 'Agreement': 0.04}\n",
            "Q6548158 P136\n",
            "wd:Q33999\n",
            "actor\n",
            "{'response_type': 'mention', 'result': 'actor', 'TrueCount': 1, 'FalseCount': 2, 'Agreement': 0.04}\n",
            "Q1123629 P725\n",
            "wd:Q211040\n",
            "Rose McGowan\n",
            "{'response_type': 'mention', 'result': 'Rose McGowan', 'TrueCount': 1, 'FalseCount': 2, 'Agreement': 0.04}\n",
            "Q1123629 P725\n",
            "wd:Q211040\n",
            "Rose McGowan\n",
            "{'response_type': 'mention', 'result': 'Rose McGowan', 'TrueCount': 1, 'FalseCount': 2, 'Agreement': 0.04}\n",
            "Q1123629 P725\n",
            "wd:Q211040\n",
            "Rose McGowan\n",
            "{'response_type': 'mention', 'result': 'Rose McGowan', 'TrueCount': 1, 'FalseCount': 2, 'Agreement': 0.04}\n",
            "Q1780602 P921\n",
            "wd:Q295093\n",
            "Claude Lelouch\n",
            "{'response_type': 'mention', 'result': 'Claude Lelouch', 'TrueCount': 1, 'FalseCount': 2, 'Agreement': 0.26}\n",
            "Q1780602 P921\n",
            "wd:Q295093\n",
            "Claude Lelouch\n",
            "{'response_type': 'mention', 'result': 'Claude Lelouch', 'TrueCount': 1, 'FalseCount': 2, 'Agreement': 0.26}\n",
            "Q1780602 P921\n",
            "wd:Q295093\n",
            "Claude Lelouch\n",
            "{'response_type': 'mention', 'result': 'Claude Lelouch', 'TrueCount': 1, 'FalseCount': 2, 'Agreement': 0.26}\n",
            "Q610633 P2554\n",
            "wd:Q1700810\n",
            "John Lee Mahin\n",
            "{'response_type': 'mention', 'result': 'John Lee Mahin', 'TrueCount': 0, 'FalseCount': 3, 'Agreement': 0.26}\n",
            "Q610633 P2554\n",
            "wd:Q1700810\n",
            "John Lee Mahin\n",
            "{'response_type': 'mention', 'result': 'John Lee Mahin', 'TrueCount': 0, 'FalseCount': 3, 'Agreement': 0.26}\n",
            "Q610633 P2554\n",
            "wd:Q1700810\n",
            "John Lee Mahin\n",
            "{'response_type': 'mention', 'result': 'John Lee Mahin', 'TrueCount': 0, 'FalseCount': 3, 'Agreement': 0.26}\n",
            "Q2188914 P161\n",
            "wd:Q2416526\n",
            "Erika Sainte\n",
            "{'response_type': 'fix', 'result': 'Erika Sainte', 'TrueCount': 0, 'FalseCount': 3, 'Agreement': 0.26}\n",
            "Q2188914 P161\n",
            "wd:Q2416526\n",
            "Erika Sainte\n",
            "{'response_type': 'fix', 'result': 'Erika Sainte', 'TrueCount': 0, 'FalseCount': 3, 'Agreement': 0.26}\n",
            "Q2188914 P161\n",
            "wd:Q2416526\n",
            "Erika Sainte\n",
            "{'response_type': 'fix', 'result': 'Erika Sainte', 'TrueCount': 0, 'FalseCount': 3, 'Agreement': 0.26}\n",
            "Q1032889 P58\n",
            "wd:Q4762311\n",
            "Keith Walker\n",
            "{'response_type': 'fix', 'result': 'Keith Walker', 'TrueCount': 1, 'FalseCount': 2, 'Agreement': 0.26}\n",
            "Q1032889 P58\n",
            "wd:Q4762311\n",
            "Keith Walker\n",
            "{'response_type': 'fix', 'result': 'Keith Walker', 'TrueCount': 1, 'FalseCount': 2, 'Agreement': 0.26}\n",
            "Q1032889 P58\n",
            "wd:Q4762311\n",
            "Keith Walker\n",
            "{'response_type': 'fix', 'result': 'Keith Walker', 'TrueCount': 1, 'FalseCount': 2, 'Agreement': 0.26}\n",
            "Q209538 P3650\n",
            "wd:Q28732983\n",
            "free from 12 years\n",
            "{'response_type': 'fix', 'result': 'free from 12 years', 'TrueCount': 0, 'FalseCount': 3, 'Agreement': 0.26}\n",
            "Q209538 P3650\n",
            "wd:Q28732983\n",
            "free from 12 years\n",
            "{'response_type': 'fix', 'result': 'free from 12 years', 'TrueCount': 0, 'FalseCount': 3, 'Agreement': 0.26}\n",
            "Q209538 P3650\n",
            "wd:Q28732983\n",
            "free from 12 years\n",
            "{'response_type': 'fix', 'result': 'free from 12 years', 'TrueCount': 0, 'FalseCount': 3, 'Agreement': 0.26}\n",
            "Q31202708 P3092\n",
            "wd:Q4805527\n",
            "Ashley Miller\n",
            "{'response_type': 'mention', 'result': 'Ashley Miller', 'TrueCount': 0, 'FalseCount': 3, 'Agreement': 0.26}\n",
            "Q31202708 P3092\n",
            "wd:Q4805527\n",
            "Ashley Miller\n",
            "{'response_type': 'mention', 'result': 'Ashley Miller', 'TrueCount': 0, 'FalseCount': 3, 'Agreement': 0.26}\n",
            "Q31202708 P3092\n",
            "wd:Q4805527\n",
            "Ashley Miller\n",
            "{'response_type': 'mention', 'result': 'Ashley Miller', 'TrueCount': 0, 'FalseCount': 3, 'Agreement': 0.26}\n",
            "Q2576243 P364\n",
            "wd:Q1860\n",
            "English\n",
            "{'response_type': 'correct', 'result': 'English', 'TrueCount': 2, 'FalseCount': 1, 'Agreement': 0.26}\n",
            "Q2576243 P364\n",
            "wd:Q1860\n",
            "English\n",
            "{'response_type': 'correct', 'result': 'English', 'TrueCount': 2, 'FalseCount': 1, 'Agreement': 0.26}\n",
            "Q2576243 P364\n",
            "wd:Q1860\n",
            "English\n",
            "{'response_type': 'correct', 'result': 'English', 'TrueCount': 2, 'FalseCount': 1, 'Agreement': 0.26}\n",
            "Q4335275 P520\n",
            "wd:Q52382294\n",
            "PG\n",
            "{'response_type': 'correct', 'result': 'PG', 'TrueCount': 2, 'FalseCount': 1, 'Agreement': 0.26}\n",
            "Q4335275 P520\n",
            "wd:Q52382294\n",
            "PG\n",
            "{'response_type': 'correct', 'result': 'PG', 'TrueCount': 2, 'FalseCount': 1, 'Agreement': 0.26}\n",
            "Q4335275 P520\n",
            "wd:Q52382294\n",
            "PG\n",
            "{'response_type': 'correct', 'result': 'PG', 'TrueCount': 2, 'FalseCount': 1, 'Agreement': 0.26}\n",
            "Q931557 P750\n",
            "wd:Q80948336\n",
            "FandangoNow\n",
            "{'response_type': 'correct', 'result': 'FandangoNow', 'TrueCount': 3, 'FalseCount': 0, 'Agreement': 0.26}\n",
            "Q931557 P750\n",
            "wd:Q80948336\n",
            "FandangoNow\n",
            "{'response_type': 'correct', 'result': 'FandangoNow', 'TrueCount': 3, 'FalseCount': 0, 'Agreement': 0.26}\n",
            "Q931557 P750\n",
            "wd:Q80948336\n",
            "FandangoNow\n",
            "{'response_type': 'correct', 'result': 'FandangoNow', 'TrueCount': 3, 'FalseCount': 0, 'Agreement': 0.26}\n",
            "Q2235250 P161\n",
            "wd:Q599673\n",
            "Giuseppe Rinaldi\n",
            "{'response_type': 'correct', 'result': 'Giuseppe Rinaldi', 'TrueCount': 3, 'FalseCount': 0, 'Agreement': 0.26}\n",
            "Q2235250 P161\n",
            "wd:Q599673\n",
            "Giuseppe Rinaldi\n",
            "{'response_type': 'correct', 'result': 'Giuseppe Rinaldi', 'TrueCount': 3, 'FalseCount': 0, 'Agreement': 0.26}\n",
            "Q2235250 P161\n",
            "wd:Q599673\n",
            "Giuseppe Rinaldi\n",
            "{'response_type': 'correct', 'result': 'Giuseppe Rinaldi', 'TrueCount': 3, 'FalseCount': 0, 'Agreement': 0.26}\n",
            "Q696646 P3174\n",
            "wd:Q1315917\n",
            "Tomomichi Nishimura\n",
            "{'response_type': 'correct', 'result': 'Tomomichi Nishimura', 'TrueCount': 3, 'FalseCount': 0, 'Agreement': 0.26}\n",
            "Q696646 P3174\n",
            "wd:Q1315917\n",
            "Tomomichi Nishimura\n",
            "{'response_type': 'correct', 'result': 'Tomomichi Nishimura', 'TrueCount': 3, 'FalseCount': 0, 'Agreement': 0.26}\n",
            "Q696646 P3174\n",
            "wd:Q1315917\n",
            "Tomomichi Nishimura\n",
            "{'response_type': 'correct', 'result': 'Tomomichi Nishimura', 'TrueCount': 3, 'FalseCount': 0, 'Agreement': 0.26}\n",
            "Q6782400 P945\n",
            "wd:Q17\n",
            "Japan\n",
            "{'response_type': 'correct', 'result': 'Japan', 'TrueCount': 3, 'FalseCount': 0, 'Agreement': 0.26}\n",
            "Q6782400 P945\n",
            "wd:Q17\n",
            "Japan\n",
            "{'response_type': 'correct', 'result': 'Japan', 'TrueCount': 3, 'FalseCount': 0, 'Agreement': 0.26}\n",
            "Q6782400 P945\n",
            "wd:Q17\n",
            "Japan\n",
            "{'response_type': 'correct', 'result': 'Japan', 'TrueCount': 3, 'FalseCount': 0, 'Agreement': 0.26}\n",
            "Q6538 P119\n",
            "wd:Q1792\n",
            "Gdańsk\n",
            "{'response_type': 'correct', 'result': 'Gdańsk', 'TrueCount': 2, 'FalseCount': 1, 'Agreement': 0.26}\n",
            "Q6538 P119\n",
            "wd:Q1792\n",
            "Gdańsk\n",
            "{'response_type': 'correct', 'result': 'Gdańsk', 'TrueCount': 2, 'FalseCount': 1, 'Agreement': 0.26}\n",
            "Q6538 P119\n",
            "wd:Q1792\n",
            "Gdańsk\n",
            "{'response_type': 'correct', 'result': 'Gdańsk', 'TrueCount': 2, 'FalseCount': 1, 'Agreement': 0.26}\n",
            "Q9192 P276\n",
            "wd:Q833\n",
            "Malaysia\n",
            "{'response_type': 'correct', 'result': 'Malaysia', 'TrueCount': 2, 'FalseCount': 1, 'Agreement': 0.26}\n",
            "Q9192 P276\n",
            "wd:Q833\n",
            "Malaysia\n",
            "{'response_type': 'correct', 'result': 'Malaysia', 'TrueCount': 2, 'FalseCount': 1, 'Agreement': 0.26}\n",
            "Q9192 P276\n",
            "wd:Q833\n",
            "Malaysia\n",
            "{'response_type': 'correct', 'result': 'Malaysia', 'TrueCount': 2, 'FalseCount': 1, 'Agreement': 0.26}\n",
            "Q10623856 P20\n",
            "wd:Q2096\n",
            "Edmonton\n",
            "{'response_type': 'correct', 'result': 'Edmonton', 'TrueCount': 2, 'FalseCount': 1, 'Agreement': 0.26}\n",
            "Q10623856 P20\n",
            "wd:Q2096\n",
            "Edmonton\n",
            "{'response_type': 'correct', 'result': 'Edmonton', 'TrueCount': 2, 'FalseCount': 1, 'Agreement': 0.26}\n",
            "Q10623856 P20\n",
            "wd:Q2096\n",
            "Edmonton\n",
            "{'response_type': 'correct', 'result': 'Edmonton', 'TrueCount': 2, 'FalseCount': 1, 'Agreement': 0.26}\n",
            "Q223596 P1431\n",
            "wd:Q457180\n",
            "Sheryl Lee Ralph\n",
            "{'response_type': 'correct', 'result': 'Sheryl Lee Ralph', 'TrueCount': 2, 'FalseCount': 1, 'Agreement': 0.26}\n",
            "Q223596 P1431\n",
            "wd:Q457180\n",
            "Sheryl Lee Ralph\n",
            "{'response_type': 'correct', 'result': 'Sheryl Lee Ralph', 'TrueCount': 2, 'FalseCount': 1, 'Agreement': 0.26}\n",
            "Q223596 P1431\n",
            "wd:Q457180\n",
            "Sheryl Lee Ralph\n",
            "{'response_type': 'correct', 'result': 'Sheryl Lee Ralph', 'TrueCount': 2, 'FalseCount': 1, 'Agreement': 0.26}\n",
            "Q943992 P161\n",
            "wd:Q160432\n",
            "Rolfe Sedan\n",
            "{'response_type': 'fix', 'result': 'Rolfe Sedan', 'TrueCount': 0, 'FalseCount': 2, 'Agreement': 0.26}\n",
            "Q943992 P161\n",
            "wd:Q160432\n",
            "Rolfe Sedan\n",
            "{'response_type': 'fix', 'result': 'Rolfe Sedan', 'TrueCount': 0, 'FalseCount': 2, 'Agreement': 0.26}\n",
            "Q1893555 P272\n",
            "wd:Q48784114\n",
            "WTFN\n",
            "{'response_type': 'correct', 'result': 'WTFN', 'TrueCount': 2, 'FalseCount': 1, 'Agreement': 0.26}\n",
            "Q1893555 P272\n",
            "wd:Q48784114\n",
            "WTFN\n",
            "{'response_type': 'correct', 'result': 'WTFN', 'TrueCount': 2, 'FalseCount': 1, 'Agreement': 0.26}\n",
            "Q1893555 P272\n",
            "wd:Q48784114\n",
            "WTFN\n",
            "{'response_type': 'correct', 'result': 'WTFN', 'TrueCount': 2, 'FalseCount': 1, 'Agreement': 0.26}\n",
            "Q21060270 P27\n",
            "wd:Q916\n",
            "Angola\n",
            "{'response_type': 'correct', 'result': 'Angola', 'TrueCount': 2, 'FalseCount': 1, 'Agreement': 0.26}\n",
            "Q21060270 P27\n",
            "wd:Q916\n",
            "Angola\n",
            "{'response_type': 'correct', 'result': 'Angola', 'TrueCount': 2, 'FalseCount': 1, 'Agreement': 0.26}\n",
            "Q21060270 P27\n",
            "wd:Q916\n",
            "Angola\n",
            "{'response_type': 'correct', 'result': 'Angola', 'TrueCount': 2, 'FalseCount': 1, 'Agreement': 0.26}\n",
            "Q1288004 P1412\n",
            "wd:Q13330\n",
            "Mirandese\n",
            "{'response_type': 'correct', 'result': 'Mirandese', 'TrueCount': 2, 'FalseCount': 1, 'Agreement': 0.26}\n",
            "Q1288004 P1412\n",
            "wd:Q13330\n",
            "Mirandese\n",
            "{'response_type': 'correct', 'result': 'Mirandese', 'TrueCount': 2, 'FalseCount': 1, 'Agreement': 0.26}\n",
            "Q1288004 P1412\n",
            "wd:Q13330\n",
            "Mirandese\n",
            "{'response_type': 'correct', 'result': 'Mirandese', 'TrueCount': 2, 'FalseCount': 1, 'Agreement': 0.26}\n"
          ]
        }
      ],
      "source": [
        "# need_to_fix = cro_df.loc[(cro_df['Input1ID']=='wd:Q11621') & (cro_df['Input2ID']=='wdt:P2142')]\n",
        "for i in cro_df.index:\n",
        "    Qid = cro_df['Input1ID'].loc[i].removeprefix('wd:')\n",
        "    Pid = cro_df['Input2ID'].loc[i].removeprefix('wdt:')\n",
        "    print(answer_crowdsourcing_questions(Qid, Pid, use_id=True))"
      ]
    },
    {
      "cell_type": "code",
      "execution_count": 173,
      "metadata": {},
      "outputs": [],
      "source": [
        "def answer_crowdsourcing_questions(Q, P, func='cro', use_id=False):\n",
        "\n",
        "    \n",
        "    if use_id:\n",
        "        Qid = Q\n",
        "        Pid = P\n",
        "    else:\n",
        "        Qid = name2Qid_func(Q)\n",
        "        Pid = label2Pid_func(P)\n",
        "\n",
        "    # print(Qid, Pid)\n",
        "    \n",
        "    micro_task = cro_df.loc[(cro_df['Input1ID']=='wd:{}'.format(Qid)) & (cro_df['Input2ID']=='wdt:{}'.format(Pid))]\n",
        "    if len(micro_task) > 0:\n",
        "        #   GroupAnswers | TrueCount | FalseCount | Agreement\n",
        "        #   FixPosition | FixValue \n",
        "        #   Input3ID\n",
        "        GroupAnswers, TrueCount, FalseCount, Agreement, FixPositions, FixValues, Input3ID = (\n",
        "        list(micro_task['GroupAnswers'])[0], \n",
        "        list(micro_task['TrueCount'])[0],\n",
        "        list(micro_task['FalseCount'])[0],\n",
        "        list(micro_task['Agreement'])[0],\n",
        "        list(micro_task['FixPosition']),\n",
        "        list(micro_task['FixValue']),\n",
        "        str(list(micro_task['Input3ID'])[0]),\n",
        "        )\n",
        "        print(Input3ID)\n",
        "        response_type = 'correct'\n",
        "        if GroupAnswers == True:\n",
        "            # use the provided answer\n",
        "\n",
        "            if not Input3ID.startswith('wd:'):\n",
        "                # return string\n",
        "                cro_result = Input3ID\n",
        "            else:\n",
        "                # transfer id to label\n",
        "                Qid = Input3ID[3:]\n",
        "                cro_result = Qwiki2name_func(Qid)\n",
        "        else:\n",
        "           \n",
        "\n",
        "            # fix or mention\n",
        "            fixable = micro_task[micro_task['FixPosition'].str.contains('Object') & (~micro_task['FixValue'].str.contains('Empty'))]\n",
        "            # if FixPositions != 'Empty' and FixValues != 'Empty':\n",
        "            # both_not_empty = micro_task[(~micro_task['FixPosition'].str.contains('Empty')) & (~micro_task['FixValue'].str.contains('Empty'))]\n",
        "\n",
        "            if len(fixable) > 0:\n",
        "                fix_values = fixable['FixValue'].unique()\n",
        "                value = fix_values[0]\n",
        "                # fix\n",
        "                response_type = 'fix'\n",
        "                if value.startswith('wd:'):\n",
        "                    value = value[3:]\n",
        "                if value.startswith('Q'):\n",
        "                    cro_result = Qwiki2name_func(value)\n",
        "                else:\n",
        "                    cro_result = value\n",
        "                \n",
        "                \n",
        "            else:\n",
        "                if Input3ID[:3] != 'wd:':\n",
        "                    # return string\n",
        "                    cro_result = Input3ID\n",
        "                else:\n",
        "                    # transfer id to label\n",
        "                    Qid = Input3ID[3:]\n",
        "                    cro_result = Qwiki2name_func(Qid)\n",
        "                # just mention\n",
        "                # The answer in knowledge graph is wrong -- according to the crowd, ~~~\n",
        "                response_type = 'mention'\n",
        "\n",
        "                \n",
        "\n",
        "        return {\n",
        "        'response_type': response_type,\n",
        "        'result': cro_result,\n",
        "        'TrueCount': TrueCount, \n",
        "        'FalseCount': FalseCount,\n",
        "        'Agreement': Agreement,\n",
        "        }\n",
        "\n",
        "    else:\n",
        "        print('what')\n",
        "        return None\n"
      ]
    },
    {
      "cell_type": "markdown",
      "metadata": {},
      "source": [
        "#### Multimedia question"
      ]
    },
    {
      "cell_type": "code",
      "execution_count": 216,
      "metadata": {},
      "outputs": [],
      "source": [
        "with open('Datasets/ImageData/id2Code.pickle', 'rb') as handle:\n",
        "    id2Code = pickle.load(handle)"
      ]
    },
    {
      "cell_type": "code",
      "execution_count": 217,
      "metadata": {},
      "outputs": [],
      "source": [
        "def answer_multimedia_questions(Q, P):\n",
        "    Qid = name2Qid_func(Q)\n",
        "    print(Qid)\n",
        "\n",
        "    sql = \\\n",
        "        \"\"\"\n",
        "    prefix wdt: <http://www.wikidata.org/prop/direct/> \n",
        "    prefix wd: <http://www.wikidata.org/entity/> \n",
        "    SELECT ?id\n",
        "    WHERE{\n",
        "    wd:%s wdt:P345 ?id .\n",
        "    }\n",
        "\n",
        "    \"\"\" % (Qid)\n",
        "\n",
        "    id = ''\n",
        "    tl = list(graph.query(sql))\n",
        "    for t in tl:\n",
        "        for m in t:\n",
        "            id = str(m)\n",
        "            break\n",
        "    print(id)\n",
        "    if id in id2Code:\n",
        "        return \"image:{}\".format(id2Code[id])\n",
        "    else:\n",
        "        print(\"Id is not in id to code dictionary .\")\n",
        "        return None"
      ]
    },
    {
      "cell_type": "markdown",
      "metadata": {},
      "source": [
        "#### Recommend question"
      ]
    },
    {
      "cell_type": "code",
      "execution_count": 98,
      "metadata": {},
      "outputs": [],
      "source": [
        "def answer_recommend_questions(Qs: list):\n",
        "  \n",
        "    Qids = [name2Qid_func(Q) for Q in Qs]\n",
        "    print(\"Qids:\", Qids)\n",
        "    Ps = ['genre', 'publication date', 'director', 'set in period']\n",
        "    Pids_withpre = ['wdt:{}'.format(label2Pid_func(P)) for P in Ps]\n",
        "    tag_rdf = special_conditions_reverse['tag']\n",
        "    Pids_withpre.append(tag_rdf)\n",
        "\n",
        "\n",
        "    features_all = [[] for i in range(len(Pids_withpre))]\n",
        "    for i, Qid in enumerate(Qids):\n",
        "      features = fetch_features_from_sql(Qid, Pids_withpre)\n",
        "      for j, feature in enumerate(features):\n",
        "        features_all[j].append(feature)\n",
        "\n",
        "    analysis = analysis_recommendation(features_all)\n",
        "\n",
        "    recommend_map = {}\n",
        "    recommend_map.update({\"director\": analysis[2]})\n",
        "    recommend_map.update({\"set_in_period\": analysis[3]})\n",
        "    recommend_map.update({\"genre\": analysis[0]})\n",
        "    recommend_map.update({\"publication_date\": analysis[1]})\n",
        "    \n",
        "    # print(analysis_results)\n",
        "    recommendations = search_recommendations(Qs, recommend_map, Pids_withpre)\n",
        "\n",
        "    map = recommend_map\n",
        "    map['director'] = Qwiki2name_func(map['director'])\n",
        "    map['set_in_period'] = Qwiki2name_func(map['set_in_period'])\n",
        "    map['genre'] = Qwiki2name_func(map['genre'])\n",
        "\n",
        "      \n",
        "    return recommend_map, recommendations"
      ]
    },
    {
      "cell_type": "code",
      "execution_count": 95,
      "metadata": {},
      "outputs": [],
      "source": [
        "def search_recommendations(Qs, map, Pids_withpre):\n",
        "    print(map)\n",
        "    # genres, public_dates, directors, set_in_period, tags\n",
        "    \n",
        "    # lines_genre = \"\\n\".join([\"?movie %s wd:%s .\" % (Pids_withpre[0], name2Qid_func(list(map['genre'])[i])) for i in range(len(list(map['genre'])))]) if map['genre'] else ''\n",
        "    lines_genre = \"?movie %s <%s> .\" % (Pids_withpre[0], map['genre']) if map['genre'] else ''\n",
        "\n",
        "\n",
        "    lines_publication_date = \"\"\"\n",
        "    ?movie %s ?pubdate .\n",
        "    FILTER (?pubdate >= \"%s-01-01\"^^xsd:date)\n",
        "    FILTER (?pubdate < \"%s-12-31\"^^xsd:date)\n",
        "    \"\"\" % (Pids_withpre[1], list(map['publication_date'])[0], list(map['publication_date'])[1]) if map['publication_date'] else ''\n",
        "    \n",
        "    # lines_director = \"\\n\".join([\"?movie %s wd:%s .\" % (Pids_withpre[2], name2Qid_func(list(map['director'])[i])) for i in range(len(list(map['director'])))]) if map['director'] else ''\n",
        "    lines_director = \"?movie %s <%s> .\" % (Pids_withpre[2], map['director']) if map['director'] else ''\n",
        "\n",
        "\n",
        "    # lines_period = \"\"\"\n",
        "    # ?movie wdt:P2408 ?period .\n",
        "    # ?period rdfs:label \"%s\"@en.\n",
        "\n",
        "    # \"\"\" % (list(map['set_in_period'])[0]) if map['set_in_period'] else ''\n",
        "\n",
        "    lines_period = \"\"\"\n",
        "    ?movie wdt:P2408 <%s> .\n",
        "\n",
        "    \"\"\" % (map['set_in_period']) if map['set_in_period'] else ''\n",
        "    \n",
        "    # lines_tag = \"\\n\".join([\"?movie %s wd:%s .\" % (Pids_withpre[4], name2Qid_func(list(map['tag'])[i])) for i in range(len(list(map['tag'])))]) if map['tag'] else ''\n",
        "\n",
        "    def genreate_sql(lines_genre, lines_publication_date, lines_director, lines_period):\n",
        "        sql = \\\n",
        "            \"\"\"\n",
        "        prefix wdt: <http://www.wikidata.org/prop/direct/> \n",
        "        prefix wd: <http://www.wikidata.org/entity/> \n",
        "        prefix ps: <http://www.wikidata.org/prop/statement/>\n",
        "        prefix p: <http://www.wikidata.org/prop/>\n",
        "        SELECT ?lb1\n",
        "        WHERE{\n",
        "        \n",
        "        %s\\n%s\\n%s\\n%s\n",
        "\n",
        "        ?movie wdt:P31/wdt:P279* wd:Q11424 .\n",
        "        ?movie rdfs:label ?lb1 .\n",
        "        FILTER(LANG(?lb1) = \"en\").\n",
        "        }\n",
        "        LIMIT 6\n",
        "        \"\"\" % (lines_genre, lines_publication_date, lines_director, lines_period)\n",
        "        # print(sql)\n",
        "        return(sql)\n",
        "    sql = genreate_sql(lines_genre, lines_publication_date, lines_director, lines_period)\n",
        "    # print(sql)\n",
        "    movies = set([str(s) for s, in graph.query(sql)])\n",
        "    movies = movies.difference(set(Qs))\n",
        "\n",
        "    if len(movies) == 0:\n",
        "        sql = genreate_sql(lines_genre, lines_publication_date, lines_director, '')\n",
        "        movies = set([str(s) for s, in graph.query(sql)])\n",
        "        movies = movies.difference(set(Qs))\n",
        "        if len(movies) == 0:\n",
        "            sql = genreate_sql(lines_genre, lines_publication_date, '', '')\n",
        "            movies = set([str(s) for s, in graph.query(sql)])\n",
        "            movies = movies.difference(set(Qs))\n",
        "            if len(movies) == 0:\n",
        "                sql = genreate_sql(lines_genre, '', '', '')\n",
        "                movies = set([str(s) for s, in graph.query(sql)])\n",
        "                movies = movies.difference(set(Qs))\n",
        "\n",
        "    \n",
        "    # print(movies)\n",
        "    if len(movies) > 0:\n",
        "        if len(movies) > 3:\n",
        "            return list(movies)[:3]\n",
        "        else:\n",
        "            return list(movies)\n",
        "    else:\n",
        "        return None\n",
        "    # return list(movies)[:3] if len(movies) > 0 else None\n",
        "    "
      ]
    },
    {
      "cell_type": "code",
      "execution_count": 96,
      "metadata": {},
      "outputs": [],
      "source": [
        "def fetch_features_from_sql(Qid, Pids_withpre):\n",
        "    sqls = []\n",
        "    for i, Pid in enumerate(Pids_withpre):\n",
        "      sql = \\\n",
        "          \"\"\"\n",
        "    prefix wdt: <http://www.wikidata.org/prop/direct/> \n",
        "    prefix wd: <http://www.wikidata.org/entity/> \n",
        "    SELECT ?item1\n",
        "    WHERE{\n",
        "    wd:%s %s ?item1 .\n",
        "    ?item1 rdfs:label ?lb1 .\n",
        "    FILTER(LANG(?lb1) = \"en\").\n",
        "    }\n",
        "    \"\"\" % (Qid, Pid)\n",
        "    # lb1\n",
        "      sqls.append(sql)\n",
        "\n",
        "    sqls[1] = \\\n",
        "          \"\"\"\n",
        "    prefix wdt: <http://www.wikidata.org/prop/direct/> \n",
        "    prefix wd: <http://www.wikidata.org/entity/> \n",
        "    SELECT ?lb1\n",
        "    WHERE{\n",
        "    wd:%s %s ?item1 .\n",
        "    ?item1 rdfs:label ?lb1 .\n",
        "    FILTER(LANG(?lb1) = \"en\").\n",
        "    }\n",
        "    \"\"\" % (Qid, Pids_withpre[1])\n",
        "    genres = [str(s) for s, in graph.query(sqls[0])]\n",
        "    public_dates = [str(s) for s, in graph.query(sqls[1])]\n",
        "    directors = [str(s) for s, in graph.query(sqls[2])]\n",
        "    set_in_period = [str(s) for s, in graph.query(sqls[3])]\n",
        "    tags = [str(s) for s, in graph.query(sqls[4])]\n",
        "\n",
        "\n",
        "    # print(\"{}\\n{}\\n{}\\n{}\\n{}\\n\".format(genres, public_dates, directors, set_in_period, tags))\n",
        "    return genres, public_dates, directors, set_in_period, tags"
      ]
    },
    {
      "cell_type": "code",
      "execution_count": 97,
      "metadata": {},
      "outputs": [],
      "source": [
        "from collections import Counter\n",
        "\n",
        "def analysis_recommendation(features_all):\n",
        "    # Ps = ['genre', 'publication date', 'director', 'set in period'] + tag\n",
        "\n",
        "    genres, public_dates, directors, set_in_period, tags = features_all\n",
        "    def analysis_intersection(features):\n",
        "        if len(features) == 0:\n",
        "            return None\n",
        "        intersection = set(features[0])\n",
        "        for l in features[1:]:\n",
        "            intersection = intersection & set(l)\n",
        "        return list(intersection)[0] if len(intersection) > 0 else None\n",
        "\n",
        "    def analysis_min_max(features):\n",
        "        if len(features) == 0:\n",
        "            return None\n",
        "        union = set(features[0])\n",
        "        for l in features[1:]:\n",
        "            union = union | set(l)\n",
        "        if len(union) == 0:\n",
        "            return None\n",
        "        dates = [int(date[:4]) for date in union]\n",
        "        return min(dates), max(dates)\n",
        "\n",
        "    def analysis_most_common(features):\n",
        "        if len(features) == 0:\n",
        "            return None\n",
        "        li = features[0]\n",
        "        for l in features[1:]:\n",
        "            li.extend(l)\n",
        "        if len(li) == 0:\n",
        "            return None\n",
        "        \n",
        "        # for i, period in enumerate(li):\n",
        "        #     if period[-1:] != 's':\n",
        "        #         li[i] = str((int(period) // 10) * 10)+'s'\n",
        "        # print(li)\n",
        "        counter = Counter(li)\n",
        "        # print(counter.most_common(1)[0][0])\n",
        "        return counter.most_common(1)[0][0]\n",
        "\n",
        "    analysis = analysis_most_common(genres), \\\n",
        "            analysis_min_max(public_dates), \\\n",
        "                analysis_intersection(directors), \\\n",
        "                    analysis_most_common(set_in_period), \\\n",
        "                        analysis_intersection(tags)\n",
        "\n",
        "    \n",
        "    return analysis\n",
        "\n",
        "\n",
        "    # print(analysis_public_dates(['2018-08','2020-02', '2010-02', '2019']))\n",
        "    \n",
        "    return None"
      ]
    },
    {
      "cell_type": "code",
      "execution_count": 114,
      "metadata": {},
      "outputs": [
        {
          "name": "stdout",
          "output_type": "stream",
          "text": [
            "Qids: ['Q36479', 'Q218894', 'Q19946102']\n",
            "{'director': None, 'set_in_period': 'http://www.wikidata.org/entity/Q6756', 'genre': 'http://www.wikidata.org/entity/Q842256', 'publication_date': None}\n",
            "1607\n",
            "musical film\n"
          ]
        },
        {
          "data": {
            "text/plain": [
              "({'director': None,\n",
              "  'set_in_period': '1607',\n",
              "  'genre': 'musical film',\n",
              "  'publication_date': None},\n",
              " ['Hum Tum', 'Jonas Brothers: The 3D Concert Experience', 'Sleeping Beauty'])"
            ]
          },
          "execution_count": 114,
          "metadata": {},
          "output_type": "execute_result"
        }
      ],
      "source": [
        "X = [\n",
        "        \"Recommend movies like Nightmare on Elm Street, Friday the 13th, and Halloween.\",\n",
        "        \"Given that I like The Lion King, Pocahontas, and The Beauty and the Beast, can you recommend some movies?\",\n",
        "    ]\n",
        "\n",
        "Q_ents = [\n",
        "    \"A Nightmare on Elm Street\",\n",
        "    \"Friday the 13th\",\n",
        "    \"Halloween\",\n",
        "]\n",
        "\n",
        "\n",
        "Q_ents = [\n",
        "    \"The Lion King\",\n",
        "    \"Pocahontas\",\n",
        "    \"Beauty and the Beast\",\n",
        "]\n",
        "\n",
        "# ['Q36479', 'Q218894', 'Q19946102']\n",
        "# ['Q36479', 'Q27688562', 'Q495442']\n",
        "\n",
        "# Q_ents = [\n",
        "#     \"Hamlet\",\n",
        "#     \"Othello\",\n",
        "# ]\n",
        "\n",
        "# Q_ents = [\n",
        "#     \"Hornet's Nest\",\n",
        "# ] # publication date\n",
        "\n",
        "\n",
        "map, rec = answer_recommend_questions(Q_ents)\n",
        "map, rec\n",
        "# TODO handle {'node description', 'node label', 'cast member', 'Rotten Tomatoes ID', 'YouTube video ID'} condition"
      ]
    },
    {
      "cell_type": "code",
      "execution_count": 225,
      "metadata": {},
      "outputs": [
        {
          "name": "stdout",
          "output_type": "stream",
          "text": [
            "TL: [(rdflib.term.URIRef('http://www.wikidata.org/entity/Q218894'),)]\n"
          ]
        }
      ],
      "source": [
        "# sql2 = \\\n",
        "#         \"\"\"\n",
        "#     prefix wdt: <http://www.wikidata.org/prop/direct/> \n",
        "#     prefix wd: <http://www.wikidata.org/entity/> \n",
        "#     SELECT ?Qid\n",
        "#     WHERE{\n",
        "#     ?Qid rdfs:label \"%s\"@en.\n",
        "#     ?Qid wdt:P31/wdt:P279* wd:Q11424\n",
        "    \n",
        "#     }\n",
        "\n",
        "#     \"\"\" % (\"Pocahontas\")\n",
        "\n",
        "# Qids2 = []\n",
        "# tl2 = list(graph.query(sql2))\n",
        "# print(\"TL:\", tl2)"
      ]
    },
    {
      "cell_type": "markdown",
      "metadata": {},
      "source": [
        "#### Decide which function"
      ]
    },
    {
      "cell_type": "code",
      "execution_count": 189,
      "metadata": {},
      "outputs": [],
      "source": [
        "def answer_question(question_type, **kwargs):\n",
        "    if question_type == 'common':\n",
        "        return answer_common_questions(kwargs['Q'], kwargs['P'])\n",
        "    elif question_type == 'recommend':\n",
        "        return answer_recommend_questions(kwargs['Qs']) #list\n",
        "    elif question_type == 'multimedia':\n",
        "        return answer_multimedia_questions(kwargs['Q'], kwargs['P'])\n",
        "    elif question_type == 'special':\n",
        "        return answer_special_questions(kwargs['Q'], kwargs['P'])"
      ]
    },
    {
      "cell_type": "code",
      "execution_count": 336,
      "metadata": {},
      "outputs": [
        {
          "name": "stdout",
          "output_type": "stream",
          "text": [
            "1\n",
            "Answer common questions failed, sql: \n",
            "prefix wdt: <http://www.wikidata.org/prop/direct/> \n",
            "prefix wd: <http://www.wikidata.org/entity/> \n",
            "SELECT ?label\n",
            "WHERE{\n",
            "  wd:Q40791 wdt:P18 ?item .\n",
            "  ?item rdfs:label ?label .\n",
            "  FILTER(LANG(?label) = \"en\").\n",
            "}\n",
            "\n"
          ]
        }
      ],
      "source": [
        "### Test\n",
        "answer_question(question_type, Q=Q, P=P)"
      ]
    },
    {
      "cell_type": "markdown",
      "metadata": {},
      "source": [
        "### Simple Question Answer Test"
      ]
    },
    {
      "cell_type": "markdown",
      "metadata": {},
      "source": [
        "#### Factual Questions"
      ]
    },
    {
      "cell_type": "code",
      "execution_count": 201,
      "metadata": {},
      "outputs": [],
      "source": [
        "fqs_origin = [\n",
        "    \"Who is the director of Good Will Hunting?\",\n",
        "    \"Who directed The Bridge on the River Kwai?\",\n",
        "    \"Who is the director of Star Wars: Episode VI - Return of the Jedi?\",\n",
        "]\n",
        "\n",
        "Q_ents = [\n",
        "    \"Good Will Hunting\",\n",
        "    \"The Bridge on the River Kwai\",\n",
        "    \"Star Wars: Episode VI - Return of the Jedi\",\n",
        "] # should be extract by model\n",
        "\n",
        "fqs_mask = [\n",
        "    \"Who is the director of <>?\",\n",
        "    \"Who directed <>?\",\n",
        "    \"Who is the director of <>?\",\n",
        "]"
      ]
    },
    {
      "cell_type": "code",
      "execution_count": 202,
      "metadata": {},
      "outputs": [
        {
          "name": "stdout",
          "output_type": "stream",
          "text": [
            "Keyword:  director\n",
            "Keyword:  directed\n",
            "Keyword:  director\n",
            "Keywords:  ['director', 'directed', 'director']\n"
          ]
        },
        {
          "data": {
            "text/plain": [
              "['director', 'director', 'director']"
            ]
          },
          "execution_count": 202,
          "metadata": {},
          "output_type": "execute_result"
        }
      ],
      "source": [
        "preds = label_prediction(fqs_mask)\n",
        "preds"
      ]
    },
    {
      "cell_type": "code",
      "execution_count": 203,
      "metadata": {},
      "outputs": [
        {
          "name": "stdout",
          "output_type": "stream",
          "text": [
            "Q193835 P57\n",
            "what\n",
            "[('Q528949', 'Harmony Korine', 2721.4583, 0), ('Q483118', 'Ben Affleck', 2832.0962, 1), ('Q25186', 'Gus Van Sant', 2863.7493, 2)]\n",
            "Question: Who is the director of Good Will Hunting?\n",
            "Answer: Take the embeddings as reference, I support Harmony Korine is the answer you want. However, the answer is different if I search it in knowledge graph: Gus Van Sant.\n",
            "Q188718 P57\n",
            "what\n",
            "[('Q26118', 'Jack Hawkins', 2785.5608, 0), ('Q55260', 'David Lean', 2934.9756, 1), ('Q3127608', 'Harold Goodwin', 2940.063, 2)]\n",
            "Question: Who directed The Bridge on the River Kwai?\n",
            "Answer: Hmm, a hard question! But I know the answer is likely to be Jack Hawkins, provided by embeddings. Different answer would be fetched from knowledge graph: David Lean.\n",
            "Q181803 P57\n",
            "what\n",
            "[('Q311319', 'Frank Oz', 2904.5396, 0), ('Q38222', 'George Lucas', 2919.8804, 1), ('Q240872', 'Lawrence Kasdan', 2987.016, 2)]\n",
            "Question: Who is the director of Star Wars: Episode VI - Return of the Jedi?\n",
            "Answer: According to embeddings, the answer to this question is Frank Oz. However, the answer is different if I search it in knowledge graph: Richard Marquand.\n"
          ]
        }
      ],
      "source": [
        "answers = []\n",
        "\n",
        "for Q, P, question in (zip(Q_ents, preds, fqs_origin)):\n",
        "    # Qid, Pid = name2Qid_func(Q), label2Pid_func(P)\n",
        "    question_type = distinguish_question_type(P)\n",
        "    answer = answer_question(question_type=question_type, Q=Q, P=P)\n",
        "    full_answer = full_answer_generation(question_type, answer)\n",
        "    print(\"Question:\", question)\n",
        "    print(\"Answer:\", full_answer)"
      ]
    },
    {
      "cell_type": "markdown",
      "metadata": {},
      "source": [
        "#### Embedding Questions"
      ]
    },
    {
      "cell_type": "markdown",
      "metadata": {},
      "source": [
        "These questions don't have a exact answer. Use embeddings to find most similar ones."
      ]
    },
    {
      "cell_type": "code",
      "execution_count": 206,
      "metadata": {},
      "outputs": [],
      "source": [
        "eqs_origin = [\n",
        "    \"Who is the screenwriter of The Masked Gang: Cyprus?\",\n",
        "    \"What is the MPAA film rating of Weathering with You?\",\n",
        "    \"What is the genre of Good Neighbors?\",\n",
        "]\n",
        "\n",
        "Q_ents = [\n",
        "    \"The Masked Gang: Cyprus\",\n",
        "    \"Weathering with You\",\n",
        "    \"Good Neighbors\",\n",
        "]\n",
        "\n",
        "eqs_mask = [\n",
        "    \"Who is the screenwriter of <>?\",\n",
        "    \"What is the MPAA film rating of <>?\",\n",
        "    \"What is the genre of <>?\"\n",
        "]"
      ]
    },
    {
      "cell_type": "code",
      "execution_count": 207,
      "metadata": {},
      "outputs": [
        {
          "name": "stdout",
          "output_type": "stream",
          "text": [
            "Keyword:  screenwriter\n",
            "Keyword:  MPAA film rating\n",
            "Keyword:  genre\n",
            "Keywords:  ['screenwriter', 'MPAA film rating', 'genre']\n"
          ]
        },
        {
          "data": {
            "text/plain": [
              "['screenwriter', 'MPA film rating', 'genre']"
            ]
          },
          "execution_count": 207,
          "metadata": {},
          "output_type": "execute_result"
        }
      ],
      "source": [
        "preds = label_prediction(eqs_mask)\n",
        "preds"
      ]
    },
    {
      "cell_type": "code",
      "execution_count": 209,
      "metadata": {},
      "outputs": [
        {
          "name": "stdout",
          "output_type": "stream",
          "text": [
            "Q7750525 P58\n",
            "what\n",
            "Answer factual questions failed.\n",
            "[('Q5058838', 'Cengiz Küçükayvaz', 2568.8137, 0), ('Q3328043', 'Murat Aslan', 2613.7378, 1), ('Q6812382', 'Melih Ekener', 2728.1128, 2)]\n",
            "Question: Who is the screenwriter of The Masked Gang: Cyprus?\n",
            "Answer: I find the answer to this question from embeddings: Cengiz Küçükayvaz.\n",
            "Q59692464 P1657\n",
            "what\n",
            "[('Q18665339', 'PG-13', 5618.7075, 0), ('Q18665334', 'PG', 6026.137, 1), ('Q18665344', 'R', 6102.3394, 2)]\n",
            "Question: What is the MPAA film rating of Weathering with You?\n",
            "Answer: According to embeddings, the answer to this question is PG-13. However, the answer is different if I search it in knowledge graph: NC-17.\n",
            "Q3110682 P136\n",
            "what\n",
            "[('Q130232', 'drama', 3599.8713, 0), ('Q859369', 'comedy-drama', 3604.7146, 1), ('Q157443', 'comedy film', 3616.0613, 2)]\n",
            "Question: What is the genre of Good Neighbors?\n",
            "Answer: Take the embeddings as reference, I support drama is the answer you want. However, there would be multiple answers in knowledge graph: art film, comedy-drama.\n"
          ]
        }
      ],
      "source": [
        "answers = []\n",
        "\n",
        "for Q, P, question in (zip(Q_ents, preds, eqs_origin)):\n",
        "    # Qid, Pid = name2Qid_func(Q), label2Pid_func(P)\n",
        "    question_type = distinguish_question_type(P)\n",
        "    answer = answer_question(question_type=question_type, Q=Q, P=P)\n",
        "    full_answer = full_answer_generation(question_type, answer)\n",
        "    print(\"Question:\", question)\n",
        "    print(\"Answer:\", full_answer)"
      ]
    },
    {
      "cell_type": "markdown",
      "metadata": {},
      "source": [
        "#### Multimedia Questions"
      ]
    },
    {
      "cell_type": "code",
      "execution_count": 210,
      "metadata": {},
      "outputs": [],
      "source": [
        "mqs_origin = [\n",
        "    \"Show me a picture of Halle Berry.\",\n",
        "    \"What does Julia Roberts look like?\",\n",
        "    \"Let me know what Sandra Bullock looks like.\",\n",
        "    \"Show me a picture of Bruce Willis.\",\n",
        "]\n",
        "\n",
        "Q_ents = [\n",
        "    \"Halle Berry\",\n",
        "    \"Julia Roberts\",\n",
        "    \"Sandra Bullock\",\n",
        "    \"Bruce Willis\",\n",
        "\n",
        "]# TODO if many ents a question\n",
        "\n",
        "mqs_mask = [\n",
        "    \"Show me a picture of <>.\",\n",
        "    \"What does <> look like?\",\n",
        "    \"Let me know what <> looks like.\",\n",
        "    \"Show me a picture of <>.\",\n",
        "]\n"
      ]
    },
    {
      "cell_type": "code",
      "execution_count": 211,
      "metadata": {},
      "outputs": [
        {
          "name": "stdout",
          "output_type": "stream",
          "text": [
            "Keyword:  Show me a picture\n",
            "Use whole question\n",
            "Use whole question\n",
            "Keyword:  Show me a picture\n",
            "Keywords:  ['Show me a picture', 'What does <> look like?', 'Let me know what <> looks like.', 'Show me a picture']\n"
          ]
        }
      ],
      "source": [
        "preds = label_prediction(mqs_mask)"
      ]
    },
    {
      "cell_type": "code",
      "execution_count": 212,
      "metadata": {},
      "outputs": [
        {
          "data": {
            "text/plain": [
              "['image', 'look like', 'look like', 'image']"
            ]
          },
          "execution_count": 212,
          "metadata": {},
          "output_type": "execute_result"
        }
      ],
      "source": [
        "preds"
      ]
    },
    {
      "cell_type": "code",
      "execution_count": 218,
      "metadata": {},
      "outputs": [
        {
          "name": "stdout",
          "output_type": "stream",
          "text": [
            "Q1033016\n",
            "nm0000932\n",
            "Question: Show me a picture of Halle Berry.\n",
            "Answer: image:0353/rm3257480192.jpg\n",
            "Q40523\n",
            "nm0000210\n",
            "Question: What does Julia Roberts look like?\n",
            "Answer: image:3739/rm3651656960.jpg\n",
            "Q40791\n",
            "nm0000113\n",
            "Question: Let me know what Sandra Bullock looks like.\n",
            "Answer: image:1050/rm3423772416.jpg\n",
            "Q2680\n",
            "nm0000246\n",
            "Question: Show me a picture of Bruce Willis.\n",
            "Answer: image:1926/rm1037117952.jpg\n"
          ]
        }
      ],
      "source": [
        "answers = []\n",
        "\n",
        "for Q, P, question in (zip(Q_ents, preds, mqs_origin)):\n",
        "    # Qid, Pid = name2Qid_func(Q), label2Pid_func(P)\n",
        "    question_type = distinguish_question_type(P)\n",
        "    answer = answer_question(question_type=question_type, Q=Q, P=P)\n",
        "    full_answer = full_answer_generation(question_type, answer)\n",
        "    print(\"Question:\", question)\n",
        "    print(\"Answer:\", full_answer)"
      ]
    },
    {
      "cell_type": "markdown",
      "metadata": {},
      "source": [
        "#### Recommendation Questions"
      ]
    },
    {
      "cell_type": "code",
      "execution_count": 228,
      "metadata": {},
      "outputs": [
        {
          "name": "stdout",
          "output_type": "stream",
          "text": [
            "Qids: ['Q27044293', 'Q218894', 'Q19946102']\n",
            "{'director': None, 'set_in_period': 'http://www.wikidata.org/entity/Q6756', 'genre': 'http://www.wikidata.org/entity/Q130232', 'publication_date': None}\n",
            "1607\n",
            "drama\n",
            "I would recommend you these movies: Linger, What We Wanted, Kill the Irishman, and you may have interest in movies in the drama genre, with a background period in 1607.\n"
          ]
        }
      ],
      "source": [
        "X = [\n",
        "        \"Recommend movies similar to Hamlet and Othello.\",\n",
        "        \"Recommend movies like Nightmare on Elm Street, Friday the 13th, and Halloween.\",\n",
        "        \"Given that I like The Lion King, Pocahontas, and The Beauty and the Beast, can you recommend some movies?\",\n",
        "    ]\n",
        "\n",
        "Q_ents = [\n",
        "    \"A Nightmare on Elm Street\",\n",
        "    \"Friday the 13th\",\n",
        "    \"Halloween\",\n",
        "]\n",
        "\n",
        "\n",
        "Q_ents = [\n",
        "    \"The Lion King\",\n",
        "    \"Pocahontas\",\n",
        "    \"Beauty and the Beast\",\n",
        "]\n",
        "\n",
        "# ['Q36479', 'Q218894', 'Q19946102']\n",
        "# ['Q36479', 'Q27688562', 'Q495442']\n",
        "\n",
        "# Q_ents = [\n",
        "#     \"Hamlet\",\n",
        "#     \"Othello\",\n",
        "# ]\n",
        "\n",
        "# Q_ents = [\n",
        "#     \"Hornet's Nest\",\n",
        "# ] # publication date\n",
        "\n",
        "\n",
        "# map, rec = answer_recommend_questions(Q_ents)\n",
        "# map, rec\n",
        "\n",
        "# handle {'node description', 'node label', 'cast member', 'Rotten Tomatoes ID', 'YouTube video ID'} condition\n",
        "\n",
        "answer = answer_question('recommend', Qs = Q_ents)\n",
        "print(full_answer_generation('recommend', answer))"
      ]
    },
    {
      "cell_type": "markdown",
      "metadata": {},
      "source": [
        "#### Crowdsourcing Questions"
      ]
    },
    {
      "cell_type": "markdown",
      "metadata": {},
      "source": [
        "These questions do have an answer, but in crowding source dataset."
      ]
    },
    {
      "cell_type": "code",
      "execution_count": 222,
      "metadata": {},
      "outputs": [],
      "source": [
        "cqs_origin = [\n",
        "    \"What is the box office of The Princess and the Frog?\",\n",
        "    \"Can you tell me the publication date of Tom Meets Zizou?\",\n",
        "    \"Who is the executive producer of X-Men: First Class?\",\n",
        "]\n",
        "\n",
        "Q_ents = [\n",
        "    \"The Princess and the Frog\",\n",
        "    \"Tom Meets Zizou\",\n",
        "    \"X-Men: First Class\",\n",
        "]\n",
        "\n",
        "cqs_mask = [\n",
        "    \"What is the box office of <>?\",\n",
        "    \"Can you tell me the publication date of <>?\",\n",
        "    \"Who is the executive producer of <>?\"\n",
        "]\n",
        "\n"
      ]
    },
    {
      "cell_type": "code",
      "execution_count": 223,
      "metadata": {},
      "outputs": [
        {
          "name": "stdout",
          "output_type": "stream",
          "text": [
            "Keyword:  box office\n",
            "Keyword:  publication date\n",
            "Keyword:  executive producer\n",
            "Keywords:  ['box office', 'publication date', 'executive producer']\n"
          ]
        },
        {
          "data": {
            "text/plain": [
              "['box office', 'publication date', 'executive producer']"
            ]
          },
          "execution_count": 223,
          "metadata": {},
          "output_type": "execute_result"
        }
      ],
      "source": [
        "preds = label_prediction(cqs_mask)\n",
        "preds"
      ]
    },
    {
      "cell_type": "code",
      "execution_count": 224,
      "metadata": {},
      "outputs": [
        {
          "name": "stdout",
          "output_type": "stream",
          "text": [
            "Q171300 P2142\n",
            "267000000\n",
            "Question: What is the box office of The Princess and the Frog?\n",
            "Answer: Good question. I suppose the answer is 267000000, suggested by crowd. The crowd had an inter-rater agreement of 0.24, in the related batch. The answer distribution of this micro task was 2 support and 1 reject.\n",
            "Q1410031 P577\n",
            "2010-10-01\n",
            "Question: Can you tell me the publication date of Tom Meets Zizou?\n",
            "Answer: According to crowd, the fixed answer to this question is 2011-01-01. The crowd had an inter-rater agreement of 0.04, in the related batch. The answer distribution of this micro task was 0 support and 3 reject.\n",
            "Q223596 P1431\n",
            "wd:Q457180\n",
            "Sheryl Lee Ralph\n",
            "Question: Who is the executive producer of X-Men: First Class?\n",
            "Answer: Hmm, a hard question! But I know the answer is probably to be Sheryl Lee Ralph, provided by crowd. The crowd had an inter-rater agreement of 0.26, in the related batch. The answer distribution of this micro task was 2 support and 1 reject.\n"
          ]
        }
      ],
      "source": [
        "answers = []\n",
        "\n",
        "for Q, P, question in (zip(Q_ents, preds, cqs_origin)):\n",
        "    # Qid, Pid = name2Qid_func(Q), label2Pid_func(P)\n",
        "    question_type = distinguish_question_type(P)\n",
        "    answer = answer_question(question_type=question_type, Q=Q, P=P)\n",
        "    full_answer = full_answer_generation(question_type, answer)\n",
        "    print(\"Question:\", question)\n",
        "    print(\"Answer:\", full_answer)"
      ]
    },
    {
      "cell_type": "markdown",
      "metadata": {},
      "source": [
        "### Answer Generation"
      ]
    },
    {
      "cell_type": "code",
      "execution_count": 92,
      "metadata": {},
      "outputs": [],
      "source": [
        "def full_answer_generation_fai(answer):\n",
        "    # Failed to answer question\n",
        "    choices = \\\n",
        "    [\n",
        "        \"I'm sorry that I can't answer this question to you now, can you change another one?\",\n",
        "        \"This question is a bit of hard for me, ask me another one please!\",\n",
        "        \"Oops! It's difficult for me to show you answer to this question, ask me a new one!\",\n",
        "    ]\n",
        "\n",
        "    return np.random.choice(choices)\n",
        "\n",
        "full_answer_generation_fai(None)"
      ]
    },
    {
      "cell_type": "code",
      "execution_count": 94,
      "metadata": {},
      "outputs": [],
      "source": [
        "def full_answer_generation_mul(answer):\n",
        "    # Image code\n",
        "    return answer\n",
        "\n",
        "# full_answer_generation_mul(None)"
      ]
    },
    {
      "cell_type": "code",
      "execution_count": 229,
      "metadata": {},
      "outputs": [
        {
          "data": {
            "text/plain": [
              "'I would like to recommend these movies to you: Hum Tum, Jonas Brothers: The 3D Concert Experience, Sleeping Beauty, and you may have interest in movies in the musical film genre, directed by Wtier, pulicated around 1900, with a background period around 1607.'"
            ]
          },
          "execution_count": 229,
          "metadata": {},
          "output_type": "execute_result"
        }
      ],
      "source": [
        "def full_answer_generation_rec(answer):\n",
        "    # Failed to answer question\n",
        "    map, rec = answer\n",
        "    choices_1 = \\\n",
        "    [\n",
        "        \"I would recommend you these movies: {}\".format(', '.join(rec)),\n",
        "        \"I would like to recommend these movies to you: {}\".format(', '.join(rec)),\n",
        "        \"I suppose you will also like: {}\".format(', '.join(rec)),\n",
        "    ]\n",
        "\n",
        "    \n",
        "    \n",
        "    choice_genre = \"in the {} genre\".format(map['genre']) if map['genre'] else None\n",
        "    choice_director = \"directed by {}\".format(map['director']) if map['director'] else None\n",
        "    if map[\"publication_date\"]:\n",
        "        if map[\"publication_date\"][0] == map[\"publication_date\"][1]:\n",
        "            choice_publicated = \"pulicated around {}\".format(map[\"publication_date\"][0])\n",
        "        else:\n",
        "            choice_publicated = \"pulicated from {} to {}\".format(map[\"publication_date\"][0], map[\"publication_date\"][1])\n",
        "    else:\n",
        "        choice_publicated = None\n",
        "    \n",
        "    choice_period = \"with a background period around {}\".format(map[\"set_in_period\"]) if map[\"set_in_period\"] else None\n",
        "\n",
        "    merge = []\n",
        "    if choice_genre:\n",
        "        merge.append(choice_genre)\n",
        "    if choice_director:\n",
        "        merge.append(choice_director)\n",
        "    if choice_publicated:\n",
        "        merge.append(choice_publicated)\n",
        "    if choice_period:\n",
        "        merge.append(choice_period)\n",
        "    other = ', '.join(merge)\n",
        "\n",
        "    choices_2 = \\\n",
        "        [\n",
        "            \". By aspects, movies {} may speak to you.\".format(other),\n",
        "            \". Besides, movies {} may to your appetite.\".format(other),\n",
        "            \", and you may have interest in movies {}.\".format(other),\n",
        "        ]\n",
        "\n",
        "    c1 = np.random.choice(choices_1)\n",
        "    c2 = np.random.choice(choices_2)\n",
        "\n",
        "    return \"{}{}\".format(c1, c2)\n",
        "\n",
        "answer_temp = ({'director': 'Wtier',\n",
        "  'set_in_period': '1607',\n",
        "  'genre': 'musical film',\n",
        "  'publication_date': (1900, 1900)},\n",
        " ['Hum Tum', 'Jonas Brothers: The 3D Concert Experience', 'Sleeping Beauty'])\n",
        "full_answer_generation_rec(answer_temp)"
      ]
    },
    {
      "cell_type": "code",
      "execution_count": 122,
      "metadata": {},
      "outputs": [],
      "source": [
        "def full_answer_generation_spe(answer):\n",
        "    # special\n",
        "\n",
        "    # choices = \\\n",
        "    #     [\n",
        "    #         \"The answer to this question is {}.\".format(answer),\n",
        "    #         \"I know this, {}.\".format(answer),\n",
        "    #         \"Good question, I suppose the answer is {}.\".format(answer),\n",
        "    #         \"Hmm, a hard question, but I know the answer is {}\".format(answer),\n",
        "    #         \"I support {} is the answer you want.\".format(answer),\n",
        "    #     ]\n",
        "\n",
        "    choices = \\\n",
        "        [\n",
        "            \"The answer to this question is: {}.\".format(answer),\n",
        "            \"I know this, {}.\".format(answer),\n",
        "            \"Good question, I suppose the answer is: {}.\".format(answer),\n",
        "            \"Hmm, a hard question, but I know the answer: {}\".format(answer),\n",
        "            \"I support {} is the answer you want.\".format(answer),\n",
        "        ]\n",
        "\n",
        "    return np.random.choice(choices)"
      ]
    },
    {
      "cell_type": "code",
      "execution_count": 133,
      "metadata": {},
      "outputs": [
        {
          "data": {
            "text/plain": [
              "('The answer to this question is drama.',\n",
              " 'I support drama and musical are the answers you want.',\n",
              " 'I support drama, musical, song are the answer you want.')"
            ]
          },
          "execution_count": 133,
          "metadata": {},
          "output_type": "execute_result"
        }
      ],
      "source": [
        "def full_answer_generation_fac(answer):\n",
        "    # factual\n",
        "\n",
        "    if len(answer) == 1:\n",
        "        answer = answer[0]\n",
        "\n",
        "\n",
        "        choices = \\\n",
        "            [\n",
        "                \"The answer to this question is {}.\".format(answer),\n",
        "                \"I know this, {}.\".format(answer),\n",
        "                \"Good question, I suppose the answer is {}.\".format(answer),\n",
        "                \"Hmm, a hard question, but I know the answer is {}\".format(answer),\n",
        "                \"I support {} is the answer you want.\".format(answer),\n",
        "            ]\n",
        "    elif len(answer) == 2:\n",
        "\n",
        "        choices = \\\n",
        "            [\n",
        "                \"The answers to this question are: {}.\".format(' and '.join(answer)),\n",
        "                \"I know this, {}.\".format(' and '.join(answer)),\n",
        "                \"Good question, I suppose the answers will be: {}.\".format(' and '.join(answer)),\n",
        "                \"Hmm, a hard question, but I know the answers: {}\".format(' and '.join(answer)),\n",
        "                \"I support {} are the answers you want.\".format(' and '.join(answer)),\n",
        "            ]\n",
        "    \n",
        "    elif len(answer) > 2:\n",
        "\n",
        "        choices = \\\n",
        "            [\n",
        "                \"The answers to this question are: {}.\".format(', '.join(answer)),\n",
        "                \"I know this, {}.\".format(', '.join(answer)),\n",
        "                \"Good question, I suppose the answers will be: {}.\".format(', '.join(answer)),\n",
        "                \"Hmm, a hard question, but I know the answers: {}\".format(', '.join(answer)),\n",
        "                \"I support {} are the answers you want.\".format(', '.join(answer)),\n",
        "            ]\n",
        "\n",
        "    return np.random.choice(choices)\n",
        "\n",
        "full_answer_generation_fac(['drama']),\\\n",
        "full_answer_generation_fac(['drama', 'musical']),\\\n",
        "full_answer_generation_fac(['drama', 'musical', 'song'])"
      ]
    },
    {
      "cell_type": "code",
      "execution_count": 141,
      "metadata": {},
      "outputs": [
        {
          "data": {
            "text/plain": [
              "'According to embeddings, the answer to this question is drama.'"
            ]
          },
          "execution_count": 141,
          "metadata": {},
          "output_type": "execute_result"
        }
      ],
      "source": [
        "def full_answer_generation_emb(answer):\n",
        "    # embedding\n",
        "\n",
        "    choices = \\\n",
        "        [\n",
        "            \"According to embeddings, the answer to this question is {}.\".format(answer),\n",
        "            \"I find the answer to this question from embeddings: {}.\".format(answer),\n",
        "            \"Good question, I suppose the answer is {}, suggested by embeddings.\".format(answer),\n",
        "            \"Hmm, a hard question! But I know the answer is likely to be {}, provided by embeddings.\".format(answer),\n",
        "            \"Take the embeddings as reference, I support {} is the answer you want.\".format(answer),\n",
        "        ]\n",
        "    \n",
        "\n",
        "    return np.random.choice(choices)\n",
        "\n",
        "full_answer_generation_emb('drama')"
      ]
    },
    {
      "cell_type": "code",
      "execution_count": 146,
      "metadata": {},
      "outputs": [
        {
          "data": {
            "text/plain": [
              "('According to embeddings, the answer to this question is drama. I also get the same answer from knowledge graph, what a coincidence!',\n",
              " 'According to embeddings, the answer to this question is drama. Different answer would be fetched from knowledge graph: musical.',\n",
              " 'Good question, I suppose the answer is drama, suggested by embeddings. While multiple answers would be fetched from knowledge graph: drama, musical.')"
            ]
          },
          "execution_count": 146,
          "metadata": {},
          "output_type": "execute_result"
        }
      ],
      "source": [
        "def full_answer_generation_bot(answer):\n",
        "    # factual and embedding\n",
        "    # {'type': 'fac and emb', 'answer': [answer_emb, answer_fac]}\n",
        "\n",
        "    answer_emb, answer_fac = answer\n",
        "    full_emb = full_answer_generation_emb(answer_emb)\n",
        "\n",
        "    if len(answer_fac) == 1:\n",
        "        answer_fac = answer_fac[0]\n",
        "        \n",
        "        if answer_emb == answer_fac:\n",
        "            full_fac = np.random.choice([\n",
        "                \"The answer is the same if I find the answer in knowledge graph.\",\n",
        "                \"I also get the same answer from knowledge graph, what a coincidence!\",\n",
        "            ])\n",
        "            \n",
        "\n",
        "        else:\n",
        "            full_fac = np.random.choice([\n",
        "            \"However, I find another possible answer in knowledge graph: {}\".format(answer_fac),\n",
        "            \"However, the answer is different if I search it in knowledge graph: {}.\".format(answer_fac),\n",
        "            \"Different answer would be fetched from knowledge graph: {}.\".format(answer_fac)\n",
        "        ])\n",
        "\n",
        "        \n",
        "    else:\n",
        "        full_fac = np.random.choice([\n",
        "                \"However, there would be multiple answers in knowledge graph: {}.\".format(', '.join(answer_fac)),\n",
        "                \"While multiple answers would be fetched from knowledge graph: {}.\".format(', '.join(answer_fac)),\n",
        "            ])\n",
        "\n",
        "\n",
        "       \n",
        "\n",
        "    return \"{} {}\".format(full_emb, full_fac)\n",
        "\n",
        "full_answer_generation_bot(('drama', ['drama'])),\\\n",
        "full_answer_generation_bot(('drama', ['musical'])),\\\n",
        "full_answer_generation_bot(('drama', ['drama', 'musical']))"
      ]
    },
    {
      "cell_type": "code",
      "execution_count": 181,
      "metadata": {},
      "outputs": [
        {
          "data": {
            "text/plain": [
              "('According to crowd, the answer to this question is 267000000. The crowd had an inter-rater agreement of 0.24, in the related batch. The answer distribution of this micro task was 2 support and 1 reject.',\n",
              " 'The crowd suggested that the fixed answer is: 2011-01-01 The crowd had an inter-rater agreement of 0.04, in the related batch. The answer distribution of this micro task was 0 support and 3 reject.',\n",
              " \"Good question. The answer in knowledge graph is 969023261, but the crowd think it's wrong. I don't have enough information to fix it. Here is some other analysis: The inter-rater agreement of relevant batch is 0.24. The concrete distribution of relevant micro task was 0 support and 3 reject.\")"
            ]
          },
          "execution_count": 181,
          "metadata": {},
          "output_type": "execute_result"
        }
      ],
      "source": [
        "def full_answer_generation_cro(answer: dict):\n",
        "    # crowdsourcing\n",
        "    # {\n",
        "        # 'response_type': response_type, # correct fix mention\n",
        "        # 'result': cro_result, # label\n",
        "        # 'TrueCount': TrueCount, # int\n",
        "        # 'FalseCount': FalseCount, # int\n",
        "        # 'Agreement': Agreement, # float\n",
        "        # }\n",
        "\n",
        "    # London - according to the crowd, who had an inter-rater agreement of 0.72 in this batch. \n",
        "    # The answer distribution for this specific task was 2 support votes and 1 reject vote. \n",
        "\n",
        "    for key in answer.keys():\n",
        "        if answer[key] == None:\n",
        "            return full_answer_generation_fai(None)\n",
        "\n",
        "    choices_2 = [\n",
        "            \"The crowd had an inter-rater agreement of {}, in the related batch. \".format(answer['Agreement']) + \n",
        "            \"The answer distribution of this micro task was {} support and {} reject.\".format(answer['TrueCount'], answer['FalseCount']),\n",
        "            \"The inter-rater agreement of relevant batch is {}. \".format(answer['Agreement']) + \n",
        "            \"The concrete distribution of relevant micro task was {} support and {} reject.\".format(answer['TrueCount'], answer['FalseCount']),\n",
        "        ]\n",
        "    info_answer = np.random.choice(choices_2)\n",
        "\n",
        "    if answer['response_type'] == 'correct':\n",
        "        part_answer = np.random.choice([\n",
        "            \"Hmm, a hard question! But I know the answer is probably to be {}, provided by crowd.\".format(answer['result']),\n",
        "            \"Good question. I suppose the answer is {}, suggested by crowd.\".format(answer['result']),\n",
        "            \"According to crowd, the answer to this question is {}.\".format(answer['result']),\n",
        "            \"I find the answer to this question from crowd: {}.\".format(answer['result']),\n",
        "            \"The crowd suggested that the answer is: {}\".format(answer['result'])\n",
        "        ])\n",
        "\n",
        "        \n",
        "    elif answer['response_type'] == 'fix':\n",
        "        part_answer = np.random.choice([\n",
        "            \"Hmm, a hard question! But I know the answer is probably to be {}, which is fixed by crowd.\".format(answer['result']),\n",
        "            \"Good question. I suppose the answer is {}, fixed by crowd.\".format(answer['result']),\n",
        "            \"According to crowd, the fixed answer to this question is {}.\".format(answer['result']),\n",
        "            \"I find a fixed answer to this question from crowd: {}.\".format(answer['result']),\n",
        "            \"The crowd suggested that the fixed answer is: {}\".format(answer['result'])\n",
        "        ])\n",
        "\n",
        "    else:\n",
        "        # mention\n",
        "        part_answer = np.random.choice([\n",
        "            \"Hmm, a hard question! The answer is probably to be {} from knowledge graph. However, the crowd suggested that this relationship is wrong. Sorry that I don't have complete information. But I can show you some other information.\".format(answer['result']),\n",
        "            \"Good question. The answer in knowledge graph is {}, but the crowd think it's wrong. I don't have enough information to fix it. Here is some other analysis:\".format(answer['result']),\n",
        "            \"According to crowd, the answer to this question is wrong, although we can get it from knowledge graph: {}. Sorry that I don't have complete information. Here is some other information I want to show you.\".format(answer['result']),\n",
        "        ])\n",
        "    \n",
        "    \n",
        "\n",
        "    return \"{} {}\".format(part_answer, info_answer)\n",
        "\n",
        "full_answer_generation_cro({'response_type': 'correct', 'result': '267000000', 'TrueCount': 2, 'FalseCount': 1, 'Agreement': 0.24}),\\\n",
        "full_answer_generation_cro({'response_type': 'fix', 'result': '2011-01-01', 'TrueCount': 0, 'FalseCount': 3, 'Agreement': 0.04}),\\\n",
        "full_answer_generation_cro({'response_type': 'mention', 'result': '969023261', 'TrueCount': 0, 'FalseCount': 3, 'Agreement': 0.24}\n",
        ")"
      ]
    },
    {
      "cell_type": "code",
      "execution_count": 191,
      "metadata": {},
      "outputs": [],
      "source": [
        "# question_type = 'common'\n",
        "# pred = P\n",
        "# if pred in special_conditions_reverse.keys():\n",
        "#     question_type = 'special'\n",
        "    \n",
        "# elif pred in extension_recommend:\n",
        "#     question_type = 'recommend'\n",
        "\n",
        "# elif pred in extension_multimedia:\n",
        "#     question_type = 'multimedia'\n",
        "def full_answer_generation(question_type, answer):\n",
        "    if not answer:\n",
        "        return full_answer_generation_fai(answer)\n",
        "    if question_type == 'multimedia':\n",
        "        return full_answer_generation_mul(answer)\n",
        "    elif question_type == 'recommend':\n",
        "        return full_answer_generation_rec(answer)\n",
        "    elif question_type == 'special':\n",
        "        return full_answer_generation_spe(answer)\n",
        "    elif question_type == 'common':\n",
        "        if answer['type'] == 'cro':\n",
        "            return full_answer_generation_cro(answer['answer'])\n",
        "        elif answer['type'] == 'emb':\n",
        "            return full_answer_generation_emb(answer['answer'])\n",
        "        elif answer['type'] == 'fac':\n",
        "            return full_answer_generation_fac(answer['answer'])\n",
        "        elif answer['type'] == 'fac and emb':\n",
        "            return full_answer_generation_bot(answer['answer'])\n",
        "    return full_answer_generation_fai(answer)"
      ]
    },
    {
      "cell_type": "markdown",
      "metadata": {},
      "source": [
        "## Agent"
      ]
    },
    {
      "cell_type": "code",
      "execution_count": 231,
      "metadata": {},
      "outputs": [
        {
          "name": "stdout",
          "output_type": "stream",
          "text": [
            "dict_keys(['userDetails', 'sessionToken', 'sessionId', 'startTime'])\n",
            "- User yijie.tong_bot successfully logged in with session 'node01567rr220jgmc14xx30nmyvdmw437046'!\n",
            "Current rooms number:  1\n",
            "\t- Chatroom f769fe7e-0d59-43ad-a4ed-f2836a3bbb87 - new message #0: 'Who is the director of Good Will Hunting?' - 04:35:59, 14-12-2022\n",
            "Current rooms number:  1\n",
            "Current rooms number:  1\n",
            "Current rooms number:  1\n",
            "Current rooms number:  1\n",
            "Current rooms number:  1\n",
            "Current rooms number:  1\n",
            "Current rooms number:  1\n",
            "Current rooms number:  1\n",
            "Current rooms number:  1\n",
            "Current rooms number:  1\n"
          ]
        },
        {
          "ename": "KeyboardInterrupt",
          "evalue": "",
          "output_type": "error",
          "traceback": [
            "\u001b[0;31m---------------------------------------------------------------------------\u001b[0m",
            "\u001b[0;31mKeyboardInterrupt\u001b[0m                         Traceback (most recent call last)",
            "Cell \u001b[0;32mIn [231], line 95\u001b[0m\n\u001b[1;32m     93\u001b[0m password \u001b[39m=\u001b[39m \u001b[39m'\u001b[39m\u001b[39m3AiyYO7SLQ77MA\u001b[39m\u001b[39m'\u001b[39m\n\u001b[1;32m     94\u001b[0m demobot \u001b[39m=\u001b[39m DemoBot(username, password)\n\u001b[0;32m---> 95\u001b[0m demobot\u001b[39m.\u001b[39;49mlisten()\n",
            "Cell \u001b[0;32mIn [231], line 58\u001b[0m, in \u001b[0;36mDemoBot.listen\u001b[0;34m(self)\u001b[0m\n\u001b[1;32m     56\u001b[0m                     answer \u001b[39m=\u001b[39m \u001b[39m'\u001b[39m\u001b[39mimage:1050/rm3423772416.jpg\u001b[39m\u001b[39m'\u001b[39m\n\u001b[1;32m     57\u001b[0m                     \u001b[39mself\u001b[39m\u001b[39m.\u001b[39mpost_message(room_id\u001b[39m=\u001b[39mroom_id, session_token\u001b[39m=\u001b[39m\u001b[39mself\u001b[39m\u001b[39m.\u001b[39msession_token, message\u001b[39m=\u001b[39manswer, )\n\u001b[0;32m---> 58\u001b[0m time\u001b[39m.\u001b[39;49msleep(listen_freq)\n",
            "\u001b[0;31mKeyboardInterrupt\u001b[0m: "
          ]
        }
      ],
      "source": [
        "### Human Username: yijie.tong Password: rI5OtxGVTzWzwA\n",
        "### AI Username: yijie.tong_bot Password: 3AiyYO7SLQ77MA\n",
        "import time\n",
        "import atexit\n",
        "import getpass\n",
        "import requests  # install the package via \"pip install requests\"\n",
        "from collections import defaultdict\n",
        "from io import BytesIO\n",
        "from PIL import Image\n",
        "\n",
        "# url of the speakeasy server\n",
        "url = 'https://speakeasy.ifi.uzh.ch'\n",
        "listen_freq = 3\n",
        "\n",
        "\n",
        "class DemoBot:\n",
        "    def __init__(self, username, password):\n",
        "        self.agent_details = self.login(username, password)\n",
        "        self.session_token = self.agent_details['sessionToken']\n",
        "        self.chat_state = defaultdict(lambda: {'messages': defaultdict(dict), 'initiated': False, 'my_alias': None})\n",
        "\n",
        "        atexit.register(self.logout)\n",
        "\n",
        "    def listen(self):\n",
        "        while True:\n",
        "            # check for all chatrooms\n",
        "            current_rooms = self.check_rooms(session_token=self.session_token)['rooms']\n",
        "            print(\"Current rooms number: \", len(current_rooms))\n",
        "            for room in current_rooms:\n",
        "                # ignore finished conversations\n",
        "                if room['remainingTime'] > 0:\n",
        "                    room_id = room['uid']\n",
        "                    if not self.chat_state[room_id]['initiated']:\n",
        "                        # send a welcome message and get the alias of the agent in the chatroom\n",
        "                        # self.post_message(room_id=room_id, session_token=self.session_token, message='Hi, you can send me any message and check if it is echoed in {} seconds.'.format(listen_freq))\n",
        "                        self.post_message(room_id=room_id, session_token=self.session_token, message=\"Welcome! I'm chatbot MTon! You can ask me questions. Glad to communicate with you!\")\n",
        "                        self.chat_state[room_id]['initiated'] = True\n",
        "                        self.chat_state[room_id]['my_alias'] = room['alias']\n",
        "\n",
        "                    # check for all messages\n",
        "                    all_messages = self.check_room_state(room_id=room_id, since=0, session_token=self.session_token)['messages']\n",
        "\n",
        "                    # you can also use [\"reactions\"] to get the reactions of the messages: STAR, THUMBS_UP, THUMBS_DOWN\n",
        "\n",
        "                    for message in all_messages:\n",
        "                        if message['authorAlias'] != self.chat_state[room_id]['my_alias']:\n",
        "\n",
        "                            # check if the message is new\n",
        "                            if message['ordinal'] not in self.chat_state[room_id]['messages']:\n",
        "                                self.chat_state[room_id]['messages'][message['ordinal']] = message\n",
        "                                print('\\t- Chatroom {} - new message #{}: \\'{}\\' - {}'.format(room_id, message['ordinal'], message['message'], self.get_time()))\n",
        "\n",
        "                                ##### You should call your agent here and get the response message #####\n",
        "\n",
        "                                answer = 'Got your message: \\'{}\\' at {}.'.format(message['message'], self.get_time())\n",
        "                                answer = 'image:1050/rm3423772416.jpg'\n",
        "                                self.post_message(room_id=room_id, session_token=self.session_token, message=answer, )\n",
        "            time.sleep(listen_freq)\n",
        "\n",
        "    def login(self, username: str, password: str):\n",
        "        agent_details = requests.post(url=url + \"/api/login\", json={\"username\": username, \"password\": password}).json()\n",
        "        print(agent_details.keys())\n",
        "        print('- User {} successfully logged in with session \\'{}\\'!'.format(agent_details['userDetails']['username'], agent_details['sessionToken']))\n",
        "        return agent_details\n",
        "\n",
        "    def check_rooms(self, session_token: str):\n",
        "        return requests.get(url=url + \"/api/rooms\", params={\"session\": session_token}).json()\n",
        "\n",
        "    def check_room_state(self, room_id: str, since: int, session_token: str):\n",
        "        return requests.get(url=url + \"/api/room/{}/{}\".format(room_id, since), params={\"roomId\": room_id, \"since\": since, \"session\": session_token}).json()\n",
        "\n",
        "    def post_message(self, room_id: str, session_token: str, message: str):\n",
        "\n",
        "        ##### Try multimedia #####\n",
        "\n",
        "\n",
        "        tmp_des = requests.post(url=url + \"/api/room/{}\".format(room_id),\n",
        "                                params={\"roomId\": room_id, \"session\": session_token}, data=message).json()\n",
        "        if tmp_des['description'] != 'Message received':\n",
        "            print('\\t\\t Error: failed to post message: {}'.format(message))\n",
        "\n",
        "    def get_time(self):\n",
        "        return time.strftime(\"%H:%M:%S, %d-%m-%Y\", time.localtime())\n",
        "\n",
        "    def logout(self):\n",
        "        if requests.get(url=url + \"/api/logout\", params={\"session\": self.session_token}).json()['description'] == 'Logged out':\n",
        "            print('- Session \\'{}\\' successfully logged out!'.format(self.session_token))\n",
        "\n",
        "\n",
        "if __name__ == '__main__':\n",
        "    username = 'yijie.tong_bot'\n",
        "    # password = getpass.getpass('Password of the demo bot:')\n",
        "    password = '3AiyYO7SLQ77MA'\n",
        "    demobot = DemoBot(username, password)\n",
        "    demobot.listen()\n",
        "\n",
        "\n",
        "\n",
        "\n"
      ]
    }
  ],
  "metadata": {
    "colab": {
      "provenance": []
    },
    "kernelspec": {
      "display_name": "Python 3.9.15 ('Classifier')",
      "language": "python",
      "name": "python3"
    },
    "language_info": {
      "codemirror_mode": {
        "name": "ipython",
        "version": 3
      },
      "file_extension": ".py",
      "mimetype": "text/x-python",
      "name": "python",
      "nbconvert_exporter": "python",
      "pygments_lexer": "ipython3",
      "version": "3.9.15"
    },
    "orig_nbformat": 4,
    "vscode": {
      "interpreter": {
        "hash": "1d5ef6a9993a551c539aca5214fca9cb4a5b4a6263da4c15a05317b840935140"
      }
    }
  },
  "nbformat": 4,
  "nbformat_minor": 0
}
