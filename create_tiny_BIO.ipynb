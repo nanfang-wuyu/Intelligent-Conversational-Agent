{
 "cells": [
  {
   "cell_type": "markdown",
   "metadata": {},
   "source": [
    "# Create Tine BIO"
   ]
  },
  {
   "cell_type": "markdown",
   "metadata": {},
   "source": [
    "## Import library and load data"
   ]
  },
  {
   "cell_type": "code",
   "execution_count": null,
   "metadata": {},
   "outputs": [],
   "source": [
    "import pywikibot"
   ]
  },
  {
   "cell_type": "code",
   "execution_count": null,
   "metadata": {},
   "outputs": [],
   "source": [
    "site = pywikibot.Site(\"wikidata\", \"wikidata\")\n",
    "repo = site.data_repository()\n"
   ]
  },
  {
   "cell_type": "code",
   "execution_count": null,
   "metadata": {},
   "outputs": [],
   "source": [
    "import pandas as pd\n",
    "\n",
    "df = pd.read_csv('Datasets/14_graph.tsv', sep='\\t', header=None)"
   ]
  },
  {
   "cell_type": "markdown",
   "metadata": {},
   "source": [
    "## Functions for each column"
   ]
  },
  {
   "cell_type": "code",
   "execution_count": null,
   "metadata": {},
   "outputs": [],
   "source": [
    "special_conditions = {'<http://schema.org/description>': 'description',\n",
    "       '<http://www.w3.org/2000/01/rdf-schema#label>': 'label',\n",
    "       '<http://ddis.ch/atai/tag>': 'tag', '<http://ddis.ch/atai/rating>': 'rating'}"
   ]
  },
  {
   "cell_type": "markdown",
   "metadata": {},
   "source": [
    "## Condition search for df column 2"
   ]
  },
  {
   "cell_type": "code",
   "execution_count": 74,
   "metadata": {},
   "outputs": [
    {
     "data": {
      "text/html": [
       "<div>\n",
       "<style scoped>\n",
       "    .dataframe tbody tr th:only-of-type {\n",
       "        vertical-align: middle;\n",
       "    }\n",
       "\n",
       "    .dataframe tbody tr th {\n",
       "        vertical-align: top;\n",
       "    }\n",
       "\n",
       "    .dataframe thead th {\n",
       "        text-align: right;\n",
       "    }\n",
       "</style>\n",
       "<table border=\"1\" class=\"dataframe\">\n",
       "  <thead>\n",
       "    <tr style=\"text-align: right;\">\n",
       "      <th></th>\n",
       "      <th>0</th>\n",
       "      <th>1</th>\n",
       "      <th>2</th>\n",
       "    </tr>\n",
       "  </thead>\n",
       "  <tbody>\n",
       "    <tr>\n",
       "      <th>1</th>\n",
       "      <td>&lt;http://www.wikidata.org/entity/Q2358294&gt;</td>\n",
       "      <td>&lt;http://schema.org/description&gt;</td>\n",
       "      <td>Canadian actor</td>\n",
       "    </tr>\n",
       "    <tr>\n",
       "      <th>3</th>\n",
       "      <td>&lt;http://www.wikidata.org/entity/Q897357&gt;</td>\n",
       "      <td>&lt;http://www.wikidata.org/prop/direct/P345&gt;</td>\n",
       "      <td>tt0385751</td>\n",
       "    </tr>\n",
       "    <tr>\n",
       "      <th>7</th>\n",
       "      <td>&lt;http://www.wikidata.org/entity/Q278053&gt;</td>\n",
       "      <td>&lt;http://www.w3.org/2000/01/rdf-schema#label&gt;</td>\n",
       "      <td>Labyrinth</td>\n",
       "    </tr>\n",
       "    <tr>\n",
       "      <th>10</th>\n",
       "      <td>&lt;http://www.wikidata.org/entity/Q386389&gt;</td>\n",
       "      <td>&lt;http://schema.org/description&gt;</td>\n",
       "      <td>American actor</td>\n",
       "    </tr>\n",
       "    <tr>\n",
       "      <th>12</th>\n",
       "      <td>&lt;http://www.wikidata.org/entity/Q450646&gt;</td>\n",
       "      <td>&lt;http://www.wikidata.org/prop/direct/P18&gt;</td>\n",
       "      <td>https://commons.wikimedia.org/wiki/File:Edie_a...</td>\n",
       "    </tr>\n",
       "  </tbody>\n",
       "</table>\n",
       "</div>"
      ],
      "text/plain": [
       "                                            0  \\\n",
       "1   <http://www.wikidata.org/entity/Q2358294>   \n",
       "3    <http://www.wikidata.org/entity/Q897357>   \n",
       "7    <http://www.wikidata.org/entity/Q278053>   \n",
       "10   <http://www.wikidata.org/entity/Q386389>   \n",
       "12   <http://www.wikidata.org/entity/Q450646>   \n",
       "\n",
       "                                               1  \\\n",
       "1                <http://schema.org/description>   \n",
       "3     <http://www.wikidata.org/prop/direct/P345>   \n",
       "7   <http://www.w3.org/2000/01/rdf-schema#label>   \n",
       "10               <http://schema.org/description>   \n",
       "12     <http://www.wikidata.org/prop/direct/P18>   \n",
       "\n",
       "                                                    2  \n",
       "1                                      Canadian actor  \n",
       "3                                           tt0385751  \n",
       "7                                           Labyrinth  \n",
       "10                                     American actor  \n",
       "12  https://commons.wikimedia.org/wiki/File:Edie_a...  "
      ]
     },
     "execution_count": 74,
     "metadata": {},
     "output_type": "execute_result"
    }
   ],
   "source": [
    "df3 = df.loc[~(df.iloc[:, 2].str.contains('/Q') | df.iloc[:, 2].str.contains('/P'))]\n",
    "df3.head()"
   ]
  },
  {
   "cell_type": "code",
   "execution_count": 75,
   "metadata": {},
   "outputs": [
    {
     "data": {
      "text/html": [
       "<div>\n",
       "<style scoped>\n",
       "    .dataframe tbody tr th:only-of-type {\n",
       "        vertical-align: middle;\n",
       "    }\n",
       "\n",
       "    .dataframe tbody tr th {\n",
       "        vertical-align: top;\n",
       "    }\n",
       "\n",
       "    .dataframe thead th {\n",
       "        text-align: right;\n",
       "    }\n",
       "</style>\n",
       "<table border=\"1\" class=\"dataframe\">\n",
       "  <thead>\n",
       "    <tr style=\"text-align: right;\">\n",
       "      <th></th>\n",
       "      <th>0</th>\n",
       "      <th>1</th>\n",
       "      <th>2</th>\n",
       "    </tr>\n",
       "  </thead>\n",
       "  <tbody>\n",
       "    <tr>\n",
       "      <th>12</th>\n",
       "      <td>&lt;http://www.wikidata.org/entity/Q450646&gt;</td>\n",
       "      <td>&lt;http://www.wikidata.org/prop/direct/P18&gt;</td>\n",
       "      <td>https://commons.wikimedia.org/wiki/File:Edie_a...</td>\n",
       "    </tr>\n",
       "    <tr>\n",
       "      <th>31</th>\n",
       "      <td>&lt;http://www.wikidata.org/entity/Q669010&gt;</td>\n",
       "      <td>&lt;http://www.wikidata.org/prop/direct/P18&gt;</td>\n",
       "      <td>https://commons.wikimedia.org/wiki/File:I_Feel...</td>\n",
       "    </tr>\n",
       "    <tr>\n",
       "      <th>44</th>\n",
       "      <td>&lt;http://www.wikidata.org/entity/Q2199572&gt;</td>\n",
       "      <td>&lt;http://www.wikidata.org/prop/direct/P18&gt;</td>\n",
       "      <td>https://commons.wikimedia.org/wiki/File:Jelka_...</td>\n",
       "    </tr>\n",
       "    <tr>\n",
       "      <th>155</th>\n",
       "      <td>&lt;http://www.wikidata.org/entity/Q484365&gt;</td>\n",
       "      <td>&lt;http://www.wikidata.org/prop/direct/P18&gt;</td>\n",
       "      <td>https://commons.wikimedia.org/wiki/File:David_...</td>\n",
       "    </tr>\n",
       "    <tr>\n",
       "      <th>170</th>\n",
       "      <td>&lt;http://www.wikidata.org/entity/Q5957972&gt;</td>\n",
       "      <td>&lt;http://www.wikidata.org/prop/direct/P18&gt;</td>\n",
       "      <td>https://commons.wikimedia.org/wiki/File:Hayede...</td>\n",
       "    </tr>\n",
       "  </tbody>\n",
       "</table>\n",
       "</div>"
      ],
      "text/plain": [
       "                                             0  \\\n",
       "12    <http://www.wikidata.org/entity/Q450646>   \n",
       "31    <http://www.wikidata.org/entity/Q669010>   \n",
       "44   <http://www.wikidata.org/entity/Q2199572>   \n",
       "155   <http://www.wikidata.org/entity/Q484365>   \n",
       "170  <http://www.wikidata.org/entity/Q5957972>   \n",
       "\n",
       "                                             1  \\\n",
       "12   <http://www.wikidata.org/prop/direct/P18>   \n",
       "31   <http://www.wikidata.org/prop/direct/P18>   \n",
       "44   <http://www.wikidata.org/prop/direct/P18>   \n",
       "155  <http://www.wikidata.org/prop/direct/P18>   \n",
       "170  <http://www.wikidata.org/prop/direct/P18>   \n",
       "\n",
       "                                                     2  \n",
       "12   https://commons.wikimedia.org/wiki/File:Edie_a...  \n",
       "31   https://commons.wikimedia.org/wiki/File:I_Feel...  \n",
       "44   https://commons.wikimedia.org/wiki/File:Jelka_...  \n",
       "155  https://commons.wikimedia.org/wiki/File:David_...  \n",
       "170  https://commons.wikimedia.org/wiki/File:Hayede...  "
      ]
     },
     "execution_count": 75,
     "metadata": {},
     "output_type": "execute_result"
    }
   ],
   "source": [
    "df4 = df3.loc[df3.iloc[:, 2].str.contains('http')]\n",
    "df4.head()"
   ]
  },
  {
   "cell_type": "code",
   "execution_count": 76,
   "metadata": {},
   "outputs": [
    {
     "data": {
      "text/html": [
       "<div>\n",
       "<style scoped>\n",
       "    .dataframe tbody tr th:only-of-type {\n",
       "        vertical-align: middle;\n",
       "    }\n",
       "\n",
       "    .dataframe tbody tr th {\n",
       "        vertical-align: top;\n",
       "    }\n",
       "\n",
       "    .dataframe thead th {\n",
       "        text-align: right;\n",
       "    }\n",
       "</style>\n",
       "<table border=\"1\" class=\"dataframe\">\n",
       "  <thead>\n",
       "    <tr style=\"text-align: right;\">\n",
       "      <th></th>\n",
       "      <th>0</th>\n",
       "      <th>1</th>\n",
       "      <th>2</th>\n",
       "    </tr>\n",
       "  </thead>\n",
       "  <tbody>\n",
       "    <tr>\n",
       "      <th>455576</th>\n",
       "      <td>&lt;http://www.wikidata.org/entity/Q21998813&gt;</td>\n",
       "      <td>&lt;http://www.wikidata.org/prop/direct/P345&gt;</td>\n",
       "      <td>https://theglobalstardom.com/catherine-missal/</td>\n",
       "    </tr>\n",
       "    <tr>\n",
       "      <th>1968938</th>\n",
       "      <td>&lt;http://www.wikidata.org/entity/Q30939938&gt;</td>\n",
       "      <td>&lt;http://schema.org/description&gt;</td>\n",
       "      <td>license that is listed on the Open Definition ...</td>\n",
       "    </tr>\n",
       "  </tbody>\n",
       "</table>\n",
       "</div>"
      ],
      "text/plain": [
       "                                                  0  \\\n",
       "455576   <http://www.wikidata.org/entity/Q21998813>   \n",
       "1968938  <http://www.wikidata.org/entity/Q30939938>   \n",
       "\n",
       "                                                  1  \\\n",
       "455576   <http://www.wikidata.org/prop/direct/P345>   \n",
       "1968938             <http://schema.org/description>   \n",
       "\n",
       "                                                         2  \n",
       "455576      https://theglobalstardom.com/catherine-missal/  \n",
       "1968938  license that is listed on the Open Definition ...  "
      ]
     },
     "execution_count": 76,
     "metadata": {},
     "output_type": "execute_result"
    }
   ],
   "source": [
    "df4.loc[~df4.iloc[:, 2].str.contains('https://commons.wikimedia.org/wiki/File')]"
   ]
  },
  {
   "cell_type": "markdown",
   "metadata": {},
   "source": [
    "Column 2 condition summary:\n",
    "1. /Q, /P\n",
    "2. string, description\n",
    "3. http file link\n",
    "4. Special condition:\n",
    "   1. https://theglobalstardom.com/catherine-missal/ \n",
    "   2. description containing one link: \"license that is ...\""
   ]
  },
  {
   "cell_type": "markdown",
   "metadata": {},
   "source": [
    "## Condition search for df column 0, 1, and clean"
   ]
  },
  {
   "cell_type": "code",
   "execution_count": 31,
   "metadata": {},
   "outputs": [
    {
     "data": {
      "text/plain": [
       "1.0"
      ]
     },
     "execution_count": 31,
     "metadata": {},
     "output_type": "execute_result"
    }
   ],
   "source": [
    "len(df.loc[df.iloc[:, 0].str.contains('entity/Q') | df.iloc[:, 0].str.contains('P')])/len(df.iloc[:, 0])"
   ]
  },
  {
   "cell_type": "code",
   "execution_count": 78,
   "metadata": {},
   "outputs": [],
   "source": [
    "df1 = df.loc[~(df.iloc[:, 0].str.contains('entity/Q') | df.iloc[:, 0].str.contains('P'))]"
   ]
  },
  {
   "cell_type": "code",
   "execution_count": 416,
   "metadata": {},
   "outputs": [
    {
     "data": {
      "text/plain": [
       "Int64Index([277841, 516258, 518667, 975864], dtype='int64')"
      ]
     },
     "execution_count": 416,
     "metadata": {},
     "output_type": "execute_result"
    }
   ],
   "source": [
    "df1.index"
   ]
  },
  {
   "cell_type": "code",
   "execution_count": 79,
   "metadata": {},
   "outputs": [
    {
     "data": {
      "text/html": [
       "<div>\n",
       "<style scoped>\n",
       "    .dataframe tbody tr th:only-of-type {\n",
       "        vertical-align: middle;\n",
       "    }\n",
       "\n",
       "    .dataframe tbody tr th {\n",
       "        vertical-align: top;\n",
       "    }\n",
       "\n",
       "    .dataframe thead th {\n",
       "        text-align: right;\n",
       "    }\n",
       "</style>\n",
       "<table border=\"1\" class=\"dataframe\">\n",
       "  <thead>\n",
       "    <tr style=\"text-align: right;\">\n",
       "      <th></th>\n",
       "      <th>0</th>\n",
       "      <th>1</th>\n",
       "      <th>2</th>\n",
       "    </tr>\n",
       "  </thead>\n",
       "  <tbody>\n",
       "    <tr>\n",
       "      <th>277841</th>\n",
       "      <td>&lt;http://schema.org/description&gt;</td>\n",
       "      <td>&lt;http://schema.org/description&gt;</td>\n",
       "      <td>textual entity description</td>\n",
       "    </tr>\n",
       "    <tr>\n",
       "      <th>516258</th>\n",
       "      <td>&lt;http://www.w3.org/2000/01/rdf-schema#label&gt;</td>\n",
       "      <td>&lt;http://www.w3.org/2000/01/rdf-schema#label&gt;</td>\n",
       "      <td>node label</td>\n",
       "    </tr>\n",
       "    <tr>\n",
       "      <th>518667</th>\n",
       "      <td>&lt;http://schema.org/description&gt;</td>\n",
       "      <td>&lt;http://www.w3.org/2000/01/rdf-schema#label&gt;</td>\n",
       "      <td>node description</td>\n",
       "    </tr>\n",
       "    <tr>\n",
       "      <th>975864</th>\n",
       "      <td>&lt;http://www.w3.org/2000/01/rdf-schema#label&gt;</td>\n",
       "      <td>&lt;http://schema.org/description&gt;</td>\n",
       "      <td>short label describing an entity</td>\n",
       "    </tr>\n",
       "  </tbody>\n",
       "</table>\n",
       "</div>"
      ],
      "text/plain": [
       "                                                   0  \\\n",
       "277841               <http://schema.org/description>   \n",
       "516258  <http://www.w3.org/2000/01/rdf-schema#label>   \n",
       "518667               <http://schema.org/description>   \n",
       "975864  <http://www.w3.org/2000/01/rdf-schema#label>   \n",
       "\n",
       "                                                   1  \\\n",
       "277841               <http://schema.org/description>   \n",
       "516258  <http://www.w3.org/2000/01/rdf-schema#label>   \n",
       "518667  <http://www.w3.org/2000/01/rdf-schema#label>   \n",
       "975864               <http://schema.org/description>   \n",
       "\n",
       "                                       2  \n",
       "277841        textual entity description  \n",
       "516258                        node label  \n",
       "518667                  node description  \n",
       "975864  short label describing an entity  "
      ]
     },
     "execution_count": 79,
     "metadata": {},
     "output_type": "execute_result"
    }
   ],
   "source": [
    "df.iloc[list(df1.index)]"
   ]
  },
  {
   "cell_type": "code",
   "execution_count": 80,
   "metadata": {},
   "outputs": [],
   "source": [
    "df.drop(list(df1.index), axis=0, inplace=True)"
   ]
  },
  {
   "cell_type": "code",
   "execution_count": 81,
   "metadata": {},
   "outputs": [],
   "source": [
    "df.drop(df[df.iloc[:, 0].str.contains('P')].index, inplace=True)"
   ]
  },
  {
   "cell_type": "markdown",
   "metadata": {},
   "source": [
    "## Transfer"
   ]
  },
  {
   "cell_type": "code",
   "execution_count": 118,
   "metadata": {},
   "outputs": [],
   "source": [
    "from rdflib.namespace import Namespace, RDF, RDFS, XSD\n",
    "from rdflib.term import URIRef, Literal\n",
    "import csv\n",
    "import json\n",
    "import networkx as nx\n",
    "import rdflib\n",
    "import pywikibot\n",
    "\n",
    "graph = rdflib.Graph()\n",
    "graph.parse('Datasets/14_graph.nt', format='turtle')\n",
    "\n",
    "\n"
   ]
  },
  {
   "cell_type": "code",
   "execution_count": 132,
   "metadata": {},
   "outputs": [],
   "source": [
    "\n",
    "wdt = Namespace('http://www.wikidata.org/prop/direct/')\n",
    "wd = Namespace('http://www.wikidata.org/entity/')\n",
    "lbl = Namespace('http://www.w3.org/2000/01/rdf-schema#')\n",
    "\n",
    "special_conditions = {'<http://schema.org/description>': 'description',\n",
    "       '<http://www.w3.org/2000/01/rdf-schema#label>': 'label',\n",
    "       '<http://ddis.ch/atai/tag>': 'tag', '<http://ddis.ch/atai/rating>': 'rating'}\n"
   ]
  },
  {
   "cell_type": "code",
   "execution_count": 339,
   "metadata": {},
   "outputs": [],
   "source": [
    "def transfer(graph, item):\n",
    "    if not item:\n",
    "        return item\n",
    "    if ('/Q' and '<' in item) or ('/P' and '<' in item):\n",
    "        tr = (URIRef(item.removeprefix('<').removesuffix('>')), lbl['label'], None)\n",
    "        ts = [t for t in graph.triples(tr)]\n",
    "        if len(ts) < 1:\n",
    "            # print (Q2name_func(repo, item))\n",
    "            return None\n",
    "        return str(ts[0][2])\n",
    "    # elif '/P' in item:\n",
    "    #     return P2label_func(repo, item)\n",
    "    elif item in special_conditions.keys():\n",
    "        return special_conditions[item]\n",
    "    else:\n",
    "        return item"
   ]
  },
  {
   "cell_type": "code",
   "execution_count": 405,
   "metadata": {},
   "outputs": [
    {
     "name": "stderr",
     "output_type": "stream",
     "text": [
      "Def: population >= 200, < 200 m between buildings, etc does not look like a valid URI, trying to serialize this will break.\n",
      "each instance is a subclass in the hierarchy under <astronomical object>(Q6999); such a subclass's instances in turn are particular identified objects in Our Universe does not look like a valid URI, trying to serialize this will break.\n"
     ]
    }
   ],
   "source": [
    "df = df.applymap(lambda x: transfer(graph, x))"
   ]
  },
  {
   "cell_type": "code",
   "execution_count": 406,
   "metadata": {},
   "outputs": [],
   "source": [
    "df.reset_index(drop=True)\n",
    "df.to_csv('Datasets/Big_graph_clean.tsv', sep='\\t', header=None, index=False)"
   ]
  },
  {
   "cell_type": "code",
   "execution_count": 407,
   "metadata": {},
   "outputs": [
    {
     "data": {
      "text/plain": [
       "'Congratulation!'"
      ]
     },
     "execution_count": 407,
     "metadata": {},
     "output_type": "execute_result"
    }
   ],
   "source": [
    "\"Congratulation!\""
   ]
  },
  {
   "cell_type": "code",
   "execution_count": 408,
   "metadata": {},
   "outputs": [
    {
     "data": {
      "text/html": [
       "<div>\n",
       "<style scoped>\n",
       "    .dataframe tbody tr th:only-of-type {\n",
       "        vertical-align: middle;\n",
       "    }\n",
       "\n",
       "    .dataframe tbody tr th {\n",
       "        vertical-align: top;\n",
       "    }\n",
       "\n",
       "    .dataframe thead th {\n",
       "        text-align: right;\n",
       "    }\n",
       "</style>\n",
       "<table border=\"1\" class=\"dataframe\">\n",
       "  <thead>\n",
       "    <tr style=\"text-align: right;\">\n",
       "      <th></th>\n",
       "      <th>0</th>\n",
       "      <th>1</th>\n",
       "      <th>2</th>\n",
       "    </tr>\n",
       "  </thead>\n",
       "  <tbody>\n",
       "    <tr>\n",
       "      <th>2056772</th>\n",
       "      <td>The Martian</td>\n",
       "      <td>cast member</td>\n",
       "      <td>Mackenzie Davis</td>\n",
       "    </tr>\n",
       "    <tr>\n",
       "      <th>2056773</th>\n",
       "      <td>Philip Barantini</td>\n",
       "      <td>occupation</td>\n",
       "      <td>actor</td>\n",
       "    </tr>\n",
       "    <tr>\n",
       "      <th>2056774</th>\n",
       "      <td>Grégoire Aslan</td>\n",
       "      <td>occupation</td>\n",
       "      <td>actor</td>\n",
       "    </tr>\n",
       "    <tr>\n",
       "      <th>2056775</th>\n",
       "      <td>Top Five</td>\n",
       "      <td>cast member</td>\n",
       "      <td>Liam Ferguson</td>\n",
       "    </tr>\n",
       "    <tr>\n",
       "      <th>2056776</th>\n",
       "      <td>Eileen Pollock</td>\n",
       "      <td>native language</td>\n",
       "      <td>English</td>\n",
       "    </tr>\n",
       "  </tbody>\n",
       "</table>\n",
       "</div>"
      ],
      "text/plain": [
       "                        0                1                2\n",
       "2056772       The Martian      cast member  Mackenzie Davis\n",
       "2056773  Philip Barantini       occupation            actor\n",
       "2056774    Grégoire Aslan       occupation            actor\n",
       "2056775          Top Five      cast member    Liam Ferguson\n",
       "2056776    Eileen Pollock  native language          English"
      ]
     },
     "execution_count": 408,
     "metadata": {},
     "output_type": "execute_result"
    }
   ],
   "source": [
    "# df[1121960-470:1121970-470]\n",
    "df[-5:]"
   ]
  },
  {
   "cell_type": "markdown",
   "metadata": {},
   "source": [
    "## Create Name_Qwiki_Qid Map"
   ]
  },
  {
   "cell_type": "code",
   "execution_count": 420,
   "metadata": {},
   "outputs": [],
   "source": [
    "df_web = df.copy()\n",
    "df_str = pd.read_csv('Datasets/Big_graph_clean.tsv', sep='\\t', header=None)"
   ]
  },
  {
   "cell_type": "code",
   "execution_count": 421,
   "metadata": {},
   "outputs": [
    {
     "data": {
      "text/plain": [
       "(2055965, 2055965)"
      ]
     },
     "execution_count": 421,
     "metadata": {},
     "output_type": "execute_result"
    }
   ],
   "source": [
    "len(df_web), len(df_str)"
   ]
  },
  {
   "cell_type": "code",
   "execution_count": 423,
   "metadata": {},
   "outputs": [],
   "source": [
    "df_web = df_web.reset_index(drop=True)"
   ]
  },
  {
   "cell_type": "markdown",
   "metadata": {},
   "source": []
  },
  {
   "cell_type": "code",
   "execution_count": 425,
   "metadata": {},
   "outputs": [],
   "source": [
    "df_new = pd.DataFrame(data={'Str': df_str[0], 'Wiki': df_web[0]})"
   ]
  },
  {
   "cell_type": "code",
   "execution_count": 427,
   "metadata": {},
   "outputs": [
    {
     "data": {
      "text/plain": [
       "(2055965, 150153)"
      ]
     },
     "execution_count": 427,
     "metadata": {},
     "output_type": "execute_result"
    }
   ],
   "source": [
    "df_clean = df_new.drop_duplicates('Str')\n",
    "len(df_new), len(df_clean)"
   ]
  },
  {
   "cell_type": "code",
   "execution_count": 453,
   "metadata": {},
   "outputs": [],
   "source": [
    "df_drop_na = df_clean.dropna()"
   ]
  },
  {
   "cell_type": "code",
   "execution_count": 433,
   "metadata": {},
   "outputs": [
    {
     "data": {
      "text/plain": [
       "150152"
      ]
     },
     "execution_count": 433,
     "metadata": {},
     "output_type": "execute_result"
    }
   ],
   "source": [
    "len(df_drop_na)"
   ]
  },
  {
   "cell_type": "code",
   "execution_count": 454,
   "metadata": {},
   "outputs": [],
   "source": [
    "df_drop_na = df_drop_na.reset_index(drop=True)"
   ]
  },
  {
   "cell_type": "code",
   "execution_count": 456,
   "metadata": {},
   "outputs": [],
   "source": [
    "qid = df_drop_na['Wiki'].apply(lambda x: x.removeprefix('<http://www.wikidata.org/entity/').removesuffix('>'))"
   ]
  },
  {
   "cell_type": "code",
   "execution_count": 457,
   "metadata": {},
   "outputs": [],
   "source": [
    "df_drop_na['Qid'] = qid"
   ]
  },
  {
   "cell_type": "code",
   "execution_count": 459,
   "metadata": {},
   "outputs": [],
   "source": [
    "df_drop_na.to_csv('name_Qwiki_Qid.tsv', sep='\\t', index=False)"
   ]
  },
  {
   "cell_type": "code",
   "execution_count": 463,
   "metadata": {},
   "outputs": [
    {
     "data": {
      "text/plain": [
       "'Q20720659'"
      ]
     },
     "execution_count": 463,
     "metadata": {},
     "output_type": "execute_result"
    }
   ],
   "source": [
    "name = 'Kothanodi'\n",
    "Name2Qid = dict(zip(df_drop_na['Str'], df_drop_na['Qid']))\n",
    "Name2Qid[name]"
   ]
  },
  {
   "cell_type": "code",
   "execution_count": 474,
   "metadata": {},
   "outputs": [
    {
     "data": {
      "text/plain": [
       "(b'Star Wars: Episode VI \\xe2\\x80\\x93 Return of the Jedi',\n",
       " b'Star Wars: Episode VI - Return of the Jedi')"
      ]
     },
     "execution_count": 474,
     "metadata": {},
     "output_type": "execute_result"
    }
   ],
   "source": [
    "s = \"Star Wars: Episode VI – Return of the Jedi\"\n",
    "s1 = \"Star Wars: Episode VI - Return of the Jedi\"\n",
    "s.encode('utf-8'), s1.encode('utf-8')\n",
    "# s1.decode('utf-8') in Name2Qid.keys()"
   ]
  },
  {
   "cell_type": "markdown",
   "metadata": {},
   "source": [
    "### replace('–', '-')"
   ]
  },
  {
   "cell_type": "code",
   "execution_count": 484,
   "metadata": {},
   "outputs": [
    {
     "name": "stdout",
     "output_type": "stream",
     "text": [
      "[380, 0, 0]\n"
     ]
    }
   ],
   "source": [
    "print([len(df_drop_na.loc[df_drop_na.iloc[:, i].str.contains('–')]) for i in range(3)])"
   ]
  },
  {
   "cell_type": "code",
   "execution_count": 487,
   "metadata": {},
   "outputs": [],
   "source": [
    "df_drop_na = df_drop_na.applymap(lambda x: x.replace('–', '-'))"
   ]
  },
  {
   "cell_type": "code",
   "execution_count": 488,
   "metadata": {},
   "outputs": [
    {
     "name": "stdout",
     "output_type": "stream",
     "text": [
      "[0, 0, 0]\n"
     ]
    }
   ],
   "source": [
    "print([len(df_drop_na.loc[df_drop_na.iloc[:, i].str.contains('–')]) for i in range(3)])"
   ]
  },
  {
   "cell_type": "code",
   "execution_count": 489,
   "metadata": {},
   "outputs": [],
   "source": [
    "df_drop_na.to_csv('name_Qwiki_Qid.tsv', sep='\\t', index=False)"
   ]
  },
  {
   "cell_type": "code",
   "execution_count": 492,
   "metadata": {},
   "outputs": [
    {
     "data": {
      "text/plain": [
       "0    False\n",
       "1    False\n",
       "2    False\n",
       "dtype: bool"
      ]
     },
     "execution_count": 492,
     "metadata": {},
     "output_type": "execute_result"
    }
   ],
   "source": [
    "df_str = df_str.dropna()\n",
    "df_str.isna().any()"
   ]
  },
  {
   "cell_type": "code",
   "execution_count": 493,
   "metadata": {},
   "outputs": [
    {
     "data": {
      "text/plain": [
       "2010463"
      ]
     },
     "execution_count": 493,
     "metadata": {},
     "output_type": "execute_result"
    }
   ],
   "source": [
    "df_str.reset_index()\n",
    "len(df_str)"
   ]
  },
  {
   "cell_type": "code",
   "execution_count": 494,
   "metadata": {},
   "outputs": [
    {
     "name": "stdout",
     "output_type": "stream",
     "text": [
      "[6559, 0, 4079]\n"
     ]
    }
   ],
   "source": [
    "print([len(df_str.loc[df_str.iloc[:, i].str.contains('–')]) for i in range(3)])"
   ]
  },
  {
   "cell_type": "code",
   "execution_count": 495,
   "metadata": {},
   "outputs": [],
   "source": [
    "df_str = df_str.applymap(lambda x: x.replace('–', '-'))"
   ]
  },
  {
   "cell_type": "code",
   "execution_count": 1,
   "metadata": {},
   "outputs": [
    {
     "ename": "NameError",
     "evalue": "name 'df_str' is not defined",
     "output_type": "error",
     "traceback": [
      "\u001b[0;31m---------------------------------------------------------------------------\u001b[0m",
      "\u001b[0;31mNameError\u001b[0m                                 Traceback (most recent call last)",
      "Cell \u001b[0;32mIn [1], line 1\u001b[0m\n\u001b[0;32m----> 1\u001b[0m \u001b[39mprint\u001b[39m([\u001b[39mlen\u001b[39m(df_str\u001b[39m.\u001b[39mloc[df_str\u001b[39m.\u001b[39miloc[:, i]\u001b[39m.\u001b[39mstr\u001b[39m.\u001b[39mcontains(\u001b[39m'\u001b[39m\u001b[39m–\u001b[39m\u001b[39m'\u001b[39m)]) \u001b[39mfor\u001b[39;00m i \u001b[39min\u001b[39;00m \u001b[39mrange\u001b[39m(\u001b[39m3\u001b[39m)])\n",
      "Cell \u001b[0;32mIn [1], line 1\u001b[0m, in \u001b[0;36m<listcomp>\u001b[0;34m(.0)\u001b[0m\n\u001b[0;32m----> 1\u001b[0m \u001b[39mprint\u001b[39m([\u001b[39mlen\u001b[39m(df_str\u001b[39m.\u001b[39mloc[df_str\u001b[39m.\u001b[39miloc[:, i]\u001b[39m.\u001b[39mstr\u001b[39m.\u001b[39mcontains(\u001b[39m'\u001b[39m\u001b[39m–\u001b[39m\u001b[39m'\u001b[39m)]) \u001b[39mfor\u001b[39;00m i \u001b[39min\u001b[39;00m \u001b[39mrange\u001b[39m(\u001b[39m3\u001b[39m)])\n",
      "\u001b[0;31mNameError\u001b[0m: name 'df_str' is not defined"
     ]
    }
   ],
   "source": [
    "print([len(df_str.loc[df_str.iloc[:, i].str.contains('–')]) for i in range(3)])"
   ]
  },
  {
   "cell_type": "code",
   "execution_count": 497,
   "metadata": {},
   "outputs": [],
   "source": [
    "df_str.to_csv('Datasets/Big_graph_very_clean.tsv', sep='\\t', header=None, index=False)\n"
   ]
  },
  {
   "cell_type": "markdown",
   "metadata": {},
   "source": []
  },
  {
   "cell_type": "markdown",
   "metadata": {},
   "source": [
    "## Create NER Dataset"
   ]
  },
  {
   "cell_type": "code",
   "execution_count": 3,
   "metadata": {},
   "outputs": [],
   "source": [
    "df_drop_na = pd.read_csv('name_Qwiki_Qid.tsv', sep='\\t')"
   ]
  },
  {
   "cell_type": "code",
   "execution_count": 4,
   "metadata": {},
   "outputs": [],
   "source": [
    "names = list(df_drop_na['Str'])"
   ]
  },
  {
   "cell_type": "code",
   "execution_count": 5,
   "metadata": {},
   "outputs": [],
   "source": [
    "df_relation = pd.read_csv('Datasets/Big_graph_very_clean.tsv', sep='\\t', header=None)"
   ]
  },
  {
   "cell_type": "code",
   "execution_count": 6,
   "metadata": {},
   "outputs": [],
   "source": [
    "import pickle\n",
    "with open('P2label.pickle', 'rb') as handle:\n",
    "    P2label = pickle.load(handle)\n",
    "labels = list(P2label.values())"
   ]
  },
  {
   "cell_type": "code",
   "execution_count": 7,
   "metadata": {},
   "outputs": [
    {
     "name": "stdout",
     "output_type": "stream",
     "text": [
      "150152 251 2010463\n"
     ]
    }
   ],
   "source": [
    "Qs = names\n",
    "Ps = labels\n",
    "relations = df_relation\n",
    "print(len(Qs), len(Ps), len(relations))"
   ]
  },
  {
   "cell_type": "code",
   "execution_count": null,
   "metadata": {},
   "outputs": [],
   "source": [
    "### some fun examples\n",
    "# St Trinian's\tcast member ? (multiple answers)\n",
    "# instance of 隶属于"
   ]
  },
  {
   "cell_type": "markdown",
   "metadata": {},
   "source": [
    "### Give P Categroies"
   ]
  },
  {
   "cell_type": "code",
   "execution_count": null,
   "metadata": {},
   "outputs": [],
   "source": [
    "group_1 = []\n",
    "group_others = []\n",
    "for i, P in enumerate(Ps):\n",
    "    print(\"Type 1, id {} : {} of Q1 is Q2, or Q2 is {} of Q1\".format(i, P, P))\n",
    "    label = input()\n",
    "    if label == 1:\n",
    "        group_1.append(P)\n",
    "    else:\n",
    "        group_others.append(P)"
   ]
  },
  {
   "cell_type": "markdown",
   "metadata": {},
   "source": [
    "11 distributed by\n",
    "21 named after\n",
    "31 different from\n",
    "<!-- 33 based on -->\n",
    "48 educated at\n",
    "62 fictional universe described in\n",
    "112 owner of\n",
    "131 opposite of\n",
    "141 conferred by\n",
    "181 permanent resident of\n",
    "203 facet of\n",
    "246 archives at\n",
    "\n",
    "99 group2 \n",
    "151 \n",
    "166 \n",
    "209 \n"
   ]
  },
  {
   "cell_type": "code",
   "execution_count": 24,
   "metadata": {},
   "outputs": [],
   "source": [
    "wr1 = [\"distributed by\", \"named after\", \"based on\", \"different from\", \"educated at\", \"fictional universe described in\", \\\n",
    "    \"conferred by\", ]\n",
    "wr2 = [\"EIRIN film rating\", \"business model\", \"form of creative work\", \"broadcast by\"]\n",
    "\n",
    "# for wr in wr1:\n",
    "#     if wr in group_1:\n",
    "#         group_1.remove(wr)\n",
    "#     if wr not in group_others:\n",
    "#         group_others.append(wr)\n",
    "\n",
    "# for wr in wr2:\n",
    "#     if wr in group_others:\n",
    "#         group_others.remove(wr)\n",
    "#     if wr not in group_1:\n",
    "#         group_1.append(wr)"
   ]
  },
  {
   "cell_type": "code",
   "execution_count": 16,
   "metadata": {},
   "outputs": [],
   "source": [
    "sub_relations = relations[:5000]"
   ]
  },
  {
   "cell_type": "code",
   "execution_count": 32,
   "metadata": {},
   "outputs": [],
   "source": [
    "group1 = Ps\n",
    "group2 = [\"owner of\", \"opposite of\",  \"permanent resident of\", \"facet of\", \"archives at\"]\n",
    "group3 = [\"distributed by\", \"named after\", \"based on\", \"different from\", \"educated at\", \"fictional universe described in\", \\\n",
    "    \"conferred by\", ]\n",
    "\n",
    "for s in group2:\n",
    "    group1.remove(s)\n",
    "for s in group3:\n",
    "    group1.remove(s)\n"
   ]
  },
  {
   "cell_type": "code",
   "execution_count": 33,
   "metadata": {},
   "outputs": [
    {
     "data": {
      "text/plain": [
       "251"
      ]
     },
     "execution_count": 33,
     "metadata": {},
     "output_type": "execute_result"
    }
   ],
   "source": [
    "len(group1) + len(group2) + len(group3)"
   ]
  },
  {
   "cell_type": "code",
   "execution_count": 34,
   "metadata": {},
   "outputs": [],
   "source": [
    "import numpy as np"
   ]
  },
  {
   "cell_type": "code",
   "execution_count": 56,
   "metadata": {},
   "outputs": [],
   "source": [
    "def choose_template(Q1, P, type, Q2=None):\n",
    "\n",
    "    Templates_group1 = [\n",
    "        \"What is the {} of {}?\".format(P, Q1),\n",
    "        \"What is {}'s {}?\".format(Q1, P),\n",
    "        \"Tell me the {} of {}.\".format(P, Q1),\n",
    "        \"Do you know the {} of {}?\".format(P, Q1),\n",
    "        \"Can you tell me the {} of {}?\".format(P, Q1)\n",
    "        ]\n",
    "\n",
    "    Templates_group2 = [\n",
    "        \"What is the {} {}?\".format(P, Q1),\n",
    "        \"Tell me what is {} {}.\".format(P, Q1),\n",
    "        \"Do you know the {} {}?\".format(P, Q1),\n",
    "        \"Can you tell me what is {} {}?\".format(P, Q1),\n",
    "        \n",
    "    ]\n",
    "\n",
    "    Templates_group3 = [\n",
    "        \"What is {} {}?\".format(Q1, P),\n",
    "        \"Tell me what is {} {}.\".format(Q1, P),\n",
    "        \"Can you tell me what is {} {}?\".format(Q1, P)\n",
    "    ]\n",
    "\n",
    "    if type == 1:\n",
    "        return Templates_group1[np.random.randint(len(Templates_group1))]\n",
    "    elif type == 2:\n",
    "        return Templates_group2[np.random.randint(len(Templates_group2))]\n",
    "    else:\n",
    "        return Templates_group3[np.random.randint(len(Templates_group3))]"
   ]
  },
  {
   "cell_type": "code",
   "execution_count": 69,
   "metadata": {},
   "outputs": [],
   "source": [
    "X = list()\n",
    "y = list()\n",
    "for i, row in relations.iterrows():\n",
    "    Q1, P, Q2 = row[0], row[1], row[2]\n",
    "    if P in group3:\n",
    "        type = 3\n",
    "    elif P in group2:\n",
    "        type = 2\n",
    "    else:\n",
    "        type = 1\n",
    "    s = choose_template(Q1, P, type)\n",
    "    # print(s)\n",
    "    X.append(s)\n",
    "    y.append(Q1)\n"
   ]
  },
  {
   "cell_type": "code",
   "execution_count": 70,
   "metadata": {},
   "outputs": [],
   "source": [
    "dataset = pd.DataFrame(data = {'X': X, 'y': y})\n",
    "# small_dataset = pd.DataFrame(data = {'X': X, 'y': y})\n",
    "dataset.to_csv('Datasets/Relations_X_y.tsv', sep='\\t', index=False)\n",
    "# small_dataset.to_csv('Datasets/Relations_small_X_y.tsv', sep='\\t', index=False)"
   ]
  },
  {
   "cell_type": "markdown",
   "metadata": {},
   "source": [
    "## Create Question Answer Dataset"
   ]
  },
  {
   "cell_type": "markdown",
   "metadata": {},
   "source": [
    "### Multimedia Dataset"
   ]
  },
  {
   "cell_type": "code",
   "execution_count": null,
   "metadata": {},
   "outputs": [],
   "source": []
  },
  {
   "cell_type": "code",
   "execution_count": 82,
   "metadata": {},
   "outputs": [
    {
     "data": {
      "text/html": [
       "<div>\n",
       "<style scoped>\n",
       "    .dataframe tbody tr th:only-of-type {\n",
       "        vertical-align: middle;\n",
       "    }\n",
       "\n",
       "    .dataframe tbody tr th {\n",
       "        vertical-align: top;\n",
       "    }\n",
       "\n",
       "    .dataframe thead th {\n",
       "        text-align: right;\n",
       "    }\n",
       "</style>\n",
       "<table border=\"1\" class=\"dataframe\">\n",
       "  <thead>\n",
       "    <tr style=\"text-align: right;\">\n",
       "      <th></th>\n",
       "      <th>0</th>\n",
       "      <th>1</th>\n",
       "      <th>2</th>\n",
       "    </tr>\n",
       "  </thead>\n",
       "  <tbody>\n",
       "    <tr>\n",
       "      <th>1</th>\n",
       "      <td>&lt;http://www.wikidata.org/entity/Q2358294&gt;</td>\n",
       "      <td>&lt;http://schema.org/description&gt;</td>\n",
       "      <td>Canadian actor</td>\n",
       "    </tr>\n",
       "    <tr>\n",
       "      <th>3</th>\n",
       "      <td>&lt;http://www.wikidata.org/entity/Q897357&gt;</td>\n",
       "      <td>&lt;http://www.wikidata.org/prop/direct/P345&gt;</td>\n",
       "      <td>tt0385751</td>\n",
       "    </tr>\n",
       "    <tr>\n",
       "      <th>7</th>\n",
       "      <td>&lt;http://www.wikidata.org/entity/Q278053&gt;</td>\n",
       "      <td>&lt;http://www.w3.org/2000/01/rdf-schema#label&gt;</td>\n",
       "      <td>Labyrinth</td>\n",
       "    </tr>\n",
       "    <tr>\n",
       "      <th>10</th>\n",
       "      <td>&lt;http://www.wikidata.org/entity/Q386389&gt;</td>\n",
       "      <td>&lt;http://schema.org/description&gt;</td>\n",
       "      <td>American actor</td>\n",
       "    </tr>\n",
       "    <tr>\n",
       "      <th>12</th>\n",
       "      <td>&lt;http://www.wikidata.org/entity/Q450646&gt;</td>\n",
       "      <td>&lt;http://www.wikidata.org/prop/direct/P18&gt;</td>\n",
       "      <td>https://commons.wikimedia.org/wiki/File:Edie_a...</td>\n",
       "    </tr>\n",
       "  </tbody>\n",
       "</table>\n",
       "</div>"
      ],
      "text/plain": [
       "                                            0  \\\n",
       "1   <http://www.wikidata.org/entity/Q2358294>   \n",
       "3    <http://www.wikidata.org/entity/Q897357>   \n",
       "7    <http://www.wikidata.org/entity/Q278053>   \n",
       "10   <http://www.wikidata.org/entity/Q386389>   \n",
       "12   <http://www.wikidata.org/entity/Q450646>   \n",
       "\n",
       "                                               1  \\\n",
       "1                <http://schema.org/description>   \n",
       "3     <http://www.wikidata.org/prop/direct/P345>   \n",
       "7   <http://www.w3.org/2000/01/rdf-schema#label>   \n",
       "10               <http://schema.org/description>   \n",
       "12     <http://www.wikidata.org/prop/direct/P18>   \n",
       "\n",
       "                                                    2  \n",
       "1                                      Canadian actor  \n",
       "3                                           tt0385751  \n",
       "7                                           Labyrinth  \n",
       "10                                     American actor  \n",
       "12  https://commons.wikimedia.org/wiki/File:Edie_a...  "
      ]
     },
     "execution_count": 82,
     "metadata": {},
     "output_type": "execute_result"
    }
   ],
   "source": [
    "df3 = df.loc[~(df.iloc[:, 2].str.contains('/Q') | df.iloc[:, 2].str.contains('/P'))]\n",
    "df3.head()"
   ]
  },
  {
   "cell_type": "code",
   "execution_count": 88,
   "metadata": {},
   "outputs": [
    {
     "data": {
      "text/html": [
       "<div>\n",
       "<style scoped>\n",
       "    .dataframe tbody tr th:only-of-type {\n",
       "        vertical-align: middle;\n",
       "    }\n",
       "\n",
       "    .dataframe tbody tr th {\n",
       "        vertical-align: top;\n",
       "    }\n",
       "\n",
       "    .dataframe thead th {\n",
       "        text-align: right;\n",
       "    }\n",
       "</style>\n",
       "<table border=\"1\" class=\"dataframe\">\n",
       "  <thead>\n",
       "    <tr style=\"text-align: right;\">\n",
       "      <th></th>\n",
       "      <th>0</th>\n",
       "      <th>1</th>\n",
       "      <th>2</th>\n",
       "    </tr>\n",
       "  </thead>\n",
       "  <tbody>\n",
       "    <tr>\n",
       "      <th>12</th>\n",
       "      <td>&lt;http://www.wikidata.org/entity/Q450646&gt;</td>\n",
       "      <td>&lt;http://www.wikidata.org/prop/direct/P18&gt;</td>\n",
       "      <td>https://commons.wikimedia.org/wiki/File:Edie_a...</td>\n",
       "    </tr>\n",
       "    <tr>\n",
       "      <th>31</th>\n",
       "      <td>&lt;http://www.wikidata.org/entity/Q669010&gt;</td>\n",
       "      <td>&lt;http://www.wikidata.org/prop/direct/P18&gt;</td>\n",
       "      <td>https://commons.wikimedia.org/wiki/File:I_Feel...</td>\n",
       "    </tr>\n",
       "    <tr>\n",
       "      <th>44</th>\n",
       "      <td>&lt;http://www.wikidata.org/entity/Q2199572&gt;</td>\n",
       "      <td>&lt;http://www.wikidata.org/prop/direct/P18&gt;</td>\n",
       "      <td>https://commons.wikimedia.org/wiki/File:Jelka_...</td>\n",
       "    </tr>\n",
       "    <tr>\n",
       "      <th>155</th>\n",
       "      <td>&lt;http://www.wikidata.org/entity/Q484365&gt;</td>\n",
       "      <td>&lt;http://www.wikidata.org/prop/direct/P18&gt;</td>\n",
       "      <td>https://commons.wikimedia.org/wiki/File:David_...</td>\n",
       "    </tr>\n",
       "    <tr>\n",
       "      <th>170</th>\n",
       "      <td>&lt;http://www.wikidata.org/entity/Q5957972&gt;</td>\n",
       "      <td>&lt;http://www.wikidata.org/prop/direct/P18&gt;</td>\n",
       "      <td>https://commons.wikimedia.org/wiki/File:Hayede...</td>\n",
       "    </tr>\n",
       "  </tbody>\n",
       "</table>\n",
       "</div>"
      ],
      "text/plain": [
       "                                             0  \\\n",
       "12    <http://www.wikidata.org/entity/Q450646>   \n",
       "31    <http://www.wikidata.org/entity/Q669010>   \n",
       "44   <http://www.wikidata.org/entity/Q2199572>   \n",
       "155   <http://www.wikidata.org/entity/Q484365>   \n",
       "170  <http://www.wikidata.org/entity/Q5957972>   \n",
       "\n",
       "                                             1  \\\n",
       "12   <http://www.wikidata.org/prop/direct/P18>   \n",
       "31   <http://www.wikidata.org/prop/direct/P18>   \n",
       "44   <http://www.wikidata.org/prop/direct/P18>   \n",
       "155  <http://www.wikidata.org/prop/direct/P18>   \n",
       "170  <http://www.wikidata.org/prop/direct/P18>   \n",
       "\n",
       "                                                     2  \n",
       "12   https://commons.wikimedia.org/wiki/File:Edie_a...  \n",
       "31   https://commons.wikimedia.org/wiki/File:I_Feel...  \n",
       "44   https://commons.wikimedia.org/wiki/File:Jelka_...  \n",
       "155  https://commons.wikimedia.org/wiki/File:David_...  \n",
       "170  https://commons.wikimedia.org/wiki/File:Hayede...  "
      ]
     },
     "execution_count": 88,
     "metadata": {},
     "output_type": "execute_result"
    }
   ],
   "source": [
    "df4 = df3.loc[df3.iloc[:, 2].str.contains('http')]\n",
    "df4.head()"
   ]
  },
  {
   "cell_type": "code",
   "execution_count": 84,
   "metadata": {},
   "outputs": [
    {
     "data": {
      "text/html": [
       "<div>\n",
       "<style scoped>\n",
       "    .dataframe tbody tr th:only-of-type {\n",
       "        vertical-align: middle;\n",
       "    }\n",
       "\n",
       "    .dataframe tbody tr th {\n",
       "        vertical-align: top;\n",
       "    }\n",
       "\n",
       "    .dataframe thead th {\n",
       "        text-align: right;\n",
       "    }\n",
       "</style>\n",
       "<table border=\"1\" class=\"dataframe\">\n",
       "  <thead>\n",
       "    <tr style=\"text-align: right;\">\n",
       "      <th></th>\n",
       "      <th>0</th>\n",
       "      <th>1</th>\n",
       "      <th>2</th>\n",
       "    </tr>\n",
       "  </thead>\n",
       "  <tbody>\n",
       "    <tr>\n",
       "      <th>455576</th>\n",
       "      <td>&lt;http://www.wikidata.org/entity/Q21998813&gt;</td>\n",
       "      <td>&lt;http://www.wikidata.org/prop/direct/P345&gt;</td>\n",
       "      <td>https://theglobalstardom.com/catherine-missal/</td>\n",
       "    </tr>\n",
       "    <tr>\n",
       "      <th>1968938</th>\n",
       "      <td>&lt;http://www.wikidata.org/entity/Q30939938&gt;</td>\n",
       "      <td>&lt;http://schema.org/description&gt;</td>\n",
       "      <td>license that is listed on the Open Definition ...</td>\n",
       "    </tr>\n",
       "  </tbody>\n",
       "</table>\n",
       "</div>"
      ],
      "text/plain": [
       "                                                  0  \\\n",
       "455576   <http://www.wikidata.org/entity/Q21998813>   \n",
       "1968938  <http://www.wikidata.org/entity/Q30939938>   \n",
       "\n",
       "                                                  1  \\\n",
       "455576   <http://www.wikidata.org/prop/direct/P345>   \n",
       "1968938             <http://schema.org/description>   \n",
       "\n",
       "                                                         2  \n",
       "455576      https://theglobalstardom.com/catherine-missal/  \n",
       "1968938  license that is listed on the Open Definition ...  "
      ]
     },
     "execution_count": 84,
     "metadata": {},
     "output_type": "execute_result"
    }
   ],
   "source": [
    "df4.loc[~df4.iloc[:, 2].str.contains('https://commons.wikimedia.org/wiki/File')]"
   ]
  },
  {
   "cell_type": "markdown",
   "metadata": {},
   "source": [
    "Column 2 condition summary:\n",
    "1. /Q, /P\n",
    "2. string, description\n",
    "3. http file link\n",
    "4. Special condition:\n",
    "   1. https://theglobalstardom.com/catherine-missal/ \n",
    "   2. description containing one link: \"license that is ...\""
   ]
  },
  {
   "cell_type": "code",
   "execution_count": 87,
   "metadata": {},
   "outputs": [
    {
     "data": {
      "text/html": [
       "<div>\n",
       "<style scoped>\n",
       "    .dataframe tbody tr th:only-of-type {\n",
       "        vertical-align: middle;\n",
       "    }\n",
       "\n",
       "    .dataframe tbody tr th {\n",
       "        vertical-align: top;\n",
       "    }\n",
       "\n",
       "    .dataframe thead th {\n",
       "        text-align: right;\n",
       "    }\n",
       "</style>\n",
       "<table border=\"1\" class=\"dataframe\">\n",
       "  <thead>\n",
       "    <tr style=\"text-align: right;\">\n",
       "      <th></th>\n",
       "      <th>0</th>\n",
       "      <th>1</th>\n",
       "      <th>2</th>\n",
       "    </tr>\n",
       "  </thead>\n",
       "  <tbody>\n",
       "    <tr>\n",
       "      <th>3</th>\n",
       "      <td>&lt;http://www.wikidata.org/entity/Q897357&gt;</td>\n",
       "      <td>&lt;http://www.wikidata.org/prop/direct/P345&gt;</td>\n",
       "      <td>tt0385751</td>\n",
       "    </tr>\n",
       "    <tr>\n",
       "      <th>16</th>\n",
       "      <td>&lt;http://www.wikidata.org/entity/Q6986093&gt;</td>\n",
       "      <td>&lt;http://www.wikidata.org/prop/direct/P345&gt;</td>\n",
       "      <td>nm0773307</td>\n",
       "    </tr>\n",
       "    <tr>\n",
       "      <th>48</th>\n",
       "      <td>&lt;http://www.wikidata.org/entity/Q6171826&gt;</td>\n",
       "      <td>&lt;http://www.wikidata.org/prop/direct/P345&gt;</td>\n",
       "      <td>ch0036421</td>\n",
       "    </tr>\n",
       "    <tr>\n",
       "      <th>54</th>\n",
       "      <td>&lt;http://www.wikidata.org/entity/Q3554526&gt;</td>\n",
       "      <td>&lt;http://www.wikidata.org/prop/direct/P345&gt;</td>\n",
       "      <td>nm2278771</td>\n",
       "    </tr>\n",
       "    <tr>\n",
       "      <th>63</th>\n",
       "      <td>&lt;http://www.wikidata.org/entity/Q28127548&gt;</td>\n",
       "      <td>&lt;http://www.wikidata.org/prop/direct/P345&gt;</td>\n",
       "      <td>tt6108090</td>\n",
       "    </tr>\n",
       "    <tr>\n",
       "      <th>...</th>\n",
       "      <td>...</td>\n",
       "      <td>...</td>\n",
       "      <td>...</td>\n",
       "    </tr>\n",
       "    <tr>\n",
       "      <th>2056670</th>\n",
       "      <td>&lt;http://www.wikidata.org/entity/Q3183120&gt;</td>\n",
       "      <td>&lt;http://www.wikidata.org/prop/direct/P345&gt;</td>\n",
       "      <td>nm0850939</td>\n",
       "    </tr>\n",
       "    <tr>\n",
       "      <th>2056690</th>\n",
       "      <td>&lt;http://www.wikidata.org/entity/Q4315443&gt;</td>\n",
       "      <td>&lt;http://www.wikidata.org/prop/direct/P345&gt;</td>\n",
       "      <td>tt0107090</td>\n",
       "    </tr>\n",
       "    <tr>\n",
       "      <th>2056692</th>\n",
       "      <td>&lt;http://www.wikidata.org/entity/Q3523521&gt;</td>\n",
       "      <td>&lt;http://www.wikidata.org/prop/direct/P345&gt;</td>\n",
       "      <td>nm1028218</td>\n",
       "    </tr>\n",
       "    <tr>\n",
       "      <th>2056711</th>\n",
       "      <td>&lt;http://www.wikidata.org/entity/Q11748706&gt;</td>\n",
       "      <td>&lt;http://www.wikidata.org/prop/direct/P345&gt;</td>\n",
       "      <td>nm0439417</td>\n",
       "    </tr>\n",
       "    <tr>\n",
       "      <th>2056726</th>\n",
       "      <td>&lt;http://www.wikidata.org/entity/Q51120369&gt;</td>\n",
       "      <td>&lt;http://www.wikidata.org/prop/direct/P345&gt;</td>\n",
       "      <td>nm3521629</td>\n",
       "    </tr>\n",
       "  </tbody>\n",
       "</table>\n",
       "<p>124038 rows × 3 columns</p>\n",
       "</div>"
      ],
      "text/plain": [
       "                                                  0  \\\n",
       "3          <http://www.wikidata.org/entity/Q897357>   \n",
       "16        <http://www.wikidata.org/entity/Q6986093>   \n",
       "48        <http://www.wikidata.org/entity/Q6171826>   \n",
       "54        <http://www.wikidata.org/entity/Q3554526>   \n",
       "63       <http://www.wikidata.org/entity/Q28127548>   \n",
       "...                                             ...   \n",
       "2056670   <http://www.wikidata.org/entity/Q3183120>   \n",
       "2056690   <http://www.wikidata.org/entity/Q4315443>   \n",
       "2056692   <http://www.wikidata.org/entity/Q3523521>   \n",
       "2056711  <http://www.wikidata.org/entity/Q11748706>   \n",
       "2056726  <http://www.wikidata.org/entity/Q51120369>   \n",
       "\n",
       "                                                  1          2  \n",
       "3        <http://www.wikidata.org/prop/direct/P345>  tt0385751  \n",
       "16       <http://www.wikidata.org/prop/direct/P345>  nm0773307  \n",
       "48       <http://www.wikidata.org/prop/direct/P345>  ch0036421  \n",
       "54       <http://www.wikidata.org/prop/direct/P345>  nm2278771  \n",
       "63       <http://www.wikidata.org/prop/direct/P345>  tt6108090  \n",
       "...                                             ...        ...  \n",
       "2056670  <http://www.wikidata.org/prop/direct/P345>  nm0850939  \n",
       "2056690  <http://www.wikidata.org/prop/direct/P345>  tt0107090  \n",
       "2056692  <http://www.wikidata.org/prop/direct/P345>  nm1028218  \n",
       "2056711  <http://www.wikidata.org/prop/direct/P345>  nm0439417  \n",
       "2056726  <http://www.wikidata.org/prop/direct/P345>  nm3521629  \n",
       "\n",
       "[124038 rows x 3 columns]"
      ]
     },
     "execution_count": 87,
     "metadata": {},
     "output_type": "execute_result"
    }
   ],
   "source": [
    "df3.loc[df3.iloc[:, 1].str.contains('P345')]"
   ]
  },
  {
   "cell_type": "code",
   "execution_count": null,
   "metadata": {},
   "outputs": [],
   "source": [
    "### TODO\n",
    "### find all the P refering to http file\n",
    "### Answer: only image, others are id and description which are special"
   ]
  },
  {
   "cell_type": "code",
   "execution_count": 92,
   "metadata": {},
   "outputs": [
    {
     "data": {
      "text/plain": [
       "array(['<http://www.wikidata.org/prop/direct/P18>',\n",
       "       '<http://www.wikidata.org/prop/direct/P345>',\n",
       "       '<http://schema.org/description>'], dtype=object)"
      ]
     },
     "execution_count": 92,
     "metadata": {},
     "output_type": "execute_result"
    }
   ],
   "source": [
    "df4.iloc[:, 1].unique()"
   ]
  },
  {
   "cell_type": "code",
   "execution_count": null,
   "metadata": {},
   "outputs": [],
   "source": [
    "### TODO\n",
    "### "
   ]
  },
  {
   "cell_type": "code",
   "execution_count": 99,
   "metadata": {},
   "outputs": [
    {
     "data": {
      "text/plain": [
       "array(['boring', 'psychological', 'historical', 'violence',\n",
       "       'autobiographical', 'romantic', 'action', 'neo_noir', 'comedy',\n",
       "       'psychedelic', 'fantasy', 'satire', 'sentimental', 'murder',\n",
       "       'inspiring', 'horror', 'entertaining', 'anti_war', 'home_movie',\n",
       "       'mystery', 'melodrama', 'humor', 'revenge', 'feel-good', 'sadist',\n",
       "       'thriller', 'drama', 'brainwashing', 'flashback',\n",
       "       'thought-provoking', 'prank', 'historical_fiction',\n",
       "       'good_versus_evil', 'cruelty', 'plot_twist', 'dramatic', 'bleak',\n",
       "       'suspenseful', 'atmospheric', 'cult', 'insanity', 'sci-fi',\n",
       "       'gothic', 'tragedy', 'paranormal', 'dark', 'philosophical',\n",
       "       'claustrophobic', 'crime', 'stupid', 'alternate_reality', 'cute',\n",
       "       'romance', 'adventure', 'storytelling', 'war', 'realism', 'queer',\n",
       "       'absurd', 'whimsical', 'alternate_history', 'haunting', 'western',\n",
       "       'intrigue', 'grindhouse_film', 'comic', 'clever', 'avant_garde',\n",
       "       'documentary', 'film-noir', 'depressing', 'family', 'sport',\n",
       "       'musical', 'magical_realism', 'adult_comedy', 'allegory',\n",
       "       'biography', 'christian_film', 'blaxploitation', 'pornographic',\n",
       "       'suicidal', 'music', 'animation', 'short', 'history', 'news'],\n",
       "      dtype=object)"
      ]
     },
     "execution_count": 99,
     "metadata": {},
     "output_type": "execute_result"
    }
   ],
   "source": [
    "df.loc[df.iloc[:, 1].str.contains('tag')].iloc[:, 2].unique()"
   ]
  },
  {
   "cell_type": "markdown",
   "metadata": {},
   "source": [
    "### Crowding source dataset handling"
   ]
  },
  {
   "cell_type": "code",
   "execution_count": 103,
   "metadata": {},
   "outputs": [
    {
     "data": {
      "text/html": [
       "<div>\n",
       "<style scoped>\n",
       "    .dataframe tbody tr th:only-of-type {\n",
       "        vertical-align: middle;\n",
       "    }\n",
       "\n",
       "    .dataframe tbody tr th {\n",
       "        vertical-align: top;\n",
       "    }\n",
       "\n",
       "    .dataframe thead th {\n",
       "        text-align: right;\n",
       "    }\n",
       "</style>\n",
       "<table border=\"1\" class=\"dataframe\">\n",
       "  <thead>\n",
       "    <tr style=\"text-align: right;\">\n",
       "      <th></th>\n",
       "      <th>0</th>\n",
       "      <th>1</th>\n",
       "      <th>2</th>\n",
       "    </tr>\n",
       "  </thead>\n",
       "  <tbody>\n",
       "    <tr>\n",
       "      <th>655637</th>\n",
       "      <td>X-Men: First Class</td>\n",
       "      <td>executive producer</td>\n",
       "      <td>Sheryl Lee Ralph</td>\n",
       "    </tr>\n",
       "  </tbody>\n",
       "</table>\n",
       "</div>"
      ],
      "text/plain": [
       "                         0                   1                 2\n",
       "655637  X-Men: First Class  executive producer  Sheryl Lee Ralph"
      ]
     },
     "execution_count": 103,
     "metadata": {},
     "output_type": "execute_result"
    }
   ],
   "source": [
    "df_relation.loc[(df_relation.iloc[:, 0].str.contains('X-Men: First Class')) & (df_relation.iloc[:, 1].str.contains('executive producer'))]"
   ]
  },
  {
   "cell_type": "markdown",
   "metadata": {},
   "source": [
    "## External resources data"
   ]
  },
  {
   "cell_type": "markdown",
   "metadata": {},
   "source": [
    "### 'plots.csv'"
   ]
  },
  {
   "cell_type": "markdown",
   "metadata": {},
   "source": [
    "Type: factual questions\n",
    "Synopsis, plot (情节)"
   ]
  },
  {
   "cell_type": "code",
   "execution_count": null,
   "metadata": {},
   "outputs": [],
   "source": []
  },
  {
   "cell_type": "markdown",
   "metadata": {},
   "source": [
    "### 'user-comments'"
   ]
  },
  {
   "cell_type": "markdown",
   "metadata": {},
   "source": [
    "qid,rating,sentiment,comment"
   ]
  },
  {
   "cell_type": "markdown",
   "metadata": {},
   "source": [
    "### 'imdb-top'"
   ]
  },
  {
   "cell_type": "markdown",
   "metadata": {},
   "source": [
    "Type: recommend question"
   ]
  },
  {
   "cell_type": "markdown",
   "metadata": {},
   "source": [
    "## Create Multimedia Dictionary"
   ]
  },
  {
   "cell_type": "code",
   "execution_count": 2,
   "metadata": {},
   "outputs": [],
   "source": [
    "import json\n",
    "\n",
    "with open('Datasets/ImageData/images.json', 'rb')  as handle:\n",
    "    images = json.load(handle)\n",
    "\n",
    "print(images)\n"
   ]
  },
  {
   "cell_type": "code",
   "execution_count": 3,
   "metadata": {},
   "outputs": [],
   "source": [
    "import pandas as pd\n",
    "\n",
    "# df = pd.read_csv('Datasets/14_graph.tsv', sep='\\t', header=None)\n",
    "df = pd.read_csv('Datasets/Big_graph_very_clean.tsv', sep='\\t', header=None)"
   ]
  },
  {
   "cell_type": "markdown",
   "metadata": {},
   "source": [
    "### Find all IMDb ID"
   ]
  },
  {
   "cell_type": "code",
   "execution_count": 2,
   "metadata": {},
   "outputs": [
    {
     "data": {
      "text/plain": [
       "(2055965, 2055965)"
      ]
     },
     "execution_count": 2,
     "metadata": {},
     "output_type": "execute_result"
    }
   ],
   "source": [
    "### nm, cast member\n",
    "### tt, movie\n",
    "\n",
    "# len(df.loc[df.iloc[:, 0].str.contains('Q')]), len(df.loc[df.iloc[:, 0].str.contains('http://www.wikidata.org/entity/Q')])"
   ]
  },
  {
   "cell_type": "code",
   "execution_count": 22,
   "metadata": {},
   "outputs": [
    {
     "data": {
      "text/plain": [
       "array(['film', 'television film', 'animated feature film',\n",
       "       'film distributor', 'film character', 'animated film',\n",
       "       'film production company', 'superhero film character',\n",
       "       'film organization', '3D film', 'film genre', 'film award',\n",
       "       'film trilogy', 'horror film character',\n",
       "       'Teenage Mutant Ninja Turtles film', 'film festival',\n",
       "       'stop-motion animated film', 'film series', 'animated short film',\n",
       "       'feature film', 'dubbing of film', 'short film', 'anthology film',\n",
       "       'film award category', 'anime film', 'film studio',\n",
       "       'adventure film character', 'traditionally animated film',\n",
       "       'clay animation film', 'film poster', 'cult film',\n",
       "       'award for best film by genre', 'RTC film classification category',\n",
       "       'BAMID film rating category', 'live-action/animated film',\n",
       "       'animated film series', 'film soundtrack',\n",
       "       'award for best short film', 'film preservation', 'film project',\n",
       "       'film format', 'film gauge', 'film festival edition',\n",
       "       'Star Trek film', 'film school', 'film score',\n",
       "       'CNC film classification category', 'interactive film',\n",
       "       'concert film', 'film song', 'film score composer', 'silent film',\n",
       "       'film distribution', 'film analysis', 'filmography', 'film remake',\n",
       "       'film database', 'EIRIN film rating category', 'fan film',\n",
       "       'film commission', 'pornographic film award', 'film archive',\n",
       "       'Hong Kong film rating category', 'award for best film',\n",
       "       'film duology', 'specific paper copy of film script',\n",
       "       'donghua feature film', 'historical film', 'film adaptation',\n",
       "       'computer-animated film',\n",
       "       \"character from films based on J. R. R. Tolkien's legendarium\",\n",
       "       'cinema film format', 'fashion in film',\n",
       "       'unfinished or abandoned film project',\n",
       "       'award for best short film by genre', 'filming location',\n",
       "       'anime film series', 'LGBT film award', 'romance film',\n",
       "       'film society', 'independent film', 'filmmaking occupation',\n",
       "       'fiction film', 'stage of film production', 'compilation film',\n",
       "       'thriller film', 'fictional film', '4D film', 'musical film',\n",
       "       'award for best film editing', 'film criticism', 'film director',\n",
       "       'action film', 'epic film', 'sequel film', 'film producer',\n",
       "       'film museum', 'film critics association', 'low-budget film',\n",
       "       'film bundle', 'film industry'], dtype=object)"
      ]
     },
     "execution_count": 22,
     "metadata": {},
     "output_type": "execute_result"
    }
   ],
   "source": [
    "m = df.loc[df.iloc[:, 1].str.contains('instance of')]\n",
    "m.loc[m.iloc[:, 2].str.contains('film')].iloc[:, 2].unique()\n",
    "# m.iloc[:, 2].str.isdigit()"
   ]
  },
  {
   "cell_type": "markdown",
   "metadata": {},
   "source": [
    "### Crowdsourcing Data Pre-processing"
   ]
  },
  {
   "cell_type": "code",
   "execution_count": 185,
   "metadata": {},
   "outputs": [],
   "source": [
    "import pandas as pd\n",
    "import numpy as np"
   ]
  },
  {
   "cell_type": "code",
   "execution_count": 186,
   "metadata": {},
   "outputs": [],
   "source": [
    "cro_df = pd.read_csv('Datasets/CrowdData/crowd_data.tsv', sep='\\t')"
   ]
  },
  {
   "cell_type": "code",
   "execution_count": 187,
   "metadata": {},
   "outputs": [
    {
     "data": {
      "text/plain": [
       "Index(['HITId', 'HITTypeId', 'Title', 'Reward', 'AssignmentId', 'WorkerId',\n",
       "       'AssignmentStatus', 'WorkTimeInSeconds', 'LifetimeApprovalRate',\n",
       "       'Input1ID', 'Input2ID', 'Input3ID', 'AnswerID', 'AnswerLabel',\n",
       "       'FixPosition', 'FixValue'],\n",
       "      dtype='object')"
      ]
     },
     "execution_count": 187,
     "metadata": {},
     "output_type": "execute_result"
    }
   ],
   "source": [
    "cro_df.columns"
   ]
  },
  {
   "cell_type": "markdown",
   "metadata": {},
   "source": [
    "#### Find malicious workers, remove them, rules:"
   ]
  },
  {
   "cell_type": "markdown",
   "metadata": {},
   "source": [
    "1. Work time in seconds <= 10? Check\n",
    "2. Low life time  <= 40?\n",
    "3. Fixposition value 'yes', 'I don’t understand' WWHL098SA43 repeat answer\n"
   ]
  },
  {
   "cell_type": "code",
   "execution_count": 188,
   "metadata": {},
   "outputs": [
    {
     "data": {
      "text/plain": [
       "(array([  2,   4,  10,  32,  39,  40,  42,  43,  44,  45,  46,  50,  60,\n",
       "         67,  80,  90, 120, 140, 188, 189, 191, 198, 199, 200, 202, 203,\n",
       "        229, 235, 236, 237, 238, 240, 241, 298, 300, 337]),\n",
       " array([59, 21, 20,  1,  2, 10,  2,  2,  1,  1,  2,  5,  8,  1,  8,  3, 53,\n",
       "         3,  1,  1,  1,  1,  1, 32,  1,  1,  1,  1,  2,  2,  1, 51,  1,  1,\n",
       "         3,  1]))"
      ]
     },
     "execution_count": 188,
     "metadata": {},
     "output_type": "execute_result"
    }
   ],
   "source": [
    "uni, cnt = np.unique(cro_df['WorkTimeInSeconds'], return_counts=True)\n",
    "uni, cnt"
   ]
  },
  {
   "cell_type": "code",
   "execution_count": 189,
   "metadata": {},
   "outputs": [
    {
     "data": {
      "text/plain": [
       "(array([ 32,  39,  40,  42,  43,  44,  45,  46,  50,  60,  67,  80,  90,\n",
       "        120, 140, 188, 189, 191, 198, 199, 200, 202, 203, 229, 235, 236,\n",
       "        237, 238, 240, 241, 298, 300, 337]),\n",
       " array([ 1,  2, 10,  2,  2,  1,  1,  2,  5,  8,  1,  8,  3, 53,  3,  1,  1,\n",
       "         1,  1,  1, 32,  1,  1,  1,  1,  2,  2,  1, 51,  1,  1,  3,  1]))"
      ]
     },
     "execution_count": 189,
     "metadata": {},
     "output_type": "execute_result"
    }
   ],
   "source": [
    "cro_df = cro_df.loc[cro_df['WorkTimeInSeconds'] > 10]\n",
    "uni, cnt = np.unique(cro_df['WorkTimeInSeconds'], return_counts=True)\n",
    "uni, cnt"
   ]
  },
  {
   "cell_type": "code",
   "execution_count": 190,
   "metadata": {},
   "outputs": [
    {
     "data": {
      "text/plain": [
       "(array(['40%', '70%', '80%', '85%', '98%', '99%'], dtype=object),\n",
       " array([22, 21, 40, 40, 61, 21]))"
      ]
     },
     "execution_count": 190,
     "metadata": {},
     "output_type": "execute_result"
    }
   ],
   "source": [
    "uni, cnt = np.unique(cro_df['LifetimeApprovalRate'], return_counts=True)\n",
    "uni, cnt"
   ]
  },
  {
   "cell_type": "code",
   "execution_count": 191,
   "metadata": {},
   "outputs": [
    {
     "data": {
      "text/plain": [
       "(array(['70%', '80%', '85%', '98%', '99%'], dtype=object),\n",
       " array([21, 40, 40, 61, 21]))"
      ]
     },
     "execution_count": 191,
     "metadata": {},
     "output_type": "execute_result"
    }
   ],
   "source": [
    "cro_df = cro_df.loc[~cro_df['LifetimeApprovalRate'].str.contains('40%')]\n",
    "uni, cnt = np.unique(cro_df['LifetimeApprovalRate'], return_counts=True)\n",
    "uni, cnt"
   ]
  },
  {
   "cell_type": "code",
   "execution_count": 192,
   "metadata": {},
   "outputs": [
    {
     "data": {
      "text/plain": [
       "HITId                   False\n",
       "HITTypeId               False\n",
       "Title                   False\n",
       "Reward                  False\n",
       "AssignmentId            False\n",
       "WorkerId                False\n",
       "AssignmentStatus        False\n",
       "WorkTimeInSeconds       False\n",
       "LifetimeApprovalRate    False\n",
       "Input1ID                False\n",
       "Input2ID                False\n",
       "Input3ID                False\n",
       "AnswerID                False\n",
       "AnswerLabel             False\n",
       "dtype: bool"
      ]
     },
     "execution_count": 192,
     "metadata": {},
     "output_type": "execute_result"
    }
   ],
   "source": [
    "cro_df[['HITId', 'HITTypeId', 'Title', 'Reward', 'AssignmentId', 'WorkerId',\n",
    "       'AssignmentStatus', 'WorkTimeInSeconds', 'LifetimeApprovalRate',\n",
    "       'Input1ID', 'Input2ID', 'Input3ID', 'AnswerID', 'AnswerLabel']].isna().any()"
   ]
  },
  {
   "cell_type": "code",
   "execution_count": 193,
   "metadata": {},
   "outputs": [],
   "source": [
    "cro_df[['FixPosition', 'FixValue']] = cro_df[['FixPosition', 'FixValue']].fillna('Empty')\n"
   ]
  },
  {
   "cell_type": "code",
   "execution_count": 194,
   "metadata": {},
   "outputs": [
    {
     "data": {
      "text/plain": [
       "(array(['2', 'Empty', 'Object', 'Predicate', 'Subject'], dtype=object),\n",
       " array([  1, 108,  43,  16,  15]))"
      ]
     },
     "execution_count": 194,
     "metadata": {},
     "output_type": "execute_result"
    }
   ],
   "source": [
    "uni, cnt = np.unique(cro_df['FixPosition'], return_counts=True)\n",
    "uni, cnt"
   ]
  },
  {
   "cell_type": "code",
   "execution_count": 195,
   "metadata": {},
   "outputs": [
    {
     "data": {
      "text/plain": [
       "(array(['Empty', 'Object', 'Predicate', 'Subject'], dtype=object),\n",
       " array([108,  43,  16,  15]))"
      ]
     },
     "execution_count": 195,
     "metadata": {},
     "output_type": "execute_result"
    }
   ],
   "source": [
    "cro_df = cro_df.loc[~cro_df['FixPosition'].str.contains('2')]\n",
    "uni, cnt = np.unique(cro_df['FixPosition'], return_counts=True)\n",
    "uni, cnt"
   ]
  },
  {
   "cell_type": "code",
   "execution_count": 196,
   "metadata": {},
   "outputs": [
    {
     "data": {
      "text/plain": [
       "(array(['10696210', '176997168', '1992-01-01', '2010-01-01', '2011-01-01',\n",
       "        '2014-02-18', '2015-08-27', '2019-02-24', '698491348', '863756051',\n",
       "        'Empty', 'P106', 'P161', 'P17', 'P19', 'P27', 'P344', 'P58',\n",
       "        'Q1168152', 'Q1471671', 'Q15052538', 'Q16795448', 'Q1722254',\n",
       "        'Q17350908', 'Q181900', 'Q1860', 'Q268905', 'Q27703272',\n",
       "        'Q28732985', 'Q3194791', 'Q409022', 'Q5423258', 'Q7360827',\n",
       "        'Q7488442', 'Q884', 'Q908556', 'wd:Q72', 'wd:Q94074', 'wd:Q95073'],\n",
       "       dtype=object),\n",
       " array([  1,   2,   1,   2,   6,   1,   1,   1,   1,   2, 115,   2,   2,\n",
       "          1,   2,   1,   2,   6,   2,   2,   1,   1,   2,   3,   1,   1,\n",
       "          1,   1,   2,   2,   2,   3,   1,   1,   1,   3,   1,   1,   1]))"
      ]
     },
     "execution_count": 196,
     "metadata": {},
     "output_type": "execute_result"
    }
   ],
   "source": [
    "uni, cnt = np.unique(cro_df['FixValue'], return_counts=True)\n",
    "uni, cnt"
   ]
  },
  {
   "cell_type": "code",
   "execution_count": 197,
   "metadata": {},
   "outputs": [],
   "source": [
    "cro_df.to_csv('Datasets/CrowdData/Clean_Cro.tsv', sep='\\t', index=False)"
   ]
  },
  {
   "cell_type": "markdown",
   "metadata": {},
   "source": [
    "#### Aggregate answers"
   ]
  },
  {
   "cell_type": "markdown",
   "metadata": {},
   "source": [
    "##### Correct or not\n",
    "\n"
   ]
  },
  {
   "cell_type": "code",
   "execution_count": 198,
   "metadata": {},
   "outputs": [],
   "source": [
    "cro_groups = cro_df.groupby(['HITId'])"
   ]
  },
  {
   "cell_type": "code",
   "execution_count": 199,
   "metadata": {},
   "outputs": [
    {
     "data": {
      "text/plain": [
       "array(['CORRECT', 'INCORRECT'], dtype=object)"
      ]
     },
     "execution_count": 199,
     "metadata": {},
     "output_type": "execute_result"
    }
   ],
   "source": [
    "cro_df.AnswerLabel.unique()"
   ]
  },
  {
   "cell_type": "code",
   "execution_count": 200,
   "metadata": {},
   "outputs": [
    {
     "data": {
      "text/plain": [
       "HITId\n",
       "1     1.333333\n",
       "2     1.000000\n",
       "3     1.333333\n",
       "4     2.000000\n",
       "5     1.000000\n",
       "        ...   \n",
       "57    1.333333\n",
       "58    2.000000\n",
       "59    1.333333\n",
       "60    1.333333\n",
       "61    1.333333\n",
       "Name: AnswerID, Length: 61, dtype: float64"
      ]
     },
     "execution_count": 200,
     "metadata": {},
     "output_type": "execute_result"
    }
   ],
   "source": [
    "cro_groups['AnswerID'].mean() # (1: correct) (2: not correct)"
   ]
  },
  {
   "cell_type": "code",
   "execution_count": 201,
   "metadata": {},
   "outputs": [],
   "source": [
    "group_answers = cro_groups['AnswerID'].mean() <= 1.5"
   ]
  },
  {
   "cell_type": "code",
   "execution_count": 202,
   "metadata": {},
   "outputs": [],
   "source": [
    "cro_df['GroupAnswers'] = True"
   ]
  },
  {
   "cell_type": "code",
   "execution_count": 203,
   "metadata": {},
   "outputs": [
    {
     "name": "stderr",
     "output_type": "stream",
     "text": [
      "/var/folders/n1/jzjs4b3110sdywn5jrzt87_00000gn/T/ipykernel_11012/1871279393.py:2: SettingWithCopyWarning: \n",
      "A value is trying to be set on a copy of a slice from a DataFrame\n",
      "\n",
      "See the caveats in the documentation: https://pandas.pydata.org/pandas-docs/stable/user_guide/indexing.html#returning-a-view-versus-a-copy\n",
      "  cro_df['GroupAnswers'].loc[i] = group_answers[cro_df['HITId'].loc[i]]\n"
     ]
    }
   ],
   "source": [
    "for i in cro_df.index:\n",
    "    cro_df['GroupAnswers'].loc[i] = group_answers[cro_df['HITId'].loc[i]]\n",
    "    # cro_df.loc[i] = row"
   ]
  },
  {
   "cell_type": "code",
   "execution_count": 204,
   "metadata": {},
   "outputs": [],
   "source": [
    "cro_df.to_csv('Datasets/CrowdData/Clean_Cro.tsv', sep='\\t', index=False)"
   ]
  },
  {
   "cell_type": "markdown",
   "metadata": {},
   "source": [
    "##### Inter-rater agreement (0.72), voting counts(2 vs 1)"
   ]
  },
  {
   "cell_type": "code",
   "execution_count": 205,
   "metadata": {},
   "outputs": [],
   "source": [
    "# !python -m pip install statsmodels"
   ]
  },
  {
   "cell_type": "code",
   "execution_count": 206,
   "metadata": {},
   "outputs": [],
   "source": [
    "import statsmodels.stats.inter_rater as inter_rater"
   ]
  },
  {
   "cell_type": "code",
   "execution_count": 207,
   "metadata": {},
   "outputs": [],
   "source": [
    "value_counts = cro_groups['AnswerID'].value_counts() # (1: correct) (2: not correct)"
   ]
  },
  {
   "cell_type": "code",
   "execution_count": 208,
   "metadata": {},
   "outputs": [
    {
     "data": {
      "text/plain": [
       "True"
      ]
     },
     "execution_count": 208,
     "metadata": {},
     "output_type": "execute_result"
    }
   ],
   "source": [
    "1 in value_counts[2].keys()"
   ]
  },
  {
   "cell_type": "code",
   "execution_count": 209,
   "metadata": {},
   "outputs": [
    {
     "name": "stderr",
     "output_type": "stream",
     "text": [
      "/var/folders/n1/jzjs4b3110sdywn5jrzt87_00000gn/T/ipykernel_11012/2414159177.py:9: SettingWithCopyWarning: \n",
      "A value is trying to be set on a copy of a slice from a DataFrame\n",
      "\n",
      "See the caveats in the documentation: https://pandas.pydata.org/pandas-docs/stable/user_guide/indexing.html#returning-a-view-versus-a-copy\n",
      "  cro_df['TrueCount'].loc[i] = di[1]\n",
      "/var/folders/n1/jzjs4b3110sdywn5jrzt87_00000gn/T/ipykernel_11012/2414159177.py:11: SettingWithCopyWarning: \n",
      "A value is trying to be set on a copy of a slice from a DataFrame\n",
      "\n",
      "See the caveats in the documentation: https://pandas.pydata.org/pandas-docs/stable/user_guide/indexing.html#returning-a-view-versus-a-copy\n",
      "  cro_df['FalseCount'].loc[i] = di[2]\n"
     ]
    }
   ],
   "source": [
    "cro_df['TrueCount'] = 0\n",
    "cro_df['FalseCount'] = 0\n",
    "# cro_df['Agreement'] = 0.\n",
    "batches = [[],[],[]]\n",
    "HITId = None\n",
    "for i in cro_df.index:\n",
    "    di = value_counts[cro_df['HITId'].loc[i]]\n",
    "    if 1 in di.keys():\n",
    "        cro_df['TrueCount'].loc[i] = di[1]\n",
    "    if 2 in di.keys():\n",
    "        cro_df['FalseCount'].loc[i] = di[2]\n",
    "    \n",
    "    if HITId != cro_df['HITId'].loc[i]:\n",
    "        HITId = cro_df['HITId'].loc[i]\n",
    "        if cro_df['HITTypeId'].loc[i] == '7QT':\n",
    "            batches[0].append([cro_df['TrueCount'].loc[i], cro_df['FalseCount'].loc[i]])\n",
    "        elif cro_df['HITTypeId'].loc[i] == '8QT':\n",
    "            batches[1].append([cro_df['TrueCount'].loc[i], cro_df['FalseCount'].loc[i]])\n",
    "        elif cro_df['HITTypeId'].loc[i] == '9QT':\n",
    "            batches[2].append([cro_df['TrueCount'].loc[i], cro_df['FalseCount'].loc[i]])    \n",
    "\n",
    "    # cro_df['Agreement'].loc[i] = round(inter_rater.fleiss_kappa(np.array([cro_df['TrueCount'].loc[i], cro_df['FalseCount'].loc[i]]).reshape(-1, 1)), 2)\n",
    "    # cro_df.loc[i] = row"
   ]
  },
  {
   "cell_type": "code",
   "execution_count": 210,
   "metadata": {},
   "outputs": [],
   "source": [
    "cro_batches = cro_df.groupby('HITTypeId')"
   ]
  },
  {
   "cell_type": "code",
   "execution_count": 211,
   "metadata": {},
   "outputs": [
    {
     "data": {
      "text/plain": [
       "HITTypeId  AnswerID\n",
       "7QT        1.0         33\n",
       "           2.0         30\n",
       "8QT        2.0         35\n",
       "           1.0         25\n",
       "9QT        1.0         32\n",
       "           2.0         27\n",
       "Name: AnswerID, dtype: int64"
      ]
     },
     "execution_count": 211,
     "metadata": {},
     "output_type": "execute_result"
    }
   ],
   "source": [
    "batch_value_counts = cro_batches['AnswerID'].value_counts() # (1: correct) (2: not correct)\n",
    "batch_value_counts"
   ]
  },
  {
   "cell_type": "code",
   "execution_count": 212,
   "metadata": {},
   "outputs": [
    {
     "data": {
      "text/plain": [
       "0.55"
      ]
     },
     "execution_count": 212,
     "metadata": {},
     "output_type": "execute_result"
    }
   ],
   "source": [
    "arr = np.array([[2,1],[0,3],[1,2],[1,2],[3,0],[3,0],[0,3],[0,3],[0,3],[0,3]])\n",
    "# arr = np.array([[2, 1], [2, 1], [2, 1], [3, 0], [3, 0], [3, 0], [2, 1], [2, 1], [2, 1], [0, 3], [0, 3], [0, 3], [3, 0], [3, 0], [3, 0], [1, 2], [1, 2], [1, 2], [2, 1], [2, 1], [2, 1], [0, 3], [0, 3], [0, 3], [0, 3], [0, 3], [0, 3], [1, 2], [1, 2], [1, 2], [2, 1], [2, 1], [2, 1], [3, 0], [3, 0], [3, 0], [2, 1], [2, 1], [2, 1], [0, 3], [0, 3], [0, 3], [3, 0], [3, 0], [3, 0], [2, 1], [2, 1], [2, 1], [1, 2], [1, 2], [1, 2], [3, 0], [3, 0], [3, 0], [1, 2], [1, 2], [1, 2], [1, 2], [1, 2], [1, 2], [1, 2], [1, 2], [1, 2]])\n",
    "# arr = np.array([[1, 2], [1, 2], [1, 2], [0, 3], [0, 3], [0, 3], [0, 3], [0, 3], [0, 3], [1, 2], [1, 2], [1, 2], [0, 3], [0, 3], [0, 3], [0, 3], [0, 3], [0, 3], [2, 1], [2, 1], [2, 1], [2, 1], [2, 1], [2, 1], [3, 0], [3, 0], [3, 0], [3, 0], [3, 0], [3, 0], [3, 0], [3, 0], [3, 0], [3, 0], [3, 0], [3, 0], [2, 1], [2, 1], [2, 1], [2, 1], [2, 1], [2, 1], [2, 1], [2, 1], [2, 1], [2, 1], [2, 1], [2, 1], [0, 2], [0, 2], [2, 1], [2, 1], [2, 1], [2, 1], [2, 1], [2, 1], [2, 1], [2, 1], [2, 1]])\n",
    "inter_rater.fleiss_kappa(arr)"
   ]
  },
  {
   "cell_type": "code",
   "execution_count": 213,
   "metadata": {},
   "outputs": [],
   "source": [
    "# init_data = pd.read_csv('Datasets/CrowdData/crowd_data.tsv', sep='\\t')\n",
    "# init_batches = init_data.groupby('HITTypeId')\n",
    "# batches = [[],[],[]]\n",
    "# init_groups = init_data.groupby(['HITId'])\n",
    "\n",
    "# # TODO  \n",
    "# value_counts = init_groups['AnswerID'].value_counts() # (1: correct) (2: not correct)\n",
    "# init_data['TrueCount'] = 0\n",
    "# init_data['FalseCount'] = 0\n",
    "# # cro_df['Agreement'] = 0.\n",
    "# batches = [[],[],[]]\n",
    "# for i in init_data.index:\n",
    "#     di = value_counts[init_data['HITId'].loc[i]]\n",
    "#     if 1 in di.keys():\n",
    "#         init_data['TrueCount'].loc[i] = di[1]\n",
    "#     if 2 in di.keys():\n",
    "#         init_data['FalseCount'].loc[i] = di[2]\n",
    "#     if init_data['HITTypeId'].loc[i] == '7QT':\n",
    "#         batches[0].append([init_data['TrueCount'].loc[i], init_data['FalseCount'].loc[i]])\n",
    "#     elif init_data['HITTypeId'].loc[i] == '8QT':\n",
    "#         batches[1].append([init_data['TrueCount'].loc[i], init_data['FalseCount'].loc[i]])\n",
    "#     elif init_data['HITTypeId'].loc[i] == '9QT':\n",
    "#         batches[2].append([init_data['TrueCount'].loc[i], init_data['FalseCount'].loc[i]])\n",
    "#     # cro_df['Agreement'].loc[i] = round(inter_rater.fleiss_kappa(np.array([cro_df['TrueCount'].loc[i], cro_df['FalseCount'].loc[i]]).reshape(-1, 1)), 2)\n",
    "#     # cro_df.loc[i] = row"
   ]
  },
  {
   "cell_type": "code",
   "execution_count": 218,
   "metadata": {},
   "outputs": [
    {
     "data": {
      "text/plain": [
       "[0.24, 0.04, 0.26]"
      ]
     },
     "execution_count": 218,
     "metadata": {},
     "output_type": "execute_result"
    }
   ],
   "source": [
    "# batches[2][-4][1] = 3\n",
    "fks = []\n",
    "for batch in batches:\n",
    "    # print(batch)\n",
    "    fk = round(inter_rater.fleiss_kappa(np.array(batch)), 2)\n",
    "    fks.append(fk)\n",
    "fks\n"
   ]
  },
  {
   "cell_type": "code",
   "execution_count": 219,
   "metadata": {},
   "outputs": [
    {
     "name": "stderr",
     "output_type": "stream",
     "text": [
      "/var/folders/n1/jzjs4b3110sdywn5jrzt87_00000gn/T/ipykernel_11012/3954602207.py:4: SettingWithCopyWarning: \n",
      "A value is trying to be set on a copy of a slice from a DataFrame\n",
      "\n",
      "See the caveats in the documentation: https://pandas.pydata.org/pandas-docs/stable/user_guide/indexing.html#returning-a-view-versus-a-copy\n",
      "  cro_df['Agreement'].loc[i] = fks[0]\n",
      "/var/folders/n1/jzjs4b3110sdywn5jrzt87_00000gn/T/ipykernel_11012/3954602207.py:6: SettingWithCopyWarning: \n",
      "A value is trying to be set on a copy of a slice from a DataFrame\n",
      "\n",
      "See the caveats in the documentation: https://pandas.pydata.org/pandas-docs/stable/user_guide/indexing.html#returning-a-view-versus-a-copy\n",
      "  cro_df['Agreement'].loc[i] = fks[1]\n",
      "/var/folders/n1/jzjs4b3110sdywn5jrzt87_00000gn/T/ipykernel_11012/3954602207.py:8: SettingWithCopyWarning: \n",
      "A value is trying to be set on a copy of a slice from a DataFrame\n",
      "\n",
      "See the caveats in the documentation: https://pandas.pydata.org/pandas-docs/stable/user_guide/indexing.html#returning-a-view-versus-a-copy\n",
      "  cro_df['Agreement'].loc[i] = fks[2]\n"
     ]
    }
   ],
   "source": [
    "\n",
    "cro_df['Agreement'] = 0.\n",
    "for i in cro_df.index:\n",
    "    if cro_df['HITTypeId'].loc[i] == '7QT':\n",
    "        cro_df['Agreement'].loc[i] = fks[0]\n",
    "    elif cro_df['HITTypeId'].loc[i] == '8QT':\n",
    "        cro_df['Agreement'].loc[i] = fks[1]    \n",
    "    elif cro_df['HITTypeId'].loc[i] == '9QT':\n",
    "        cro_df['Agreement'].loc[i] = fks[2]"
   ]
  },
  {
   "cell_type": "code",
   "execution_count": 220,
   "metadata": {},
   "outputs": [],
   "source": [
    "cro_df.to_csv('Datasets/CrowdData/Clean_Cro.tsv', sep='\\t', index=False)"
   ]
  },
  {
   "cell_type": "markdown",
   "metadata": {},
   "source": [
    "## TEST DATASET CREATION"
   ]
  },
  {
   "cell_type": "markdown",
   "metadata": {},
   "source": [
    "### Factual and Embedding"
   ]
  },
  {
   "cell_type": "code",
   "execution_count": 2,
   "metadata": {},
   "outputs": [],
   "source": [
    "import pandas as pd"
   ]
  },
  {
   "cell_type": "code",
   "execution_count": 3,
   "metadata": {},
   "outputs": [],
   "source": [
    "df_drop_na = pd.read_csv('name_Qwiki_Qid.tsv', sep='\\t')"
   ]
  },
  {
   "cell_type": "code",
   "execution_count": 4,
   "metadata": {},
   "outputs": [],
   "source": [
    "names = list(df_drop_na['Str'])"
   ]
  },
  {
   "cell_type": "code",
   "execution_count": 5,
   "metadata": {},
   "outputs": [],
   "source": [
    "df_relation = pd.read_csv('Datasets/Big_graph_very_clean.tsv', sep='\\t', header=None)"
   ]
  },
  {
   "cell_type": "code",
   "execution_count": 6,
   "metadata": {},
   "outputs": [],
   "source": [
    "import pickle\n",
    "with open('P2label.pickle', 'rb') as handle:\n",
    "    P2label = pickle.load(handle)\n",
    "labels = list(P2label.values())"
   ]
  },
  {
   "cell_type": "code",
   "execution_count": 7,
   "metadata": {},
   "outputs": [
    {
     "name": "stdout",
     "output_type": "stream",
     "text": [
      "150152 251 2010463\n"
     ]
    }
   ],
   "source": [
    "Qs = names\n",
    "Ps = labels\n",
    "relations = df_relation\n",
    "print(len(Qs), len(Ps), len(relations))"
   ]
  },
  {
   "cell_type": "code",
   "execution_count": null,
   "metadata": {},
   "outputs": [],
   "source": [
    "### some fun examples\n",
    "# St Trinian's\tcast member ? (multiple answers)\n",
    "# instance of 隶属于"
   ]
  },
  {
   "cell_type": "markdown",
   "metadata": {},
   "source": [
    "### Give P Categroies"
   ]
  },
  {
   "cell_type": "code",
   "execution_count": null,
   "metadata": {},
   "outputs": [],
   "source": [
    "group_1 = []\n",
    "group_others = []\n",
    "for i, P in enumerate(Ps):\n",
    "    print(\"Type 1, id {} : {} of Q1 is Q2, or Q2 is {} of Q1\".format(i, P, P))\n",
    "    label = input()\n",
    "    if label == 1:\n",
    "        group_1.append(P)\n",
    "    else:\n",
    "        group_others.append(P)"
   ]
  },
  {
   "cell_type": "markdown",
   "metadata": {},
   "source": [
    "11 distributed by\n",
    "21 named after\n",
    "31 different from\n",
    "<!-- 33 based on -->\n",
    "48 educated at\n",
    "62 fictional universe described in\n",
    "112 owner of\n",
    "131 opposite of\n",
    "141 conferred by\n",
    "181 permanent resident of\n",
    "203 facet of\n",
    "246 archives at\n",
    "\n",
    "99 group2 \n",
    "151 \n",
    "166 \n",
    "209 \n"
   ]
  },
  {
   "cell_type": "code",
   "execution_count": 8,
   "metadata": {},
   "outputs": [],
   "source": [
    "wr1 = [\"distributed by\", \"named after\", \"based on\", \"different from\", \"educated at\", \"fictional universe described in\", \\\n",
    "    \"conferred by\", ]\n",
    "wr2 = [\"EIRIN film rating\", \"business model\", \"form of creative work\", \"broadcast by\"]\n",
    "\n",
    "# for wr in wr1:\n",
    "#     if wr in group_1:\n",
    "#         group_1.remove(wr)\n",
    "#     if wr not in group_others:\n",
    "#         group_others.append(wr)\n",
    "\n",
    "# for wr in wr2:\n",
    "#     if wr in group_others:\n",
    "#         group_others.remove(wr)\n",
    "#     if wr not in group_1:\n",
    "#         group_1.append(wr)"
   ]
  },
  {
   "cell_type": "code",
   "execution_count": 9,
   "metadata": {},
   "outputs": [],
   "source": [
    "sub_relations = relations[:5000]"
   ]
  },
  {
   "cell_type": "code",
   "execution_count": 10,
   "metadata": {},
   "outputs": [],
   "source": [
    "group1 = Ps\n",
    "group2 = [\"owner of\", \"opposite of\",  \"permanent resident of\", \"facet of\", \"archives at\"]\n",
    "group3 = [\"distributed by\", \"named after\", \"based on\", \"different from\", \"educated at\", \"fictional universe described in\", \\\n",
    "    \"conferred by\", ]\n",
    "\n",
    "for s in group2:\n",
    "    group1.remove(s)\n",
    "for s in group3:\n",
    "    group1.remove(s)\n"
   ]
  },
  {
   "cell_type": "code",
   "execution_count": 11,
   "metadata": {},
   "outputs": [
    {
     "data": {
      "text/plain": [
       "251"
      ]
     },
     "execution_count": 11,
     "metadata": {},
     "output_type": "execute_result"
    }
   ],
   "source": [
    "len(group1) + len(group2) + len(group3)"
   ]
  },
  {
   "cell_type": "code",
   "execution_count": 12,
   "metadata": {},
   "outputs": [],
   "source": [
    "import numpy as np"
   ]
  },
  {
   "cell_type": "code",
   "execution_count": 16,
   "metadata": {},
   "outputs": [],
   "source": [
    "def choose_template(Q1, P, type, Q2=None):\n",
    "\n",
    "    Templates_group1 = [\n",
    "        \"What is the {} of {}?\".format(P, Q1),\n",
    "        \"What is {}'s {}?\".format(Q1, P),\n",
    "        \"Tell me the {} of {}.\".format(P, Q1),\n",
    "        \"Do you know the {} of {}?\".format(P, Q1),\n",
    "        \"Can you tell me the {} of {}?\".format(P, Q1)\n",
    "        ]\n",
    "\n",
    "    Templates_group2 = [\n",
    "        \"What is the {} {}?\".format(P, Q1),\n",
    "        \"Tell me what is {} {}.\".format(P, Q1),\n",
    "        \"Do you know the {} {}?\".format(P, Q1),\n",
    "        \"Can you tell me what is {} {}?\".format(P, Q1),\n",
    "        \n",
    "    ]\n",
    "\n",
    "    Templates_group3 = [\n",
    "        \"What is {} {}?\".format(Q1, P),\n",
    "        \"Tell me what is {} {}.\".format(Q1, P),\n",
    "        \"Can you tell me what is {} {}?\".format(Q1, P)\n",
    "    ]\n",
    "\n",
    "    if type == 1:\n",
    "        return Templates_group1[np.random.randint(len(Templates_group1))]\n",
    "    elif type == 2:\n",
    "        return Templates_group2[np.random.randint(len(Templates_group2))]\n",
    "    else:\n",
    "        return Templates_group3[np.random.randint(len(Templates_group3))]"
   ]
  },
  {
   "cell_type": "code",
   "execution_count": 17,
   "metadata": {},
   "outputs": [],
   "source": [
    "Questions = list()\n",
    "Q1s = list()\n",
    "Ps = list()\n",
    "Q2s = list()\n",
    "for i, row in relations.iterrows():\n",
    "    Q1, P, Q2 = row[0], row[1], row[2]\n",
    "    if P in group3:\n",
    "        type = 3\n",
    "    elif P in group2:\n",
    "        type = 2\n",
    "    else:\n",
    "        type = 1\n",
    "    s = choose_template(Q1, P, type)\n",
    "    # print(s)\n",
    "    Questions.append(s)\n",
    "    Q1s.append(Q1)\n",
    "    Ps.append(P)\n",
    "    Q2s.append(Q2)\n"
   ]
  },
  {
   "cell_type": "code",
   "execution_count": 18,
   "metadata": {},
   "outputs": [],
   "source": [
    "dataset = pd.DataFrame(data = {'Question': Questions, 'Q1': Q1s, 'P': Ps, 'Q2':Q2s})\n",
    "# small_dataset = pd.DataFrame(data = {'X': X, 'y': y})\n",
    "dataset.to_csv('Datasets/Testsets/Fac_Emb_Testset.tsv', sep='\\t', index=False)\n",
    "# small_dataset.to_csv('Datasets/Relations_small_X_y.tsv', sep='\\t', index=False)"
   ]
  },
  {
   "cell_type": "markdown",
   "metadata": {},
   "source": [
    "### Multimedia"
   ]
  },
  {
   "cell_type": "code",
   "execution_count": 19,
   "metadata": {},
   "outputs": [],
   "source": [
    "def choose_template_mul(Q1):\n",
    "\n",
    "    Templates_group = [\n",
    "        \"Show me a picture of {}?\".format(Q1),\n",
    "        \"What does {} look like?\".format(Q1),\n",
    "        \"Let me know what {} looks like.\".format(Q1),\n",
    "        ]\n",
    "\n",
    "    return Templates_group[np.random.randint(len(Templates_group))]"
   ]
  },
  {
   "cell_type": "code",
   "execution_count": 20,
   "metadata": {},
   "outputs": [],
   "source": [
    "with open('Datasets/ImageData/id2Code.pickle', 'rb') as handle:\n",
    "    id2Code = pickle.load(handle)"
   ]
  },
  {
   "cell_type": "code",
   "execution_count": 21,
   "metadata": {},
   "outputs": [],
   "source": [
    "mul_relations = df_relation[:20000]\n",
    "mul_relations = mul_relations.loc[mul_relations.iloc[:, 1].str.contains('IMDb ID')]"
   ]
  },
  {
   "cell_type": "code",
   "execution_count": 33,
   "metadata": {},
   "outputs": [],
   "source": [
    "Questions = list()\n",
    "Q1s = list()\n",
    "Ps = list()\n",
    "Q2s = list()\n",
    "codes = list()\n",
    "\n",
    "for i, row in mul_relations.iterrows():\n",
    "    id = row[2]\n",
    "    Q1 = row[0]\n",
    "    P = row[1]\n",
    "    Q2 = id\n",
    "    if id in id2Code.keys():\n",
    "        s = choose_template_mul(Q1)\n",
    "        # print(s)\n",
    "        Questions.append(s)\n",
    "        Q1s.append(Q1)\n",
    "        Ps.append(P)\n",
    "        Q2s.append(Q2)\n",
    "        codes.append(id2Code[id])\n"
   ]
  },
  {
   "cell_type": "code",
   "execution_count": 34,
   "metadata": {},
   "outputs": [],
   "source": [
    "dataset = pd.DataFrame(data = {'Question': Questions, 'Q1': Q1s, 'P': Ps, 'Q2':Q2s, 'Code': codes})\n",
    "# small_dataset = pd.DataFrame(data = {'X': X, 'y': y})\n",
    "dataset.to_csv('Datasets/Testsets/Mul_Testset.tsv', sep='\\t', index=False)"
   ]
  },
  {
   "cell_type": "markdown",
   "metadata": {},
   "source": [
    "### Recommend"
   ]
  },
  {
   "cell_type": "code",
   "execution_count": 39,
   "metadata": {},
   "outputs": [],
   "source": [
    "def choose_template_mul(Qs):\n",
    "\n",
    "    Templates_group = [\n",
    "        \"Recommend movies similar to {}.\".format(', '.join(Qs)),\n",
    "        \"Given that I like {}, can you recommend some movies?\".format(', '.join(Qs)),\n",
    "        \"Recommend movies like {}.\".format(', '.join(Qs)),\n",
    "        ]\n",
    "\n",
    "    return Templates_group[np.random.randint(len(Templates_group))]"
   ]
  },
  {
   "cell_type": "code",
   "execution_count": 43,
   "metadata": {},
   "outputs": [],
   "source": [
    "rec_relations = df_relation[:20000]\n",
    "rec_relations = rec_relations.loc[rec_relations.iloc[:, 1].str.contains('instance of') & rec_relations.iloc[:, 2].str.contains('film')]"
   ]
  },
  {
   "cell_type": "code",
   "execution_count": 75,
   "metadata": {},
   "outputs": [],
   "source": [
    "Questions = list()\n",
    "\n",
    "for i in range(5000):\n",
    "    \n",
    "    Qs = [np.random.choice(rec_relations.iloc[:, 0]) for i in range(np.random.randint(2,5)) ]\n",
    "    s = choose_template_mul(Qs)\n",
    "    # print(s)\n",
    "    Questions.append(s)\n"
   ]
  },
  {
   "cell_type": "code",
   "execution_count": 76,
   "metadata": {},
   "outputs": [],
   "source": [
    "dataset = pd.DataFrame(data = {'Question': Questions})\n",
    "# small_dataset = pd.DataFrame(data = {'X': X, 'y': y})\n",
    "dataset.to_csv('Datasets/Testsets/Rec_Testset.tsv', sep='\\t', index=False)"
   ]
  },
  {
   "cell_type": "markdown",
   "metadata": {},
   "source": [
    "### Crowding"
   ]
  },
  {
   "cell_type": "code",
   "execution_count": 96,
   "metadata": {},
   "outputs": [],
   "source": [
    "cro_df = pd.read_csv('Datasets/CrowdData/Clean_Cro.tsv', sep='\\t')"
   ]
  },
  {
   "cell_type": "code",
   "execution_count": 97,
   "metadata": {},
   "outputs": [],
   "source": [
    "cro_df = cro_df.drop_duplicates(subset=['HITId'])"
   ]
  },
  {
   "cell_type": "code",
   "execution_count": 98,
   "metadata": {},
   "outputs": [],
   "source": [
    "cro_df = cro_df.loc[cro_df['Input1ID'].str.contains('wd') & cro_df['Input2ID'].str.contains('wdt')]"
   ]
  },
  {
   "cell_type": "code",
   "execution_count": 86,
   "metadata": {},
   "outputs": [],
   "source": [
    "from rdflib.namespace import Namespace, RDF, RDFS, XSD\n",
    "from rdflib.term import URIRef, Literal\n",
    "import csv\n",
    "import json\n",
    "import networkx as nx\n",
    "import rdflib\n",
    "import pywikibot"
   ]
  },
  {
   "cell_type": "code",
   "execution_count": 87,
   "metadata": {},
   "outputs": [
    {
     "data": {
      "text/plain": [
       "<Graph identifier=Nb63a83fb34124aefac4ec5fadd3f8b19 (<class 'rdflib.graph.Graph'>)>"
      ]
     },
     "execution_count": 87,
     "metadata": {},
     "output_type": "execute_result"
    }
   ],
   "source": [
    "graph = rdflib.Graph()\n",
    "graph.parse('Datasets/14_graph.nt', format='turtle')"
   ]
  },
  {
   "cell_type": "code",
   "execution_count": 99,
   "metadata": {},
   "outputs": [],
   "source": [
    "def Qwiki2name_func(Qwiki: str):\n",
    "    if Qwiki == None:\n",
    "        return None\n",
    "    if not Qwiki.startswith('http'):\n",
    "        Qwiki = 'http://www.wikidata.org/entity/{}'.format(Qwiki)\n",
    "    sql = \\\n",
    "        \"\"\"\n",
    "    prefix wdt: <http://www.wikidata.org/prop/direct/> \n",
    "    prefix wd: <http://www.wikidata.org/entity/> \n",
    "    SELECT ?lbl\n",
    "    WHERE{\n",
    "    <%s> rdfs:label ?lbl.\n",
    "    FILTER(LANG(?lbl)='en')\n",
    "    }\n",
    "\n",
    "    \"\"\" % (Qwiki)\n",
    "\n",
    "    tl = list(graph.query(sql))\n",
    "    if len(tl)>0:\n",
    "        for t in tl:\n",
    "            for m in t:\n",
    "                print(str(m))\n",
    "                return str(m)\n",
    "    else:\n",
    "        return None\n",
    "\n",
    "\n"
   ]
  },
  {
   "cell_type": "code",
   "execution_count": 90,
   "metadata": {},
   "outputs": [],
   "source": [
    "with open('P2label.pickle', 'rb') as handle:\n",
    "    P2label = pickle.load(handle)"
   ]
  },
  {
   "cell_type": "code",
   "execution_count": null,
   "metadata": {},
   "outputs": [],
   "source": [
    "Questions = list()\n",
    "Q1s = list()\n",
    "Ps = list()\n",
    "for i, row in cro_df.iterrows():\n",
    "    Q1, P = str(row['Input1ID']).removeprefix('wd:'), str(row['Input2ID']).removeprefix('wdt:')\n",
    "    print(Q1, P)\n",
    "    if P not in P2label.keys():\n",
    "        continue\n",
    "    Q1, P = Qwiki2name_func(Q1), P2label[P]\n",
    "    if P in group3:\n",
    "        type = 3\n",
    "    elif P in group2:\n",
    "        type = 2\n",
    "    else:\n",
    "        type = 1\n",
    "    s = choose_template(Q1, P, type)\n",
    "    print(s)\n",
    "    Questions.append(s)\n",
    "    Q1s.append(Q1)\n",
    "    Ps.append(P)"
   ]
  },
  {
   "cell_type": "code",
   "execution_count": 102,
   "metadata": {},
   "outputs": [],
   "source": [
    "dataset = pd.DataFrame(data = {'Question': Questions, 'Q1': Q1s, 'P': Ps})\n",
    "# small_dataset = pd.DataFrame(data = {'X': X, 'y': y})\n",
    "dataset.to_csv('Datasets/Testsets/Cro_Testset.tsv', sep='\\t', index=False)"
   ]
  }
 ],
 "metadata": {
  "kernelspec": {
   "display_name": "Python 3.9.13 ('AI')",
   "language": "python",
   "name": "python3"
  },
  "language_info": {
   "codemirror_mode": {
    "name": "ipython",
    "version": 3
   },
   "file_extension": ".py",
   "mimetype": "text/x-python",
   "name": "python",
   "nbconvert_exporter": "python",
   "pygments_lexer": "ipython3",
   "version": "3.9.13"
  },
  "orig_nbformat": 4,
  "vscode": {
   "interpreter": {
    "hash": "7c9889e10671cbc5f4f82c659fe85d5ab47069df083cca30a1a6942fb1aa504d"
   }
  }
 },
 "nbformat": 4,
 "nbformat_minor": 2
}
