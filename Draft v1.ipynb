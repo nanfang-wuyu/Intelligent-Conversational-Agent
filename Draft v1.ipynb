{
 "cells": [
  {
   "cell_type": "code",
   "execution_count": null,
   "metadata": {},
   "outputs": [],
   "source": []
  },
  {
   "cell_type": "markdown",
   "metadata": {},
   "source": [
    "## Datasets Provided to Use:\n",
    "\n",
    "- Knowledge Graph\n",
    "- Multimedia\n",
    "- Pre-trained KG Embeddings\n",
    "- Crowd Sourcing\n",
    "\n",
    "## Five Questions Types\n",
    "- Factual Questions -- based on knowledge graph\n",
    "- Embedding Questions -- based on pre-trained embeddings\n",
    "- Multimedia Questions -- based on multimedia\n",
    "- Recommendation Questions -- based on knowledge graph\n",
    "- Crowdsourcing Questions -- based on crowd sourcing\n"
   ]
  },
  {
   "cell_type": "markdown",
   "metadata": {},
   "source": [
    "## Knowledge Graph\n",
    "\n",
    "Idea: either use KG to text embeddings -->, then NLP; or use KGQA system, directly <--.\n",
    "\n",
    "knowledge-based question answering\n",
    "\n",
    "entity linking\n",
    "\n",
    "QA tutorial page 20\n",
    "\n",
    "closed-domain systems\n",
    "https://towardsdatascience.com/how-to-create-your-own-question-answering-system-easily-with-python-2ef8abc8eb5\n",
    "https://www.mindmeld.com/docs/userguide/kb.html\n"
   ]
  },
  {
   "cell_type": "markdown",
   "metadata": {},
   "source": [
    "User sent --> <Some method NER?/ CNN? /fasttext?/ Entity linking> --> Entity-relation-Entity / Entity-attribute-value\n",
    "--> <SPARQL> / <Neo4j> --> answer"
   ]
  },
  {
   "cell_type": "markdown",
   "metadata": {},
   "source": [
    "recommend: genre, publication date, tag, director?"
   ]
  }
 ],
 "metadata": {
  "kernelspec": {
   "display_name": "Python 3.9.13 ('AI')",
   "language": "python",
   "name": "python3"
  },
  "language_info": {
   "name": "python",
   "version": "3.9.13"
  },
  "orig_nbformat": 4,
  "vscode": {
   "interpreter": {
    "hash": "7c9889e10671cbc5f4f82c659fe85d5ab47069df083cca30a1a6942fb1aa504d"
   }
  }
 },
 "nbformat": 4,
 "nbformat_minor": 2
}
